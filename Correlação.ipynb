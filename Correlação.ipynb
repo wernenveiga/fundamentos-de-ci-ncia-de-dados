{
  "nbformat": 4,
  "nbformat_minor": 0,
  "metadata": {
    "colab": {
      "name": "Correlação.ipynb",
      "provenance": [],
      "authorship_tag": "ABX9TyPUMuxlyNmAvt3ZjGMzFG0f",
      "include_colab_link": true
    },
    "kernelspec": {
      "name": "python3",
      "display_name": "Python 3"
    },
    "language_info": {
      "name": "python"
    }
  },
  "cells": [
    {
      "cell_type": "markdown",
      "metadata": {
        "id": "view-in-github",
        "colab_type": "text"
      },
      "source": [
        "<a href=\"https://colab.research.google.com/github/wernenveiga/fundamentos-de-ciencia-de-dados/blob/main/Correla%C3%A7%C3%A3o.ipynb\" target=\"_parent\"><img src=\"https://colab.research.google.com/assets/colab-badge.svg\" alt=\"Open In Colab\"/></a>"
      ]
    },
    {
      "cell_type": "markdown",
      "source": [
        "\n",
        "#Correlação\n",
        "---\n",
        "\n"
      ],
      "metadata": {
        "id": "gqv1Ke9XPyXm"
      }
    },
    {
      "cell_type": "markdown",
      "source": [
        "##Bibliotecas"
      ],
      "metadata": {
        "id": "0mJtwcDjP2ZZ"
      }
    },
    {
      "cell_type": "code",
      "source": [
        "import pandas as pd\n",
        "import numpy as np\n",
        "from sklearn import linear_model\n",
        "from sklearn.metrics import mean_squared_error, r2_score\n",
        "\n",
        "import matplotlib.pyplot as plt\n",
        "from pandas.plotting import scatter_matrix"
      ],
      "metadata": {
        "id": "ihKpg77kP1vu"
      },
      "execution_count": 65,
      "outputs": []
    },
    {
      "cell_type": "markdown",
      "source": [
        "##Arquivo"
      ],
      "metadata": {
        "id": "WcyGAGz-Qh4N"
      }
    },
    {
      "cell_type": "code",
      "execution_count": 66,
      "metadata": {
        "id": "V3rieaDWMpCA"
      },
      "outputs": [],
      "source": [
        "arquivo = '/content/Ocean.csv'\n",
        "df_ocean = pd.read_csv(arquivo)"
      ]
    },
    {
      "cell_type": "code",
      "source": [
        "colunas = ['R_TEMP', 'R_SALINITY', 'R_SIGMA', 'R_DYNHT', 'R_SVA', 'R_PRES']\n",
        "colunas"
      ],
      "metadata": {
        "colab": {
          "base_uri": "https://localhost:8080/"
        },
        "id": "IHOTqjKprFhX",
        "outputId": "1eedc43b-f66e-4ed1-afe8-e606b4a1a745"
      },
      "execution_count": 67,
      "outputs": [
        {
          "output_type": "execute_result",
          "data": {
            "text/plain": [
              "['R_TEMP', 'R_SALINITY', 'R_SIGMA', 'R_DYNHT', 'R_SVA', 'R_PRES']"
            ]
          },
          "metadata": {},
          "execution_count": 67
        }
      ]
    },
    {
      "cell_type": "code",
      "source": [
        "df_ocean = pd.DataFrame(df_ocean, columns=colunas)"
      ],
      "metadata": {
        "id": "SL9PXreTrrTD"
      },
      "execution_count": 68,
      "outputs": []
    },
    {
      "cell_type": "code",
      "source": [
        "df_ocean = df_ocean.dropna() #eliminando os valores nulos"
      ],
      "metadata": {
        "id": "4rnFGG_ysdxr"
      },
      "execution_count": 69,
      "outputs": []
    },
    {
      "cell_type": "code",
      "source": [
        "correlacoes = df_ocean.corr()\n",
        "correlacoes"
      ],
      "metadata": {
        "colab": {
          "base_uri": "https://localhost:8080/",
          "height": 238
        },
        "id": "MnRkK82qssv2",
        "outputId": "63c7ee2b-69f0-4569-9692-add5fd69674a"
      },
      "execution_count": 70,
      "outputs": [
        {
          "output_type": "execute_result",
          "data": {
            "text/html": [
              "\n",
              "  <div id=\"df-fac5b3e8-6419-47ac-abc4-c1e00b66fad7\">\n",
              "    <div class=\"colab-df-container\">\n",
              "      <div>\n",
              "<style scoped>\n",
              "    .dataframe tbody tr th:only-of-type {\n",
              "        vertical-align: middle;\n",
              "    }\n",
              "\n",
              "    .dataframe tbody tr th {\n",
              "        vertical-align: top;\n",
              "    }\n",
              "\n",
              "    .dataframe thead th {\n",
              "        text-align: right;\n",
              "    }\n",
              "</style>\n",
              "<table border=\"1\" class=\"dataframe\">\n",
              "  <thead>\n",
              "    <tr style=\"text-align: right;\">\n",
              "      <th></th>\n",
              "      <th>R_TEMP</th>\n",
              "      <th>R_SALINITY</th>\n",
              "      <th>R_SIGMA</th>\n",
              "      <th>R_DYNHT</th>\n",
              "      <th>R_SVA</th>\n",
              "      <th>R_PRES</th>\n",
              "    </tr>\n",
              "  </thead>\n",
              "  <tbody>\n",
              "    <tr>\n",
              "      <th>R_TEMP</th>\n",
              "      <td>1.000000</td>\n",
              "      <td>-0.503253</td>\n",
              "      <td>-0.861314</td>\n",
              "      <td>-0.799284</td>\n",
              "      <td>0.964033</td>\n",
              "      <td>-0.679714</td>\n",
              "    </tr>\n",
              "    <tr>\n",
              "      <th>R_SALINITY</th>\n",
              "      <td>-0.503253</td>\n",
              "      <td>1.000000</td>\n",
              "      <td>0.626443</td>\n",
              "      <td>0.670689</td>\n",
              "      <td>-0.696834</td>\n",
              "      <td>0.575924</td>\n",
              "    </tr>\n",
              "    <tr>\n",
              "      <th>R_SIGMA</th>\n",
              "      <td>-0.861314</td>\n",
              "      <td>0.626443</td>\n",
              "      <td>1.000000</td>\n",
              "      <td>0.731389</td>\n",
              "      <td>-0.897513</td>\n",
              "      <td>0.609144</td>\n",
              "    </tr>\n",
              "    <tr>\n",
              "      <th>R_DYNHT</th>\n",
              "      <td>-0.799284</td>\n",
              "      <td>0.670689</td>\n",
              "      <td>0.731389</td>\n",
              "      <td>1.000000</td>\n",
              "      <td>-0.809869</td>\n",
              "      <td>0.926230</td>\n",
              "    </tr>\n",
              "    <tr>\n",
              "      <th>R_SVA</th>\n",
              "      <td>0.964033</td>\n",
              "      <td>-0.696834</td>\n",
              "      <td>-0.897513</td>\n",
              "      <td>-0.809869</td>\n",
              "      <td>1.000000</td>\n",
              "      <td>-0.673032</td>\n",
              "    </tr>\n",
              "    <tr>\n",
              "      <th>R_PRES</th>\n",
              "      <td>-0.679714</td>\n",
              "      <td>0.575924</td>\n",
              "      <td>0.609144</td>\n",
              "      <td>0.926230</td>\n",
              "      <td>-0.673032</td>\n",
              "      <td>1.000000</td>\n",
              "    </tr>\n",
              "  </tbody>\n",
              "</table>\n",
              "</div>\n",
              "      <button class=\"colab-df-convert\" onclick=\"convertToInteractive('df-fac5b3e8-6419-47ac-abc4-c1e00b66fad7')\"\n",
              "              title=\"Convert this dataframe to an interactive table.\"\n",
              "              style=\"display:none;\">\n",
              "        \n",
              "  <svg xmlns=\"http://www.w3.org/2000/svg\" height=\"24px\"viewBox=\"0 0 24 24\"\n",
              "       width=\"24px\">\n",
              "    <path d=\"M0 0h24v24H0V0z\" fill=\"none\"/>\n",
              "    <path d=\"M18.56 5.44l.94 2.06.94-2.06 2.06-.94-2.06-.94-.94-2.06-.94 2.06-2.06.94zm-11 1L8.5 8.5l.94-2.06 2.06-.94-2.06-.94L8.5 2.5l-.94 2.06-2.06.94zm10 10l.94 2.06.94-2.06 2.06-.94-2.06-.94-.94-2.06-.94 2.06-2.06.94z\"/><path d=\"M17.41 7.96l-1.37-1.37c-.4-.4-.92-.59-1.43-.59-.52 0-1.04.2-1.43.59L10.3 9.45l-7.72 7.72c-.78.78-.78 2.05 0 2.83L4 21.41c.39.39.9.59 1.41.59.51 0 1.02-.2 1.41-.59l7.78-7.78 2.81-2.81c.8-.78.8-2.07 0-2.86zM5.41 20L4 18.59l7.72-7.72 1.47 1.35L5.41 20z\"/>\n",
              "  </svg>\n",
              "      </button>\n",
              "      \n",
              "  <style>\n",
              "    .colab-df-container {\n",
              "      display:flex;\n",
              "      flex-wrap:wrap;\n",
              "      gap: 12px;\n",
              "    }\n",
              "\n",
              "    .colab-df-convert {\n",
              "      background-color: #E8F0FE;\n",
              "      border: none;\n",
              "      border-radius: 50%;\n",
              "      cursor: pointer;\n",
              "      display: none;\n",
              "      fill: #1967D2;\n",
              "      height: 32px;\n",
              "      padding: 0 0 0 0;\n",
              "      width: 32px;\n",
              "    }\n",
              "\n",
              "    .colab-df-convert:hover {\n",
              "      background-color: #E2EBFA;\n",
              "      box-shadow: 0px 1px 2px rgba(60, 64, 67, 0.3), 0px 1px 3px 1px rgba(60, 64, 67, 0.15);\n",
              "      fill: #174EA6;\n",
              "    }\n",
              "\n",
              "    [theme=dark] .colab-df-convert {\n",
              "      background-color: #3B4455;\n",
              "      fill: #D2E3FC;\n",
              "    }\n",
              "\n",
              "    [theme=dark] .colab-df-convert:hover {\n",
              "      background-color: #434B5C;\n",
              "      box-shadow: 0px 1px 3px 1px rgba(0, 0, 0, 0.15);\n",
              "      filter: drop-shadow(0px 1px 2px rgba(0, 0, 0, 0.3));\n",
              "      fill: #FFFFFF;\n",
              "    }\n",
              "  </style>\n",
              "\n",
              "      <script>\n",
              "        const buttonEl =\n",
              "          document.querySelector('#df-fac5b3e8-6419-47ac-abc4-c1e00b66fad7 button.colab-df-convert');\n",
              "        buttonEl.style.display =\n",
              "          google.colab.kernel.accessAllowed ? 'block' : 'none';\n",
              "\n",
              "        async function convertToInteractive(key) {\n",
              "          const element = document.querySelector('#df-fac5b3e8-6419-47ac-abc4-c1e00b66fad7');\n",
              "          const dataTable =\n",
              "            await google.colab.kernel.invokeFunction('convertToInteractive',\n",
              "                                                     [key], {});\n",
              "          if (!dataTable) return;\n",
              "\n",
              "          const docLinkHtml = 'Like what you see? Visit the ' +\n",
              "            '<a target=\"_blank\" href=https://colab.research.google.com/notebooks/data_table.ipynb>data table notebook</a>'\n",
              "            + ' to learn more about interactive tables.';\n",
              "          element.innerHTML = '';\n",
              "          dataTable['output_type'] = 'display_data';\n",
              "          await google.colab.output.renderOutput(dataTable, element);\n",
              "          const docLink = document.createElement('div');\n",
              "          docLink.innerHTML = docLinkHtml;\n",
              "          element.appendChild(docLink);\n",
              "        }\n",
              "      </script>\n",
              "    </div>\n",
              "  </div>\n",
              "  "
            ],
            "text/plain": [
              "              R_TEMP  R_SALINITY   R_SIGMA   R_DYNHT     R_SVA    R_PRES\n",
              "R_TEMP      1.000000   -0.503253 -0.861314 -0.799284  0.964033 -0.679714\n",
              "R_SALINITY -0.503253    1.000000  0.626443  0.670689 -0.696834  0.575924\n",
              "R_SIGMA    -0.861314    0.626443  1.000000  0.731389 -0.897513  0.609144\n",
              "R_DYNHT    -0.799284    0.670689  0.731389  1.000000 -0.809869  0.926230\n",
              "R_SVA       0.964033   -0.696834 -0.897513 -0.809869  1.000000 -0.673032\n",
              "R_PRES     -0.679714    0.575924  0.609144  0.926230 -0.673032  1.000000"
            ]
          },
          "metadata": {},
          "execution_count": 70
        }
      ]
    },
    {
      "cell_type": "code",
      "source": [
        "scatter_matrix(correlacoes, figsize=(9, 9)) #01"
      ],
      "metadata": {
        "colab": {
          "base_uri": "https://localhost:8080/",
          "height": 1000
        },
        "id": "_0bARGbBtPfu",
        "outputId": "44008cb8-a2f2-4734-c5b9-2e556b822f12"
      },
      "execution_count": 71,
      "outputs": [
        {
          "output_type": "execute_result",
          "data": {
            "text/plain": [
              "array([[<matplotlib.axes._subplots.AxesSubplot object at 0x7fd9030c6910>,\n",
              "        <matplotlib.axes._subplots.AxesSubplot object at 0x7fd9064199d0>,\n",
              "        <matplotlib.axes._subplots.AxesSubplot object at 0x7fd903797110>,\n",
              "        <matplotlib.axes._subplots.AxesSubplot object at 0x7fd907eb6210>,\n",
              "        <matplotlib.axes._subplots.AxesSubplot object at 0x7fd912be2910>,\n",
              "        <matplotlib.axes._subplots.AxesSubplot object at 0x7fd902dce450>],\n",
              "       [<matplotlib.axes._subplots.AxesSubplot object at 0x7fd902d6c9d0>,\n",
              "        <matplotlib.axes._subplots.AxesSubplot object at 0x7fd90502fe10>,\n",
              "        <matplotlib.axes._subplots.AxesSubplot object at 0x7fd90502fe50>,\n",
              "        <matplotlib.axes._subplots.AxesSubplot object at 0x7fd904ff2490>,\n",
              "        <matplotlib.axes._subplots.AxesSubplot object at 0x7fd9054ead90>,\n",
              "        <matplotlib.axes._subplots.AxesSubplot object at 0x7fd902f3f2d0>],\n",
              "       [<matplotlib.axes._subplots.AxesSubplot object at 0x7fd907e667d0>,\n",
              "        <matplotlib.axes._subplots.AxesSubplot object at 0x7fd905b17cd0>,\n",
              "        <matplotlib.axes._subplots.AxesSubplot object at 0x7fd9030ce210>,\n",
              "        <matplotlib.axes._subplots.AxesSubplot object at 0x7fd905a56710>,\n",
              "        <matplotlib.axes._subplots.AxesSubplot object at 0x7fd905a1ec10>,\n",
              "        <matplotlib.axes._subplots.AxesSubplot object at 0x7fd905bda150>],\n",
              "       [<matplotlib.axes._subplots.AxesSubplot object at 0x7fd906266650>,\n",
              "        <matplotlib.axes._subplots.AxesSubplot object at 0x7fd912df44d0>,\n",
              "        <matplotlib.axes._subplots.AxesSubplot object at 0x7fd912758850>,\n",
              "        <matplotlib.axes._subplots.AxesSubplot object at 0x7fd9127461d0>,\n",
              "        <matplotlib.axes._subplots.AxesSubplot object at 0x7fd912cd5950>,\n",
              "        <matplotlib.axes._subplots.AxesSubplot object at 0x7fd906c45e10>],\n",
              "       [<matplotlib.axes._subplots.AxesSubplot object at 0x7fd906304490>,\n",
              "        <matplotlib.axes._subplots.AxesSubplot object at 0x7fd905e73e10>,\n",
              "        <matplotlib.axes._subplots.AxesSubplot object at 0x7fd905cb7450>,\n",
              "        <matplotlib.axes._subplots.AxesSubplot object at 0x7fd9037e8a50>,\n",
              "        <matplotlib.axes._subplots.AxesSubplot object at 0x7fd903814b90>,\n",
              "        <matplotlib.axes._subplots.AxesSubplot object at 0x7fd903963690>],\n",
              "       [<matplotlib.axes._subplots.AxesSubplot object at 0x7fd902e9be90>,\n",
              "        <matplotlib.axes._subplots.AxesSubplot object at 0x7fd907e1f4d0>,\n",
              "        <matplotlib.axes._subplots.AxesSubplot object at 0x7fd907e54ad0>,\n",
              "        <matplotlib.axes._subplots.AxesSubplot object at 0x7fd907d97110>,\n",
              "        <matplotlib.axes._subplots.AxesSubplot object at 0x7fd907dcf710>,\n",
              "        <matplotlib.axes._subplots.AxesSubplot object at 0x7fd907d85d10>]],\n",
              "      dtype=object)"
            ]
          },
          "metadata": {},
          "execution_count": 71
        },
        {
          "output_type": "display_data",
          "data": {
            "image/png": "[encoded data removed]",
            "text/plain": [
              "<Figure size 648x648 with 36 Axes>"
            ]
          },
          "metadata": {
            "needs_background": "light"
          }
        }
      ]
    },
    {
      "cell_type": "code",
      "source": [
        "#02\n",
        "plt.matshow(correlacoes)\n",
        "plt.xticks(range(len(correlacoes.columns)), correlacoes.columns)\n",
        "plt.yticks(range(len(correlacoes.columns)), correlacoes.columns)\n",
        "plt.colorbar()\n",
        "plt.show()"
      ],
      "metadata": {
        "colab": {
          "base_uri": "https://localhost:8080/",
          "height": 258
        },
        "id": "kW46dF5ctlYX",
        "outputId": "03c4d847-2480-4ca4-c2d7-3a613c829d67"
      },
      "execution_count": 72,
      "outputs": [
        {
          "output_type": "display_data",
          "data": {
            "image/png": "[encoded data removed]",
            "text/plain": [
              "<Figure size 288x288 with 2 Axes>"
            ]
          },
          "metadata": {
            "needs_background": "light"
          }
        }
      ]
    },
    {
      "cell_type": "code",
      "source": [
        "temperature = df_ocean['R_TEMP']\n",
        "temperature"
      ],
      "metadata": {
        "colab": {
          "base_uri": "https://localhost:8080/"
        },
        "id": "hiA9WUugvcpm",
        "outputId": "9da260db-b064-44f7-9265-55e30b4ff2b9"
      },
      "execution_count": 73,
      "outputs": [
        {
          "output_type": "execute_result",
          "data": {
            "text/plain": [
              "0         10.50\n",
              "1         10.46\n",
              "2         10.46\n",
              "3         10.45\n",
              "4         10.45\n",
              "          ...  \n",
              "864858    18.74\n",
              "864859    18.74\n",
              "864860    18.69\n",
              "864861    18.16\n",
              "864862    17.53\n",
              "Name: R_TEMP, Length: 807121, dtype: float64"
            ]
          },
          "metadata": {},
          "execution_count": 73
        }
      ]
    },
    {
      "cell_type": "code",
      "source": [
        "#01 salinidade\n",
        "salinity = df_ocean['R_SALINITY']\n",
        "salinity"
      ],
      "metadata": {
        "colab": {
          "base_uri": "https://localhost:8080/"
        },
        "id": "SN20BGyvvtNU",
        "outputId": "d9ae3a1b-9827-4de1-81ca-abf898efa1ed"
      },
      "execution_count": 74,
      "outputs": [
        {
          "output_type": "execute_result",
          "data": {
            "text/plain": [
              "0         33.440\n",
              "1         33.440\n",
              "2         33.437\n",
              "3         33.420\n",
              "4         33.421\n",
              "           ...  \n",
              "864858    33.408\n",
              "864859    33.408\n",
              "864860    33.415\n",
              "864861    33.406\n",
              "864862    33.388\n",
              "Name: R_SALINITY, Length: 807121, dtype: float64"
            ]
          },
          "metadata": {},
          "execution_count": 74
        }
      ]
    },
    {
      "cell_type": "code",
      "source": [
        "plt.scatter(salinity, temperature)\n",
        "plt.show()"
      ],
      "metadata": {
        "colab": {
          "base_uri": "https://localhost:8080/",
          "height": 265
        },
        "id": "u_zeCthXv8f4",
        "outputId": "e0fa3568-3c3c-4c95-f39e-7880afa8628a"
      },
      "execution_count": 75,
      "outputs": [
        {
          "output_type": "display_data",
          "data": {
            "image/png": "[encoded data removed]",
            "text/plain": [
              "<Figure size 432x288 with 1 Axes>"
            ]
          },
          "metadata": {
            "needs_background": "light"
          }
        }
      ]
    },
    {
      "cell_type": "code",
      "source": [
        "np.corrcoef(salinity, temperature)"
      ],
      "metadata": {
        "colab": {
          "base_uri": "https://localhost:8080/"
        },
        "id": "zgfiEu0BwX6C",
        "outputId": "8e64b454-6210-4a6d-8539-e514aad2ccbb"
      },
      "execution_count": 76,
      "outputs": [
        {
          "output_type": "execute_result",
          "data": {
            "text/plain": [
              "array([[ 1.        , -0.50325314],\n",
              "       [-0.50325314,  1.        ]])"
            ]
          },
          "metadata": {},
          "execution_count": 76
        }
      ]
    },
    {
      "cell_type": "code",
      "source": [
        "# 2. SVA (anomalias)\n",
        "sva = df_ocean['R_SVA']"
      ],
      "metadata": {
        "id": "Ni2hgbiExIbQ"
      },
      "execution_count": 77,
      "outputs": []
    },
    {
      "cell_type": "code",
      "source": [
        "plt.scatter(sva, temperature)\n",
        "plt.show()"
      ],
      "metadata": {
        "colab": {
          "base_uri": "https://localhost:8080/",
          "height": 265
        },
        "id": "hLjElB2kxYdz",
        "outputId": "4fdfdddc-ce3b-4b2c-900c-962c32d38da7"
      },
      "execution_count": 78,
      "outputs": [
        {
          "output_type": "display_data",
          "data": {
            "image/png": "[encoded data removed]",
            "text/plain": [
              "<Figure size 432x288 with 1 Axes>"
            ]
          },
          "metadata": {
            "needs_background": "light"
          }
        }
      ]
    },
    {
      "cell_type": "code",
      "source": [
        "np.corrcoef(sva, temperature)"
      ],
      "metadata": {
        "colab": {
          "base_uri": "https://localhost:8080/"
        },
        "id": "Azk5PK6fxg37",
        "outputId": "8b3ee5b0-0481-4cc0-df59-e6ed9072ccf5"
      },
      "execution_count": 79,
      "outputs": [
        {
          "output_type": "execute_result",
          "data": {
            "text/plain": [
              "array([[1.        , 0.96403296],\n",
              "       [0.96403296, 1.        ]])"
            ]
          },
          "metadata": {},
          "execution_count": 79
        }
      ]
    },
    {
      "cell_type": "code",
      "source": [
        "lm1 = linear_model.LinearRegression()\n",
        "lm1.fit(sva[:, np.newaxis], temperature)\n",
        "lm1"
      ],
      "metadata": {
        "colab": {
          "base_uri": "https://localhost:8080/"
        },
        "id": "SVSRY4SXxqHL",
        "outputId": "c084bb42-2a57-46fe-9aa0-27dad450d3e1"
      },
      "execution_count": 80,
      "outputs": [
        {
          "output_type": "stream",
          "name": "stderr",
          "text": [
            "/usr/local/lib/python3.7/dist-packages/ipykernel_launcher.py:2: FutureWarning: Support for multi-dimensional indexing (e.g. `obj[:, None]`) is deprecated and will be removed in a future version.  Convert to a numpy array before indexing instead.\n",
            "  \n"
          ]
        },
        {
          "output_type": "execute_result",
          "data": {
            "text/plain": [
              "LinearRegression()"
            ]
          },
          "metadata": {},
          "execution_count": 80
        }
      ]
    },
    {
      "cell_type": "code",
      "source": [
        "x_prev = sva\n",
        "y_prev = lm1.predict(x_prev[:, np.newaxis])"
      ],
      "metadata": {
        "colab": {
          "base_uri": "https://localhost:8080/"
        },
        "id": "4lbguuqQzGE8",
        "outputId": "b6285ee2-9781-47b0-9cb2-6ee74a36ef02"
      },
      "execution_count": 81,
      "outputs": [
        {
          "output_type": "stream",
          "name": "stderr",
          "text": [
            "/usr/local/lib/python3.7/dist-packages/ipykernel_launcher.py:2: FutureWarning: Support for multi-dimensional indexing (e.g. `obj[:, None]`) is deprecated and will be removed in a future version.  Convert to a numpy array before indexing instead.\n",
            "  \n"
          ]
        }
      ]
    },
    {
      "cell_type": "code",
      "source": [
        "print(\"MSE: %.2f\" % mean_squared_error(temperature, y_prev))#MSE Média dos erros quadrados\n",
        "print(\"R2 : %.2f\" % r2_score(temperature, y_prev)) #coeficiente de correlação"
      ],
      "metadata": {
        "colab": {
          "base_uri": "https://localhost:8080/"
        },
        "id": "27hAIf5Pzq8-",
        "outputId": "fa6a67d7-3ee5-4fd1-baa1-082c2ec50591"
      },
      "execution_count": 82,
      "outputs": [
        {
          "output_type": "stream",
          "name": "stdout",
          "text": [
            "MSE: 1.25\n",
            "R2 : 0.93\n"
          ]
        }
      ]
    },
    {
      "cell_type": "code",
      "source": [
        "plt.scatter(sva, temperature)\n",
        "plt.plot(x_prev, y_prev, color='red')"
      ],
      "metadata": {
        "colab": {
          "base_uri": "https://localhost:8080/",
          "height": 282
        },
        "id": "d-0Ohz2a0YK6",
        "outputId": "779d9624-ec96-440c-872f-da35a7257f05"
      },
      "execution_count": 83,
      "outputs": [
        {
          "output_type": "execute_result",
          "data": {
            "text/plain": [
              "[<matplotlib.lines.Line2D at 0x7fd9077ea190>]"
            ]
          },
          "metadata": {},
          "execution_count": 83
        },
        {
          "output_type": "display_data",
          "data": {
            "image/png": "[encoded data removed]",
            "text/plain": [
              "<Figure size 432x288 with 1 Axes>"
            ]
          },
          "metadata": {
            "needs_background": "light"
          }
        }
      ]
    },
    {
      "cell_type": "code",
      "source": [
        "from sklearn.preprocessing import PolynomialFeatures"
      ],
      "metadata": {
        "id": "IjDDb9aV4DBu"
      },
      "execution_count": 84,
      "outputs": []
    },
    {
      "cell_type": "code",
      "source": [
        "colunas = ['R_SALINITY', 'R_SVA']\n",
        "df_ocean_x = pd.DataFrame(df_ocean, columns=colunas)"
      ],
      "metadata": {
        "id": "8OsknRoe4KQH"
      },
      "execution_count": 92,
      "outputs": []
    },
    {
      "cell_type": "code",
      "source": [
        "lm_pol = linear_model.LinearRegression()"
      ],
      "metadata": {
        "id": "pZ-qc-G34kO5"
      },
      "execution_count": 86,
      "outputs": []
    },
    {
      "cell_type": "code",
      "source": [
        "#erro\n",
        "#lm_pol.fit(sva, temperature) não funciona pois o polinomio precisa ser um array de 2 dimensões\n",
        "poli = PolynomialFeatures(2)\n",
        "poli_x = poli.fit_transform(df_ocean_x)"
      ],
      "metadata": {
        "id": "q5n-AVrQ4rjR"
      },
      "execution_count": 87,
      "outputs": []
    },
    {
      "cell_type": "code",
      "source": [
        "lm_pol.fit(poli_x, temperature)"
      ],
      "metadata": {
        "colab": {
          "base_uri": "https://localhost:8080/"
        },
        "id": "Dkn8kO9R6gSy",
        "outputId": "38e544bb-ea09-462b-d34e-d76504abc72f"
      },
      "execution_count": 88,
      "outputs": [
        {
          "output_type": "execute_result",
          "data": {
            "text/plain": [
              "LinearRegression()"
            ]
          },
          "metadata": {},
          "execution_count": 88
        }
      ]
    },
    {
      "cell_type": "code",
      "source": [
        "y_prev = lm_pol.predict(poli_x)"
      ],
      "metadata": {
        "id": "94QrzBEb6yz_"
      },
      "execution_count": 89,
      "outputs": []
    },
    {
      "cell_type": "code",
      "source": [
        "print(\"MSE: %.3f\" % mean_squared_error(temperature, y_prev))\n",
        "print(\"R2: %.3f\" % r2_score(temperature, y_prev))"
      ],
      "metadata": {
        "colab": {
          "base_uri": "https://localhost:8080/"
        },
        "id": "ELIp6FT57HoK",
        "outputId": "61ce2710-2fd0-45d0-c576-7ebcc25f286e"
      },
      "execution_count": 90,
      "outputs": [
        {
          "output_type": "stream",
          "name": "stdout",
          "text": [
            "MSE: 0.036\n",
            "R2: 0.998\n"
          ]
        }
      ]
    },
    {
      "cell_type": "code",
      "source": [
        "plt.scatter(sva, temperature)\n",
        "plt.plot(x_prev, y_prev, color='red')"
      ],
      "metadata": {
        "colab": {
          "base_uri": "https://localhost:8080/",
          "height": 282
        },
        "id": "4ZQ5-MRF8ZT9",
        "outputId": "faca5e68-6040-4140-c277-34665ba603f2"
      },
      "execution_count": 91,
      "outputs": [
        {
          "output_type": "execute_result",
          "data": {
            "text/plain": [
              "[<matplotlib.lines.Line2D at 0x7fd907770350>]"
            ]
          },
          "metadata": {},
          "execution_count": 91
        },
        {
          "output_type": "display_data",
          "data": {
            "image/png": "[encoded data removed]",
            "text/plain": [
              "<Figure size 432x288 with 1 Axes>"
            ]
          },
          "metadata": {
            "needs_background": "light"
          }
        }
      ]
    }
  ]
}