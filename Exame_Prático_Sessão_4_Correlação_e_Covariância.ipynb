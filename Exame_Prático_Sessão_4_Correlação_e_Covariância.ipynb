{
  "nbformat": 4,
  "nbformat_minor": 0,
  "metadata": {
    "colab": {
      "name": "Exame Prático Sessão 4 - Correlação e Covariância.ipynb",
      "provenance": [],
      "authorship_tag": "ABX9TyNzItdF012UR8eW268TKnrD",
      "include_colab_link": true
    },
    "kernelspec": {
      "name": "python3",
      "display_name": "Python 3"
    },
    "language_info": {
      "name": "python"
    }
  },
  "cells": [
    {
      "cell_type": "markdown",
      "metadata": {
        "id": "view-in-github",
        "colab_type": "text"
      },
      "source": [
        "<a href=\"https://colab.research.google.com/github/wernenveiga/fundamentos-de-ciencia-de-dados/blob/main/Exame_Pr%C3%A1tico_Sess%C3%A3o_4_Correla%C3%A7%C3%A3o_e_Covari%C3%A2ncia.ipynb\" target=\"_parent\"><img src=\"https://colab.research.google.com/assets/colab-badge.svg\" alt=\"Open In Colab\"/></a>"
      ]
    },
    {
      "cell_type": "markdown",
      "source": [
        "#Correlação e Covariância"
      ],
      "metadata": {
        "id": "f5JROxKRSzYb"
      }
    },
    {
      "cell_type": "markdown",
      "source": [
        "##Bibliotecas"
      ],
      "metadata": {
        "id": "dDj2zz4AS5c8"
      }
    },
    {
      "cell_type": "code",
      "source": [
        "import pandas as pd\n",
        "import numpy as np\n",
        "from sklearn import linear_model\n",
        "from sklearn.metrics import mean_squared_error, r2_score\n",
        "\n",
        "import matplotlib.pyplot as plt\n",
        "from pandas.plotting import scatter_matrix"
      ],
      "metadata": {
        "id": "8w9aHWCCS5HT"
      },
      "execution_count": 1,
      "outputs": []
    },
    {
      "cell_type": "markdown",
      "source": [
        "##Arquivo"
      ],
      "metadata": {
        "id": "ztZVbi4UTFRj"
      }
    },
    {
      "cell_type": "code",
      "source": [
        "arquivo = '/content/salarios.csv'\n",
        "df_salarios = pd.read_csv(arquivo)\n",
        "df_salarios.columns"
      ],
      "metadata": {
        "colab": {
          "base_uri": "https://localhost:8080/"
        },
        "id": "fzsW1d4USycA",
        "outputId": "70720989-a618-4fc2-bd43-4376cd386343"
      },
      "execution_count": 3,
      "outputs": [
        {
          "output_type": "execute_result",
          "data": {
            "text/plain": [
              "Index(['AGE', 'WORKCLASS', 'EDUCATION', 'EDUCATIONNUM', 'MARITALSTATUS',\n",
              "       'OCCUPATION', 'RELATIONSHIP', 'RACE', 'SEX', 'HOURSPERWEEK', 'ABOVE50K',\n",
              "       'INCOME'],\n",
              "      dtype='object')"
            ]
          },
          "metadata": {},
          "execution_count": 3
        }
      ]
    },
    {
      "cell_type": "markdown",
      "source": [
        "###Pergunta 1:\n",
        "Crie um Data Frame que contenha apenas as colunas AGE, EDUCATIONNUM, HOURSPERWEEK e INCOME. Crie uma matrix de correlações e indique qual variável tem a correlação mais alta com INCOME e o valor aproximado da correlação."
      ],
      "metadata": {
        "id": "7KXgCnc_T7aS"
      }
    },
    {
      "cell_type": "code",
      "execution_count": 4,
      "metadata": {
        "id": "BXl9MgFJSauG"
      },
      "outputs": [],
      "source": [
        "colunas = ['AGE', 'EDUCATIONNUM', 'HOURSPERWEEK', 'INCOME']"
      ]
    },
    {
      "cell_type": "code",
      "source": [
        "df_salarios1 = pd.DataFrame(df_salarios, columns=colunas)"
      ],
      "metadata": {
        "id": "jg7B-8TeT1CU"
      },
      "execution_count": 5,
      "outputs": []
    },
    {
      "cell_type": "code",
      "source": [
        "df_salarios1 = df_salarios1.dropna()"
      ],
      "metadata": {
        "id": "aKTJY5yUUV7i"
      },
      "execution_count": 7,
      "outputs": []
    },
    {
      "cell_type": "code",
      "source": [
        "correlacoes = df_salarios1.corr()\n",
        "correlacoes"
      ],
      "metadata": {
        "colab": {
          "base_uri": "https://localhost:8080/",
          "height": 175
        },
        "id": "H05zkwptUeHZ",
        "outputId": "e4c17956-e1c2-41cc-b7a3-21188343d7e2"
      },
      "execution_count": 9,
      "outputs": [
        {
          "output_type": "execute_result",
          "data": {
            "text/html": [
              "\n",
              "  <div id=\"df-98a71f53-f288-48f5-859b-0e96b751cf35\">\n",
              "    <div class=\"colab-df-container\">\n",
              "      <div>\n",
              "<style scoped>\n",
              "    .dataframe tbody tr th:only-of-type {\n",
              "        vertical-align: middle;\n",
              "    }\n",
              "\n",
              "    .dataframe tbody tr th {\n",
              "        vertical-align: top;\n",
              "    }\n",
              "\n",
              "    .dataframe thead th {\n",
              "        text-align: right;\n",
              "    }\n",
              "</style>\n",
              "<table border=\"1\" class=\"dataframe\">\n",
              "  <thead>\n",
              "    <tr style=\"text-align: right;\">\n",
              "      <th></th>\n",
              "      <th>AGE</th>\n",
              "      <th>EDUCATIONNUM</th>\n",
              "      <th>HOURSPERWEEK</th>\n",
              "      <th>INCOME</th>\n",
              "    </tr>\n",
              "  </thead>\n",
              "  <tbody>\n",
              "    <tr>\n",
              "      <th>AGE</th>\n",
              "      <td>1.000000</td>\n",
              "      <td>0.036527</td>\n",
              "      <td>0.068756</td>\n",
              "      <td>0.193978</td>\n",
              "    </tr>\n",
              "    <tr>\n",
              "      <th>EDUCATIONNUM</th>\n",
              "      <td>0.036527</td>\n",
              "      <td>1.000000</td>\n",
              "      <td>0.148123</td>\n",
              "      <td>0.277894</td>\n",
              "    </tr>\n",
              "    <tr>\n",
              "      <th>HOURSPERWEEK</th>\n",
              "      <td>0.068756</td>\n",
              "      <td>0.148123</td>\n",
              "      <td>1.000000</td>\n",
              "      <td>0.187528</td>\n",
              "    </tr>\n",
              "    <tr>\n",
              "      <th>INCOME</th>\n",
              "      <td>0.193978</td>\n",
              "      <td>0.277894</td>\n",
              "      <td>0.187528</td>\n",
              "      <td>1.000000</td>\n",
              "    </tr>\n",
              "  </tbody>\n",
              "</table>\n",
              "</div>\n",
              "      <button class=\"colab-df-convert\" onclick=\"convertToInteractive('df-98a71f53-f288-48f5-859b-0e96b751cf35')\"\n",
              "              title=\"Convert this dataframe to an interactive table.\"\n",
              "              style=\"display:none;\">\n",
              "        \n",
              "  <svg xmlns=\"http://www.w3.org/2000/svg\" height=\"24px\"viewBox=\"0 0 24 24\"\n",
              "       width=\"24px\">\n",
              "    <path d=\"M0 0h24v24H0V0z\" fill=\"none\"/>\n",
              "    <path d=\"M18.56 5.44l.94 2.06.94-2.06 2.06-.94-2.06-.94-.94-2.06-.94 2.06-2.06.94zm-11 1L8.5 8.5l.94-2.06 2.06-.94-2.06-.94L8.5 2.5l-.94 2.06-2.06.94zm10 10l.94 2.06.94-2.06 2.06-.94-2.06-.94-.94-2.06-.94 2.06-2.06.94z\"/><path d=\"M17.41 7.96l-1.37-1.37c-.4-.4-.92-.59-1.43-.59-.52 0-1.04.2-1.43.59L10.3 9.45l-7.72 7.72c-.78.78-.78 2.05 0 2.83L4 21.41c.39.39.9.59 1.41.59.51 0 1.02-.2 1.41-.59l7.78-7.78 2.81-2.81c.8-.78.8-2.07 0-2.86zM5.41 20L4 18.59l7.72-7.72 1.47 1.35L5.41 20z\"/>\n",
              "  </svg>\n",
              "      </button>\n",
              "      \n",
              "  <style>\n",
              "    .colab-df-container {\n",
              "      display:flex;\n",
              "      flex-wrap:wrap;\n",
              "      gap: 12px;\n",
              "    }\n",
              "\n",
              "    .colab-df-convert {\n",
              "      background-color: #E8F0FE;\n",
              "      border: none;\n",
              "      border-radius: 50%;\n",
              "      cursor: pointer;\n",
              "      display: none;\n",
              "      fill: #1967D2;\n",
              "      height: 32px;\n",
              "      padding: 0 0 0 0;\n",
              "      width: 32px;\n",
              "    }\n",
              "\n",
              "    .colab-df-convert:hover {\n",
              "      background-color: #E2EBFA;\n",
              "      box-shadow: 0px 1px 2px rgba(60, 64, 67, 0.3), 0px 1px 3px 1px rgba(60, 64, 67, 0.15);\n",
              "      fill: #174EA6;\n",
              "    }\n",
              "\n",
              "    [theme=dark] .colab-df-convert {\n",
              "      background-color: #3B4455;\n",
              "      fill: #D2E3FC;\n",
              "    }\n",
              "\n",
              "    [theme=dark] .colab-df-convert:hover {\n",
              "      background-color: #434B5C;\n",
              "      box-shadow: 0px 1px 3px 1px rgba(0, 0, 0, 0.15);\n",
              "      filter: drop-shadow(0px 1px 2px rgba(0, 0, 0, 0.3));\n",
              "      fill: #FFFFFF;\n",
              "    }\n",
              "  </style>\n",
              "\n",
              "      <script>\n",
              "        const buttonEl =\n",
              "          document.querySelector('#df-98a71f53-f288-48f5-859b-0e96b751cf35 button.colab-df-convert');\n",
              "        buttonEl.style.display =\n",
              "          google.colab.kernel.accessAllowed ? 'block' : 'none';\n",
              "\n",
              "        async function convertToInteractive(key) {\n",
              "          const element = document.querySelector('#df-98a71f53-f288-48f5-859b-0e96b751cf35');\n",
              "          const dataTable =\n",
              "            await google.colab.kernel.invokeFunction('convertToInteractive',\n",
              "                                                     [key], {});\n",
              "          if (!dataTable) return;\n",
              "\n",
              "          const docLinkHtml = 'Like what you see? Visit the ' +\n",
              "            '<a target=\"_blank\" href=https://colab.research.google.com/notebooks/data_table.ipynb>data table notebook</a>'\n",
              "            + ' to learn more about interactive tables.';\n",
              "          element.innerHTML = '';\n",
              "          dataTable['output_type'] = 'display_data';\n",
              "          await google.colab.output.renderOutput(dataTable, element);\n",
              "          const docLink = document.createElement('div');\n",
              "          docLink.innerHTML = docLinkHtml;\n",
              "          element.appendChild(docLink);\n",
              "        }\n",
              "      </script>\n",
              "    </div>\n",
              "  </div>\n",
              "  "
            ],
            "text/plain": [
              "                   AGE  EDUCATIONNUM  HOURSPERWEEK    INCOME\n",
              "AGE           1.000000      0.036527      0.068756  0.193978\n",
              "EDUCATIONNUM  0.036527      1.000000      0.148123  0.277894\n",
              "HOURSPERWEEK  0.068756      0.148123      1.000000  0.187528\n",
              "INCOME        0.193978      0.277894      0.187528  1.000000"
            ]
          },
          "metadata": {},
          "execution_count": 9
        }
      ]
    },
    {
      "cell_type": "code",
      "source": [
        "scatter_matrix(correlacoes) #01"
      ],
      "metadata": {
        "colab": {
          "base_uri": "https://localhost:8080/",
          "height": 579
        },
        "id": "D7o-5BycU2NA",
        "outputId": "5b60e8ac-5fcb-4cd3-fa21-adbe368f1b4a"
      },
      "execution_count": 10,
      "outputs": [
        {
          "output_type": "execute_result",
          "data": {
            "text/plain": [
              "array([[<matplotlib.axes._subplots.AxesSubplot object at 0x7fa9fc3914d0>,\n",
              "        <matplotlib.axes._subplots.AxesSubplot object at 0x7fa9fc328b10>,\n",
              "        <matplotlib.axes._subplots.AxesSubplot object at 0x7fa9fc2f3610>,\n",
              "        <matplotlib.axes._subplots.AxesSubplot object at 0x7fa9fc2a5c10>],\n",
              "       [<matplotlib.axes._subplots.AxesSubplot object at 0x7fa9fc262250>,\n",
              "        <matplotlib.axes._subplots.AxesSubplot object at 0x7fa9fc216850>,\n",
              "        <matplotlib.axes._subplots.AxesSubplot object at 0x7fa9fc244ed0>,\n",
              "        <matplotlib.axes._subplots.AxesSubplot object at 0x7fa9fc202450>],\n",
              "       [<matplotlib.axes._subplots.AxesSubplot object at 0x7fa9fc202490>,\n",
              "        <matplotlib.axes._subplots.AxesSubplot object at 0x7fa9fc1b6b90>,\n",
              "        <matplotlib.axes._subplots.AxesSubplot object at 0x7fa9fc1286d0>,\n",
              "        <matplotlib.axes._subplots.AxesSubplot object at 0x7fa9fc0decd0>],\n",
              "       [<matplotlib.axes._subplots.AxesSubplot object at 0x7fa9fc0a2310>,\n",
              "        <matplotlib.axes._subplots.AxesSubplot object at 0x7fa9fc054910>,\n",
              "        <matplotlib.axes._subplots.AxesSubplot object at 0x7fa9fc00cf10>,\n",
              "        <matplotlib.axes._subplots.AxesSubplot object at 0x7fa9fbfd0550>]],\n",
              "      dtype=object)"
            ]
          },
          "metadata": {},
          "execution_count": 10
        },
        {
          "output_type": "display_data",
          "data": {
            "image/png": "[encoded data removed]",
            "text/plain": [
              "<Figure size 432x288 with 16 Axes>"
            ]
          },
          "metadata": {
            "needs_background": "light"
          }
        }
      ]
    },
    {
      "cell_type": "markdown",
      "source": [
        "###Pergunta 2:\n",
        "Crie uma regressão linear que calcule o valor da variável INCOME baseado no valor da variável EDUCATIONNUM. Qual o valor da Média do Erro Padrão  ao (Mean Error)?\n",
        "\n",
        "Dica: Para extrair a raiz quadrada de um número, use um dos métodos a seguir:\n",
        "\n",
        "a) x**(1/2)\n",
        "\n",
        "b) import math\n",
        "\n",
        "    math.sqrt(x)"
      ],
      "metadata": {
        "id": "bv1t3kNLVWh9"
      }
    },
    {
      "cell_type": "code",
      "source": [
        "import math"
      ],
      "metadata": {
        "id": "aZ2CZZAtVY1g"
      },
      "execution_count": 11,
      "outputs": []
    },
    {
      "cell_type": "code",
      "source": [
        "income = df_salarios1['INCOME']"
      ],
      "metadata": {
        "id": "FF5xSaf9VeyC"
      },
      "execution_count": 13,
      "outputs": []
    },
    {
      "cell_type": "code",
      "source": [
        "edu = df_salarios1['EDUCATIONNUM']"
      ],
      "metadata": {
        "id": "fpNCCvOYWMNT"
      },
      "execution_count": 14,
      "outputs": []
    },
    {
      "cell_type": "code",
      "source": [
        "plt.scatter(income, edu)\n",
        "plt.show()"
      ],
      "metadata": {
        "colab": {
          "base_uri": "https://localhost:8080/",
          "height": 265
        },
        "id": "VjjsGdcAWVtU",
        "outputId": "2feb9b65-4826-4e66-9dca-e498cccbddac"
      },
      "execution_count": 16,
      "outputs": [
        {
          "output_type": "display_data",
          "data": {
            "image/png": "[encoded data removed]",
            "text/plain": [
              "<Figure size 432x288 with 1 Axes>"
            ]
          },
          "metadata": {
            "needs_background": "light"
          }
        }
      ]
    },
    {
      "cell_type": "code",
      "source": [
        "np.corrcoef(income, edu)"
      ],
      "metadata": {
        "colab": {
          "base_uri": "https://localhost:8080/"
        },
        "id": "7wIT5idfWnqx",
        "outputId": "de074a65-ca8f-44ca-8119-a5d002501eee"
      },
      "execution_count": 17,
      "outputs": [
        {
          "output_type": "execute_result",
          "data": {
            "text/plain": [
              "array([[1.        , 0.27789377],\n",
              "       [0.27789377, 1.        ]])"
            ]
          },
          "metadata": {},
          "execution_count": 17
        }
      ]
    },
    {
      "cell_type": "code",
      "source": [
        "lm1 = linear_model.LinearRegression()\n",
        "lm1.fit(edu[:, np.newaxis], income)\n",
        "lm1"
      ],
      "metadata": {
        "colab": {
          "base_uri": "https://localhost:8080/"
        },
        "id": "i5u_0PBuWxWD",
        "outputId": "fddcdf1d-8cb4-4afd-a097-3aa0475a7d47"
      },
      "execution_count": 18,
      "outputs": [
        {
          "output_type": "stream",
          "name": "stderr",
          "text": [
            "/usr/local/lib/python3.7/dist-packages/ipykernel_launcher.py:2: FutureWarning: Support for multi-dimensional indexing (e.g. `obj[:, None]`) is deprecated and will be removed in a future version.  Convert to a numpy array before indexing instead.\n",
            "  \n"
          ]
        },
        {
          "output_type": "execute_result",
          "data": {
            "text/plain": [
              "LinearRegression()"
            ]
          },
          "metadata": {},
          "execution_count": 18
        }
      ]
    },
    {
      "cell_type": "code",
      "source": [
        "x_prev = edu\n",
        "y_prev = lm1.predict(x_prev[:, np.newaxis])"
      ],
      "metadata": {
        "colab": {
          "base_uri": "https://localhost:8080/"
        },
        "id": "8Z8mPq3cW2Cu",
        "outputId": "419e956a-bcd7-45c7-d2db-c908f0fdf583"
      },
      "execution_count": 32,
      "outputs": [
        {
          "output_type": "stream",
          "name": "stderr",
          "text": [
            "/usr/local/lib/python3.7/dist-packages/ipykernel_launcher.py:2: FutureWarning: Support for multi-dimensional indexing (e.g. `obj[:, None]`) is deprecated and will be removed in a future version.  Convert to a numpy array before indexing instead.\n",
            "  \n"
          ]
        }
      ]
    },
    {
      "cell_type": "code",
      "source": [
        "print(\"MSE: %.2f\" % math.sqrt(mean_squared_error(income, y_prev)))#MSE Média dos erros quadrados\n"
      ],
      "metadata": {
        "colab": {
          "base_uri": "https://localhost:8080/"
        },
        "id": "wlwZaiYXXAGn",
        "outputId": "e6e0b15b-1b82-4b8b-f509-176f49348388"
      },
      "execution_count": 22,
      "outputs": [
        {
          "output_type": "stream",
          "name": "stdout",
          "text": [
            "MSE: 22582.52\n"
          ]
        }
      ]
    },
    {
      "cell_type": "markdown",
      "source": [
        "###Pergunta 3:\n",
        "Crie uma regressão linear que calcule o valor da variável INCOME baseado no valor da variável EDUCATIONNUM. Qual o valor do R2?"
      ],
      "metadata": {
        "id": "vD4DGndeXovV"
      }
    },
    {
      "cell_type": "code",
      "source": [
        "print(\"R2 : %.2f\" % r2_score(income, y_prev)) #coeficiente de correlação"
      ],
      "metadata": {
        "colab": {
          "base_uri": "https://localhost:8080/"
        },
        "id": "f_kascSCXsD2",
        "outputId": "f9775e37-b019-40a5-8f32-2426b722d0fb"
      },
      "execution_count": 23,
      "outputs": [
        {
          "output_type": "stream",
          "name": "stdout",
          "text": [
            "R2 : 0.08\n"
          ]
        }
      ]
    },
    {
      "cell_type": "markdown",
      "source": [
        "###Pergunta 4:\n",
        "Crie uma regressão linear que calcule o valor da variável INCOME baseado no valor da variável EDUCATIONNUM. Qual o valor aproximado de INCOME quando o EDUCATIONNUM for 13?"
      ],
      "metadata": {
        "id": "P8aP6YzeX9In"
      }
    },
    {
      "cell_type": "code",
      "source": [
        "df_pref = pd.DataFrame({'x': x_prev, 'y': y_prev})"
      ],
      "metadata": {
        "id": "_DAK0y-rZIU4"
      },
      "execution_count": 82,
      "outputs": []
    },
    {
      "cell_type": "code",
      "source": [
        "df_pref[df_pref.x == 13][\"y\"]"
      ],
      "metadata": {
        "colab": {
          "base_uri": "https://localhost:8080/"
        },
        "id": "UjvTKNedi7Vm",
        "outputId": "1d1ee7ab-5059-490f-e66b-24862274133f"
      },
      "execution_count": 83,
      "outputs": [
        {
          "output_type": "execute_result",
          "data": {
            "text/plain": [
              "0        51403.129381\n",
              "1        51403.129381\n",
              "4        51403.129381\n",
              "9        51403.129381\n",
              "11       51403.129381\n",
              "             ...     \n",
              "32530    51403.129381\n",
              "32531    51403.129381\n",
              "32533    51403.129381\n",
              "32536    51403.129381\n",
              "32538    51403.129381\n",
              "Name: y, Length: 5355, dtype: float64"
            ]
          },
          "metadata": {},
          "execution_count": 83
        }
      ]
    },
    {
      "cell_type": "markdown",
      "source": [
        "###Pergunta 5:\n",
        "Crie uma tabela de contingência entre as variáveis MARITALSTATUS e ABOVE50K. Considerando que a variável Above50K indica se uma pessoa ganha mais que 50.000 ao ano (1) ou não (0) e o valor \"Married\" como pessoas casadas e \"Not Married\" como pessoas não casadas, responda qual a quantidade de pessoas casadas que ganham acima de 50,000 ao ano?"
      ],
      "metadata": {
        "id": "DbGSXHUeaTZg"
      }
    },
    {
      "cell_type": "code",
      "source": [
        "from sklearn.metrics import matthews_corrcoef"
      ],
      "metadata": {
        "id": "88JzJNOSaSwr"
      },
      "execution_count": 46,
      "outputs": []
    },
    {
      "cell_type": "code",
      "source": [
        "tabela_contingencia = pd.crosstab(df_salarios['MARITALSTATUS'], df_salarios['ABOVE50K'])\n",
        "tabela_contingencia"
      ],
      "metadata": {
        "colab": {
          "base_uri": "https://localhost:8080/",
          "height": 143
        },
        "id": "4qBLObSBaj48",
        "outputId": "c215ee82-393c-4917-c057-a4db6fc782a6"
      },
      "execution_count": 47,
      "outputs": [
        {
          "output_type": "execute_result",
          "data": {
            "text/html": [
              "\n",
              "  <div id=\"df-6e61b05d-98f6-4afa-a464-c16ef720f390\">\n",
              "    <div class=\"colab-df-container\">\n",
              "      <div>\n",
              "<style scoped>\n",
              "    .dataframe tbody tr th:only-of-type {\n",
              "        vertical-align: middle;\n",
              "    }\n",
              "\n",
              "    .dataframe tbody tr th {\n",
              "        vertical-align: top;\n",
              "    }\n",
              "\n",
              "    .dataframe thead th {\n",
              "        text-align: right;\n",
              "    }\n",
              "</style>\n",
              "<table border=\"1\" class=\"dataframe\">\n",
              "  <thead>\n",
              "    <tr style=\"text-align: right;\">\n",
              "      <th>ABOVE50K</th>\n",
              "      <th>0</th>\n",
              "      <th>1</th>\n",
              "    </tr>\n",
              "    <tr>\n",
              "      <th>MARITALSTATUS</th>\n",
              "      <th></th>\n",
              "      <th></th>\n",
              "    </tr>\n",
              "  </thead>\n",
              "  <tbody>\n",
              "    <tr>\n",
              "      <th>Married</th>\n",
              "      <td>9593</td>\n",
              "      <td>6817</td>\n",
              "    </tr>\n",
              "    <tr>\n",
              "      <th>Not Married</th>\n",
              "      <td>15131</td>\n",
              "      <td>1020</td>\n",
              "    </tr>\n",
              "  </tbody>\n",
              "</table>\n",
              "</div>\n",
              "      <button class=\"colab-df-convert\" onclick=\"convertToInteractive('df-6e61b05d-98f6-4afa-a464-c16ef720f390')\"\n",
              "              title=\"Convert this dataframe to an interactive table.\"\n",
              "              style=\"display:none;\">\n",
              "        \n",
              "  <svg xmlns=\"http://www.w3.org/2000/svg\" height=\"24px\"viewBox=\"0 0 24 24\"\n",
              "       width=\"24px\">\n",
              "    <path d=\"M0 0h24v24H0V0z\" fill=\"none\"/>\n",
              "    <path d=\"M18.56 5.44l.94 2.06.94-2.06 2.06-.94-2.06-.94-.94-2.06-.94 2.06-2.06.94zm-11 1L8.5 8.5l.94-2.06 2.06-.94-2.06-.94L8.5 2.5l-.94 2.06-2.06.94zm10 10l.94 2.06.94-2.06 2.06-.94-2.06-.94-.94-2.06-.94 2.06-2.06.94z\"/><path d=\"M17.41 7.96l-1.37-1.37c-.4-.4-.92-.59-1.43-.59-.52 0-1.04.2-1.43.59L10.3 9.45l-7.72 7.72c-.78.78-.78 2.05 0 2.83L4 21.41c.39.39.9.59 1.41.59.51 0 1.02-.2 1.41-.59l7.78-7.78 2.81-2.81c.8-.78.8-2.07 0-2.86zM5.41 20L4 18.59l7.72-7.72 1.47 1.35L5.41 20z\"/>\n",
              "  </svg>\n",
              "      </button>\n",
              "      \n",
              "  <style>\n",
              "    .colab-df-container {\n",
              "      display:flex;\n",
              "      flex-wrap:wrap;\n",
              "      gap: 12px;\n",
              "    }\n",
              "\n",
              "    .colab-df-convert {\n",
              "      background-color: #E8F0FE;\n",
              "      border: none;\n",
              "      border-radius: 50%;\n",
              "      cursor: pointer;\n",
              "      display: none;\n",
              "      fill: #1967D2;\n",
              "      height: 32px;\n",
              "      padding: 0 0 0 0;\n",
              "      width: 32px;\n",
              "    }\n",
              "\n",
              "    .colab-df-convert:hover {\n",
              "      background-color: #E2EBFA;\n",
              "      box-shadow: 0px 1px 2px rgba(60, 64, 67, 0.3), 0px 1px 3px 1px rgba(60, 64, 67, 0.15);\n",
              "      fill: #174EA6;\n",
              "    }\n",
              "\n",
              "    [theme=dark] .colab-df-convert {\n",
              "      background-color: #3B4455;\n",
              "      fill: #D2E3FC;\n",
              "    }\n",
              "\n",
              "    [theme=dark] .colab-df-convert:hover {\n",
              "      background-color: #434B5C;\n",
              "      box-shadow: 0px 1px 3px 1px rgba(0, 0, 0, 0.15);\n",
              "      filter: drop-shadow(0px 1px 2px rgba(0, 0, 0, 0.3));\n",
              "      fill: #FFFFFF;\n",
              "    }\n",
              "  </style>\n",
              "\n",
              "      <script>\n",
              "        const buttonEl =\n",
              "          document.querySelector('#df-6e61b05d-98f6-4afa-a464-c16ef720f390 button.colab-df-convert');\n",
              "        buttonEl.style.display =\n",
              "          google.colab.kernel.accessAllowed ? 'block' : 'none';\n",
              "\n",
              "        async function convertToInteractive(key) {\n",
              "          const element = document.querySelector('#df-6e61b05d-98f6-4afa-a464-c16ef720f390');\n",
              "          const dataTable =\n",
              "            await google.colab.kernel.invokeFunction('convertToInteractive',\n",
              "                                                     [key], {});\n",
              "          if (!dataTable) return;\n",
              "\n",
              "          const docLinkHtml = 'Like what you see? Visit the ' +\n",
              "            '<a target=\"_blank\" href=https://colab.research.google.com/notebooks/data_table.ipynb>data table notebook</a>'\n",
              "            + ' to learn more about interactive tables.';\n",
              "          element.innerHTML = '';\n",
              "          dataTable['output_type'] = 'display_data';\n",
              "          await google.colab.output.renderOutput(dataTable, element);\n",
              "          const docLink = document.createElement('div');\n",
              "          docLink.innerHTML = docLinkHtml;\n",
              "          element.appendChild(docLink);\n",
              "        }\n",
              "      </script>\n",
              "    </div>\n",
              "  </div>\n",
              "  "
            ],
            "text/plain": [
              "ABOVE50K           0     1\n",
              "MARITALSTATUS             \n",
              "Married         9593  6817\n",
              "Not Married    15131  1020"
            ]
          },
          "metadata": {},
          "execution_count": 47
        }
      ]
    },
    {
      "cell_type": "markdown",
      "source": [
        "###Pergunta 6:\n",
        "Crie uma tabela de contingência entre as variáveis MARITALSTATUS e ABOKE50K. Considerando que a variável Above50K indica se uma pessoa ganha mais que 50.000 ao ano (1) ou não (0) e o valor \"Married\" como pessoas casadas e \"Not Married\" como pessoas não casadas, responda qual a quantidade de pessoas casadas?"
      ],
      "metadata": {
        "id": "JlFE_zxjbYDS"
      }
    },
    {
      "cell_type": "code",
      "source": [
        "9593 + 6817"
      ],
      "metadata": {
        "colab": {
          "base_uri": "https://localhost:8080/"
        },
        "id": "PTYg5LddbbXy",
        "outputId": "969da6e9-800e-4bd0-f7cc-17dbe42ab365"
      },
      "execution_count": 48,
      "outputs": [
        {
          "output_type": "execute_result",
          "data": {
            "text/plain": [
              "16410"
            ]
          },
          "metadata": {},
          "execution_count": 48
        }
      ]
    },
    {
      "cell_type": "markdown",
      "source": [
        "###Pergunta 7:\n",
        "Qual o valor aproximado do coeficiente de Matthews das variáveis MARITALSTATUS e ABOVE50K?\n",
        "\n",
        "Para executar este exercício você precisará criar variáveis lógicas baseado nos valores das variáveis em questão. Para aprender como fazer isso, leia o código disponibilizado na demonstração prática de Coeficiente de Matthews."
      ],
      "metadata": {
        "id": "qNeTRG9IdOew"
      }
    },
    {
      "cell_type": "code",
      "source": [
        "casado = df_salarios['MARITALSTATUS'] == 'Married'\n",
        "acima50k = df_salarios['ABOVE50K'] == 1\n",
        "naocasado = df_salarios['MARITALSTATUS'] == 'Not Married'\n",
        "abaixo50k = df_salarios['ABOVE50K'] == '0'\n",
        "acima50k"
      ],
      "metadata": {
        "colab": {
          "base_uri": "https://localhost:8080/"
        },
        "id": "3bOB9PpGb50C",
        "outputId": "07b6959d-821b-4b51-ccf7-56681ea0a9de"
      },
      "execution_count": 64,
      "outputs": [
        {
          "output_type": "execute_result",
          "data": {
            "text/plain": [
              "0        False\n",
              "1        False\n",
              "2        False\n",
              "3        False\n",
              "4        False\n",
              "         ...  \n",
              "32556    False\n",
              "32557     True\n",
              "32558    False\n",
              "32559    False\n",
              "32560     True\n",
              "Name: ABOVE50K, Length: 32561, dtype: bool"
            ]
          },
          "metadata": {},
          "execution_count": 64
        }
      ]
    },
    {
      "cell_type": "code",
      "source": [
        "matthews_corrcoef(casado, acima50k)"
      ],
      "metadata": {
        "colab": {
          "base_uri": "https://localhost:8080/"
        },
        "id": "FFJACKJydG9Z",
        "outputId": "a94cae06-5a88-4b96-ec6a-23c36b2825e8"
      },
      "execution_count": 65,
      "outputs": [
        {
          "output_type": "execute_result",
          "data": {
            "text/plain": [
              "0.41199057905748016"
            ]
          },
          "metadata": {},
          "execution_count": 65
        }
      ]
    },
    {
      "cell_type": "markdown",
      "source": [
        "###Pergunta 8:\n",
        "Qual o coeficiente de Matthews das variáveis SEX e ABOVE50K?\n",
        "\n",
        "Para executar este exercício você precisará criar variáveis lógicas baseado nos valores das variáveis em questão. Para aprender como fazer isso, leia o código disponibilizado na demonstração prática de Coeficiente de Matthews."
      ],
      "metadata": {
        "id": "NqbD7LC3fE21"
      }
    },
    {
      "cell_type": "code",
      "source": [
        "df_salarios = df_salarios.dropna()"
      ],
      "metadata": {
        "id": "ytzSZvxHfdqT"
      },
      "execution_count": 74,
      "outputs": []
    },
    {
      "cell_type": "code",
      "source": [
        "sexo = df_salarios['SEX'] == 'Male'"
      ],
      "metadata": {
        "id": "WiVJvdB0e-S0"
      },
      "execution_count": 75,
      "outputs": []
    },
    {
      "cell_type": "code",
      "source": [
        "matthews_corrcoef(sexo, acima50k)"
      ],
      "metadata": {
        "colab": {
          "base_uri": "https://localhost:8080/"
        },
        "id": "mN67EK-wfOIP",
        "outputId": "df3ec277-e3e1-4514-a179-c72213010a53"
      },
      "execution_count": 77,
      "outputs": [
        {
          "output_type": "execute_result",
          "data": {
            "text/plain": [
              "0.21596843953621198"
            ]
          },
          "metadata": {},
          "execution_count": 77
        }
      ]
    },
    {
      "cell_type": "markdown",
      "source": [
        "###Pergunta 9:\n",
        "Qual o coeficiente de Matthews das variáveis RACE e ABOVE50K? Neste caso, crie uma nova coluna que indique se o campo RACE é igual a \"White\" ou não.\n",
        "\n",
        "Para executar este exercício você precisará criar variáveis lógicas baseado nos valores das variáveis em questão. Para aprender como fazer isso, leia o código disponibilizado na demonstração prática de Coeficiente de Matthews."
      ],
      "metadata": {
        "id": "ZBs_213_fzwo"
      }
    },
    {
      "cell_type": "code",
      "source": [
        "race = df_salarios['RACE'] == 'White'"
      ],
      "metadata": {
        "id": "yC3fe1O_f1U-"
      },
      "execution_count": 78,
      "outputs": []
    },
    {
      "cell_type": "code",
      "source": [
        "matthews_corrcoef(race, acima50k)"
      ],
      "metadata": {
        "colab": {
          "base_uri": "https://localhost:8080/"
        },
        "id": "212nYIT_f7sQ",
        "outputId": "51c73ad5-4041-45d5-acec-a51c61ac0435"
      },
      "execution_count": 79,
      "outputs": [
        {
          "output_type": "execute_result",
          "data": {
            "text/plain": [
              "0.08532427219154463"
            ]
          },
          "metadata": {},
          "execution_count": 79
        }
      ]
    }
  ]
}