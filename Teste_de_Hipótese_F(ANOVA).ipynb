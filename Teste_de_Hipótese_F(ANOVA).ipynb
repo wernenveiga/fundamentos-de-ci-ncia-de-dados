{
  "nbformat": 4,
  "nbformat_minor": 0,
  "metadata": {
    "colab": {
      "name": "Teste de Hipótese F(ANOVA).ipynb",
      "provenance": [],
      "authorship_tag": "ABX9TyPJeAajZi5H2ASFutSBTb0v",
      "include_colab_link": true
    },
    "kernelspec": {
      "name": "python3",
      "display_name": "Python 3"
    },
    "language_info": {
      "name": "python"
    }
  },
  "cells": [
    {
      "cell_type": "markdown",
      "metadata": {
        "id": "view-in-github",
        "colab_type": "text"
      },
      "source": [
        "<a href=\"https://colab.research.google.com/github/wernenveiga/fundamentos-de-ci-ncia-de-dados/blob/main/Teste_de_Hip%C3%B3tese_F(ANOVA).ipynb\" target=\"_parent\"><img src=\"https://colab.research.google.com/assets/colab-badge.svg\" alt=\"Open In Colab\"/></a>"
      ]
    },
    {
      "cell_type": "markdown",
      "source": [
        "#Teste de Hipótese F(ANOVA)"
      ],
      "metadata": {
        "id": "i7wI4Y6ohx_Q"
      }
    },
    {
      "cell_type": "markdown",
      "source": [
        "##Bibliotecas"
      ],
      "metadata": {
        "id": "YjMntdH-h5ac"
      }
    },
    {
      "cell_type": "code",
      "execution_count": 19,
      "metadata": {
        "id": "DTj2VDrmhol1"
      },
      "outputs": [],
      "source": [
        "import pandas as pd\n",
        "import scipy.stats as stats"
      ]
    },
    {
      "cell_type": "markdown",
      "source": [
        "##Arquvio"
      ],
      "metadata": {
        "id": "45Xv4QPAiKTR"
      }
    },
    {
      "cell_type": "code",
      "source": [
        "arquivo = '/content/mamalia_sleep.csv'\n",
        "df_mamiferos = pd.read_csv(arquivo)\n",
        "df_mamiferos.columns"
      ],
      "metadata": {
        "colab": {
          "base_uri": "https://localhost:8080/"
        },
        "id": "5HgczoLNiMNh",
        "outputId": "5e81b8f0-6baa-4e52-c90f-5bf7d49f6208"
      },
      "execution_count": 9,
      "outputs": [
        {
          "output_type": "execute_result",
          "data": {
            "text/plain": [
              "Index(['name', 'genus', 'vore', 'order', 'conservation', 'sleep_total',\n",
              "       'sleep_rem', 'sleep_cycle', 'awake', 'brainwt', 'bodywt'],\n",
              "      dtype='object')"
            ]
          },
          "metadata": {},
          "execution_count": 9
        }
      ]
    },
    {
      "cell_type": "code",
      "source": [
        "df_mamiferos = df_mamiferos.query(\"vore in ('carni', 'herbi', 'omni')\")\n",
        "df_mamiferos.describe()"
      ],
      "metadata": {
        "colab": {
          "base_uri": "https://localhost:8080/",
          "height": 300
        },
        "id": "lO2S1HreoOYe",
        "outputId": "f7d63c1f-78fb-4917-b57c-d1e5833f6048"
      },
      "execution_count": 10,
      "outputs": [
        {
          "output_type": "execute_result",
          "data": {
            "text/html": [
              "\n",
              "  <div id=\"df-109845ee-5bb5-46b5-b361-a93d1dc86396\">\n",
              "    <div class=\"colab-df-container\">\n",
              "      <div>\n",
              "<style scoped>\n",
              "    .dataframe tbody tr th:only-of-type {\n",
              "        vertical-align: middle;\n",
              "    }\n",
              "\n",
              "    .dataframe tbody tr th {\n",
              "        vertical-align: top;\n",
              "    }\n",
              "\n",
              "    .dataframe thead th {\n",
              "        text-align: right;\n",
              "    }\n",
              "</style>\n",
              "<table border=\"1\" class=\"dataframe\">\n",
              "  <thead>\n",
              "    <tr style=\"text-align: right;\">\n",
              "      <th></th>\n",
              "      <th>sleep_total</th>\n",
              "      <th>sleep_rem</th>\n",
              "      <th>sleep_cycle</th>\n",
              "      <th>awake</th>\n",
              "      <th>brainwt</th>\n",
              "      <th>bodywt</th>\n",
              "    </tr>\n",
              "  </thead>\n",
              "  <tbody>\n",
              "    <tr>\n",
              "      <th>count</th>\n",
              "      <td>71.000000</td>\n",
              "      <td>52.000000</td>\n",
              "      <td>28.000000</td>\n",
              "      <td>71.000000</td>\n",
              "      <td>46.000000</td>\n",
              "      <td>71.000000</td>\n",
              "    </tr>\n",
              "    <tr>\n",
              "      <th>mean</th>\n",
              "      <td>10.140845</td>\n",
              "      <td>1.748077</td>\n",
              "      <td>0.478571</td>\n",
              "      <td>13.860563</td>\n",
              "      <td>0.339623</td>\n",
              "      <td>193.221169</td>\n",
              "    </tr>\n",
              "    <tr>\n",
              "      <th>std</th>\n",
              "      <td>4.345197</td>\n",
              "      <td>1.215987</td>\n",
              "      <td>0.367363</td>\n",
              "      <td>4.347174</td>\n",
              "      <td>1.070437</td>\n",
              "      <td>848.562662</td>\n",
              "    </tr>\n",
              "    <tr>\n",
              "      <th>min</th>\n",
              "      <td>1.900000</td>\n",
              "      <td>0.100000</td>\n",
              "      <td>0.116667</td>\n",
              "      <td>4.600000</td>\n",
              "      <td>0.000140</td>\n",
              "      <td>0.005000</td>\n",
              "    </tr>\n",
              "    <tr>\n",
              "      <th>25%</th>\n",
              "      <td>7.000000</td>\n",
              "      <td>0.900000</td>\n",
              "      <td>0.212500</td>\n",
              "      <td>10.350000</td>\n",
              "      <td>0.005125</td>\n",
              "      <td>0.293000</td>\n",
              "    </tr>\n",
              "    <tr>\n",
              "      <th>50%</th>\n",
              "      <td>10.100000</td>\n",
              "      <td>1.400000</td>\n",
              "      <td>0.366667</td>\n",
              "      <td>13.900000</td>\n",
              "      <td>0.016500</td>\n",
              "      <td>2.500000</td>\n",
              "    </tr>\n",
              "    <tr>\n",
              "      <th>75%</th>\n",
              "      <td>13.650000</td>\n",
              "      <td>2.400000</td>\n",
              "      <td>0.666667</td>\n",
              "      <td>17.000000</td>\n",
              "      <td>0.173500</td>\n",
              "      <td>52.690000</td>\n",
              "    </tr>\n",
              "    <tr>\n",
              "      <th>max</th>\n",
              "      <td>19.400000</td>\n",
              "      <td>6.600000</td>\n",
              "      <td>1.500000</td>\n",
              "      <td>22.100000</td>\n",
              "      <td>5.712000</td>\n",
              "      <td>6654.000000</td>\n",
              "    </tr>\n",
              "  </tbody>\n",
              "</table>\n",
              "</div>\n",
              "      <button class=\"colab-df-convert\" onclick=\"convertToInteractive('df-109845ee-5bb5-46b5-b361-a93d1dc86396')\"\n",
              "              title=\"Convert this dataframe to an interactive table.\"\n",
              "              style=\"display:none;\">\n",
              "        \n",
              "  <svg xmlns=\"http://www.w3.org/2000/svg\" height=\"24px\"viewBox=\"0 0 24 24\"\n",
              "       width=\"24px\">\n",
              "    <path d=\"M0 0h24v24H0V0z\" fill=\"none\"/>\n",
              "    <path d=\"M18.56 5.44l.94 2.06.94-2.06 2.06-.94-2.06-.94-.94-2.06-.94 2.06-2.06.94zm-11 1L8.5 8.5l.94-2.06 2.06-.94-2.06-.94L8.5 2.5l-.94 2.06-2.06.94zm10 10l.94 2.06.94-2.06 2.06-.94-2.06-.94-.94-2.06-.94 2.06-2.06.94z\"/><path d=\"M17.41 7.96l-1.37-1.37c-.4-.4-.92-.59-1.43-.59-.52 0-1.04.2-1.43.59L10.3 9.45l-7.72 7.72c-.78.78-.78 2.05 0 2.83L4 21.41c.39.39.9.59 1.41.59.51 0 1.02-.2 1.41-.59l7.78-7.78 2.81-2.81c.8-.78.8-2.07 0-2.86zM5.41 20L4 18.59l7.72-7.72 1.47 1.35L5.41 20z\"/>\n",
              "  </svg>\n",
              "      </button>\n",
              "      \n",
              "  <style>\n",
              "    .colab-df-container {\n",
              "      display:flex;\n",
              "      flex-wrap:wrap;\n",
              "      gap: 12px;\n",
              "    }\n",
              "\n",
              "    .colab-df-convert {\n",
              "      background-color: #E8F0FE;\n",
              "      border: none;\n",
              "      border-radius: 50%;\n",
              "      cursor: pointer;\n",
              "      display: none;\n",
              "      fill: #1967D2;\n",
              "      height: 32px;\n",
              "      padding: 0 0 0 0;\n",
              "      width: 32px;\n",
              "    }\n",
              "\n",
              "    .colab-df-convert:hover {\n",
              "      background-color: #E2EBFA;\n",
              "      box-shadow: 0px 1px 2px rgba(60, 64, 67, 0.3), 0px 1px 3px 1px rgba(60, 64, 67, 0.15);\n",
              "      fill: #174EA6;\n",
              "    }\n",
              "\n",
              "    [theme=dark] .colab-df-convert {\n",
              "      background-color: #3B4455;\n",
              "      fill: #D2E3FC;\n",
              "    }\n",
              "\n",
              "    [theme=dark] .colab-df-convert:hover {\n",
              "      background-color: #434B5C;\n",
              "      box-shadow: 0px 1px 3px 1px rgba(0, 0, 0, 0.15);\n",
              "      filter: drop-shadow(0px 1px 2px rgba(0, 0, 0, 0.3));\n",
              "      fill: #FFFFFF;\n",
              "    }\n",
              "  </style>\n",
              "\n",
              "      <script>\n",
              "        const buttonEl =\n",
              "          document.querySelector('#df-109845ee-5bb5-46b5-b361-a93d1dc86396 button.colab-df-convert');\n",
              "        buttonEl.style.display =\n",
              "          google.colab.kernel.accessAllowed ? 'block' : 'none';\n",
              "\n",
              "        async function convertToInteractive(key) {\n",
              "          const element = document.querySelector('#df-109845ee-5bb5-46b5-b361-a93d1dc86396');\n",
              "          const dataTable =\n",
              "            await google.colab.kernel.invokeFunction('convertToInteractive',\n",
              "                                                     [key], {});\n",
              "          if (!dataTable) return;\n",
              "\n",
              "          const docLinkHtml = 'Like what you see? Visit the ' +\n",
              "            '<a target=\"_blank\" href=https://colab.research.google.com/notebooks/data_table.ipynb>data table notebook</a>'\n",
              "            + ' to learn more about interactive tables.';\n",
              "          element.innerHTML = '';\n",
              "          dataTable['output_type'] = 'display_data';\n",
              "          await google.colab.output.renderOutput(dataTable, element);\n",
              "          const docLink = document.createElement('div');\n",
              "          docLink.innerHTML = docLinkHtml;\n",
              "          element.appendChild(docLink);\n",
              "        }\n",
              "      </script>\n",
              "    </div>\n",
              "  </div>\n",
              "  "
            ],
            "text/plain": [
              "       sleep_total  sleep_rem  sleep_cycle      awake    brainwt       bodywt\n",
              "count    71.000000  52.000000    28.000000  71.000000  46.000000    71.000000\n",
              "mean     10.140845   1.748077     0.478571  13.860563   0.339623   193.221169\n",
              "std       4.345197   1.215987     0.367363   4.347174   1.070437   848.562662\n",
              "min       1.900000   0.100000     0.116667   4.600000   0.000140     0.005000\n",
              "25%       7.000000   0.900000     0.212500  10.350000   0.005125     0.293000\n",
              "50%      10.100000   1.400000     0.366667  13.900000   0.016500     2.500000\n",
              "75%      13.650000   2.400000     0.666667  17.000000   0.173500    52.690000\n",
              "max      19.400000   6.600000     1.500000  22.100000   5.712000  6654.000000"
            ]
          },
          "metadata": {},
          "execution_count": 10
        }
      ]
    },
    {
      "cell_type": "markdown",
      "source": [
        "##Teste 1 - One Way F-Test\n",
        "\n"
      ],
      "metadata": {
        "id": "_lFlnumDqvU1"
      }
    },
    {
      "cell_type": "code",
      "source": [
        "#Análise de variancia\n",
        "df_anova = df_mamiferos[['sleep_total','vore']]"
      ],
      "metadata": {
        "id": "s3s7NGtiqpeT"
      },
      "execution_count": 11,
      "outputs": []
    },
    {
      "cell_type": "code",
      "source": [
        "df_anova.boxplot('sleep_total', by='vore', figsize=(12, 6))"
      ],
      "metadata": {
        "colab": {
          "base_uri": "https://localhost:8080/",
          "height": 492
        },
        "id": "pswE0kDZrOxb",
        "outputId": "7cdd5916-6fdf-4002-ba73-d5c0ea2986f9"
      },
      "execution_count": 12,
      "outputs": [
        {
          "output_type": "stream",
          "name": "stderr",
          "text": [
            "/usr/local/lib/python3.7/dist-packages/numpy/core/_asarray.py:83: VisibleDeprecationWarning: Creating an ndarray from ragged nested sequences (which is a list-or-tuple of lists-or-tuples-or ndarrays with different lengths or shapes) is deprecated. If you meant to do this, you must specify 'dtype=object' when creating the ndarray\n",
            "  return array(a, dtype, copy=False, order=order)\n"
          ]
        },
        {
          "output_type": "execute_result",
          "data": {
            "text/plain": [
              "<matplotlib.axes._subplots.AxesSubplot at 0x7ff835d2e950>"
            ]
          },
          "metadata": {},
          "execution_count": 12
        },
        {
          "output_type": "display_data",
          "data": {
            "image/png": "[encoded data removed]",
            "text/plain": [
              "<Figure size 864x432 with 1 Axes>"
            ]
          },
          "metadata": {
            "needs_background": "light"
          }
        }
      ]
    },
    {
      "cell_type": "code",
      "source": [
        "dietas = pd.unique(df_anova.vore.values)"
      ],
      "metadata": {
        "id": "M3kSQwcTr4tz"
      },
      "execution_count": 13,
      "outputs": []
    },
    {
      "cell_type": "markdown",
      "source": [
        "### Construindo o Dicionário"
      ],
      "metadata": {
        "id": "JHJTvgTJtngI"
      }
    },
    {
      "cell_type": "code",
      "source": [
        "testef1_df = {dt:df_anova['sleep_total'][df_anova.vore == dt] for dt in dietas}\n",
        "testef1_df"
      ],
      "metadata": {
        "colab": {
          "base_uri": "https://localhost:8080/"
        },
        "id": "kBZ5H6qBsFZC",
        "outputId": "518e9b78-3078-4ca2-e3a5-d06c524906f7"
      },
      "execution_count": 17,
      "outputs": [
        {
          "output_type": "execute_result",
          "data": {
            "text/plain": [
              "{'carni': 0     12.1\n",
              " 6      8.7\n",
              " 8     10.1\n",
              " 17    17.4\n",
              " 27    12.5\n",
              " 30     2.7\n",
              " 31     6.2\n",
              " 36    19.4\n",
              " 44    11.0\n",
              " 46    14.5\n",
              " 50    15.8\n",
              " 51    10.4\n",
              " 52    13.5\n",
              " 58     3.5\n",
              " 59     5.6\n",
              " 79     5.2\n",
              " 80     6.3\n",
              " 81    12.5\n",
              " 82     9.8\n",
              " Name: sleep_total, dtype: float64, 'herbi': 2     14.4\n",
              " 4      4.0\n",
              " 5     14.4\n",
              " 9      3.0\n",
              " 10     5.3\n",
              " 11     9.4\n",
              " 13    12.5\n",
              " 18     5.3\n",
              " 20     3.9\n",
              " 22     2.9\n",
              " 23     3.1\n",
              " 26    14.9\n",
              " 29     1.9\n",
              " 32     6.3\n",
              " 34     9.5\n",
              " 35     3.3\n",
              " 38    14.2\n",
              " 39    14.3\n",
              " 40    12.8\n",
              " 41    12.5\n",
              " 43    14.6\n",
              " 45     7.7\n",
              " 47     8.4\n",
              " 48     3.8\n",
              " 60    11.1\n",
              " 63    13.0\n",
              " 67    11.3\n",
              " 69    16.6\n",
              " 70    13.8\n",
              " 71    15.9\n",
              " 75    15.8\n",
              " 76     4.4\n",
              " Name: sleep_total, dtype: float64, 'omni': 1     17.0\n",
              " 3     14.9\n",
              " 12    10.0\n",
              " 14    10.3\n",
              " 15     8.3\n",
              " 16     9.1\n",
              " 19    18.0\n",
              " 24    10.1\n",
              " 25    10.9\n",
              " 28     9.8\n",
              " 33     8.0\n",
              " 37    10.1\n",
              " 49     9.7\n",
              " 53     9.4\n",
              " 55    11.0\n",
              " 64     8.7\n",
              " 65     9.6\n",
              " 73     9.1\n",
              " 77    15.6\n",
              " 78     8.9\n",
              " Name: sleep_total, dtype: float64}"
            ]
          },
          "metadata": {},
          "execution_count": 17
        }
      ]
    },
    {
      "cell_type": "code",
      "source": [
        "F_stats, p_value = stats.f_oneway(testef1_df['carni'], testef1_df['herbi'], testef1_df['omni'])"
      ],
      "metadata": {
        "id": "6ChVi3jiz5wd"
      },
      "execution_count": 20,
      "outputs": []
    },
    {
      "cell_type": "code",
      "source": [
        "if p_value < 0.05:\n",
        "  print('Rejeitar a H0, a variancia dos grupos analisados se difere do grupo de fora')\n",
        "else:\n",
        "  print('Falhar em rejeitar a H0, ou seja a variancia dos grupos analisados é semelhante aos grupos de fora')"
      ],
      "metadata": {
        "colab": {
          "base_uri": "https://localhost:8080/"
        },
        "id": "Zxj7TWQ40naJ",
        "outputId": "4e5fe4c7-7ddf-4e28-a38a-d1b00875a8f3"
      },
      "execution_count": 22,
      "outputs": [
        {
          "output_type": "stream",
          "name": "stdout",
          "text": [
            "Falhar em rejeitar a H0, ou seja a variancia dos grupos analisados é semelhante aos grupos de fora\n"
          ]
        }
      ]
    },
    {
      "cell_type": "markdown",
      "source": [
        "## Teste 2 - Two Way F-test"
      ],
      "metadata": {
        "id": "-qm1jaQP1XC5"
      }
    },
    {
      "cell_type": "code",
      "source": [
        "import statsmodels.api as fm\n",
        "from statsmodels.formula.api import ols"
      ],
      "metadata": {
        "id": "25WlUqXf1dO1"
      },
      "execution_count": 28,
      "outputs": []
    },
    {
      "cell_type": "code",
      "source": [
        "modelo = ols(\"sleep_total ~ vore * order\", df_mamiferos).fit()\n",
        "modelo"
      ],
      "metadata": {
        "colab": {
          "base_uri": "https://localhost:8080/"
        },
        "id": "pbpq4MIe16mm",
        "outputId": "899ea99d-3107-4e52-a457-d098ae7aa9ef"
      },
      "execution_count": 30,
      "outputs": [
        {
          "output_type": "execute_result",
          "data": {
            "text/plain": [
              "<statsmodels.regression.linear_model.RegressionResultsWrapper at 0x7ff817e66f90>"
            ]
          },
          "metadata": {},
          "execution_count": 30
        }
      ]
    },
    {
      "cell_type": "code",
      "source": [
        "print(\"df(ºLibertade) = %.0f, p = %.12f, res(erro da previsão) = %.0f, F-value = %.3f\" % (modelo.df_model, modelo.f_pvalue, modelo.df_resid, modelo.fvalue))"
      ],
      "metadata": {
        "colab": {
          "base_uri": "https://localhost:8080/"
        },
        "id": "BAfG9Z2m3Z-F",
        "outputId": "4b0dda1f-6265-4160-c191-fc5021721275"
      },
      "execution_count": 31,
      "outputs": [
        {
          "output_type": "stream",
          "name": "stdout",
          "text": [
            "df(ºLibertade) = 22, p = 0.000000004894, res(erro da previsão) = 48, F-value = 7.334\n"
          ]
        }
      ]
    },
    {
      "cell_type": "code",
      "source": [
        "if modelo.f_pvalue < 0.05:\n",
        "  print(\"Rejeitar a H0, pois há uma diferença de sono levando em consideração a dieta e a ordem\")\n",
        "else:\n",
        "  print(\"Não rejeitar a H0, pois não há uma diferença de sono levando em consideração a dieta e a ordem\")"
      ],
      "metadata": {
        "colab": {
          "base_uri": "https://localhost:8080/"
        },
        "id": "2V_RbGjk4mPN",
        "outputId": "c8ff3e4a-7bf8-409a-a42a-d6c2298ffc81"
      },
      "execution_count": 35,
      "outputs": [
        {
          "output_type": "stream",
          "name": "stdout",
          "text": [
            "Rejeitar a H0, pois há uma diferença de sono levando em consideração a dieta e a ordem\n"
          ]
        }
      ]
    },
    {
      "cell_type": "code",
      "source": [
        "prob = 0.95\n",
        "n = df_mamiferos.sleep_total.count()\n",
        "a_vore = 3\n",
        "a_order = len(df_mamiferos.order.unique().tolist())"
      ],
      "metadata": {
        "id": "yWESk9BQ5Pw6"
      },
      "execution_count": 37,
      "outputs": []
    },
    {
      "cell_type": "code",
      "source": [
        "#valor de A, total de grupos\n",
        "a = (a_vore - 1) * (a_order - 1)\n",
        "a"
      ],
      "metadata": {
        "colab": {
          "base_uri": "https://localhost:8080/"
        },
        "id": "hrssp-BS59Jy",
        "outputId": "1cfb8138-ac71-4c3d-9e05-806da8d8471a"
      },
      "execution_count": 39,
      "outputs": [
        {
          "output_type": "execute_result",
          "data": {
            "text/plain": [
              "32"
            ]
          },
          "metadata": {},
          "execution_count": 39
        }
      ]
    },
    {
      "cell_type": "code",
      "source": [
        "#primeiro grau de liberdade (dfn)\n",
        "dfn = a - 1\n",
        "dfn"
      ],
      "metadata": {
        "colab": {
          "base_uri": "https://localhost:8080/"
        },
        "id": "oMgAaAkd6O3H",
        "outputId": "8e6b844f-05a3-4cf4-b877-59b169d1d50d"
      },
      "execution_count": 42,
      "outputs": [
        {
          "output_type": "execute_result",
          "data": {
            "text/plain": [
              "31"
            ]
          },
          "metadata": {},
          "execution_count": 42
        }
      ]
    },
    {
      "cell_type": "code",
      "source": [
        "#segundo grau de liberdade (dfd)\n",
        "dfd = n - a\n",
        "dfd"
      ],
      "metadata": {
        "colab": {
          "base_uri": "https://localhost:8080/"
        },
        "id": "mgluVatA6gSl",
        "outputId": "97459b40-efc7-47e0-ba41-312b6b1193f7"
      },
      "execution_count": 43,
      "outputs": [
        {
          "output_type": "execute_result",
          "data": {
            "text/plain": [
              "39"
            ]
          },
          "metadata": {},
          "execution_count": 43
        }
      ]
    },
    {
      "cell_type": "code",
      "source": [
        "valor_critico = stats.f.ppf(prob, dfn, dfd)\n",
        "valor_critico"
      ],
      "metadata": {
        "colab": {
          "base_uri": "https://localhost:8080/"
        },
        "id": "qzmpajj36uSq",
        "outputId": "89c82f7b-746a-47eb-9929-f4c9e1c33d94"
      },
      "execution_count": 45,
      "outputs": [
        {
          "output_type": "execute_result",
          "data": {
            "text/plain": [
              "1.745354510595028"
            ]
          },
          "metadata": {},
          "execution_count": 45
        }
      ]
    },
    {
      "cell_type": "code",
      "source": [
        "if modelo.fvalue > valor_critico:\n",
        "  print(\"Rejeitar a H0, pois há uma diferença de sono levando em consideração a dieta e a ordem\")\n",
        "else:\n",
        "  print(\"Não Rejeitar a H0, pois não há uma diferença de sono levando em consideração a dieta e a ordem\")"
      ],
      "metadata": {
        "colab": {
          "base_uri": "https://localhost:8080/"
        },
        "id": "8zGX3oxW67P5",
        "outputId": "3994f49b-2ba5-4ac1-c864-06bb28c1cf6d"
      },
      "execution_count": 47,
      "outputs": [
        {
          "output_type": "stream",
          "name": "stdout",
          "text": [
            "Rejeitar a H0, pois há uma diferença de sono levando em consideração a dieta e a ordem\n"
          ]
        }
      ]
    }
  ]
}