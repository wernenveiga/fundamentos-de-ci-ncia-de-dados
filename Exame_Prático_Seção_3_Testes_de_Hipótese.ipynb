{
  "nbformat": 4,
  "nbformat_minor": 0,
  "metadata": {
    "colab": {
      "name": "Exame Prático - Seção 3 - Testes de Hipótese.ipynb",
      "provenance": [],
      "authorship_tag": "ABX9TyNB+c8ceLZdajZgQMozix9c",
      "include_colab_link": true
    },
    "kernelspec": {
      "name": "python3",
      "display_name": "Python 3"
    },
    "language_info": {
      "name": "python"
    }
  },
  "cells": [
    {
      "cell_type": "markdown",
      "metadata": {
        "id": "view-in-github",
        "colab_type": "text"
      },
      "source": [
        "<a href=\"https://colab.research.google.com/github/wernenveiga/fundamentos-de-ciencia-de-dados/blob/main/Exame_Pr%C3%A1tico_Se%C3%A7%C3%A3o_3_Testes_de_Hip%C3%B3tese.ipynb\" target=\"_parent\"><img src=\"https://colab.research.google.com/assets/colab-badge.svg\" alt=\"Open In Colab\"/></a>"
      ]
    },
    {
      "cell_type": "markdown",
      "source": [
        "#Bibliotecas"
      ],
      "metadata": {
        "id": "kktSwgg_sSEO"
      }
    },
    {
      "cell_type": "code",
      "source": [
        "import pandas as pd\n",
        "import numpy as np\n",
        "from scipy import stats"
      ],
      "metadata": {
        "id": "wRz8e4DasRnM"
      },
      "execution_count": 1,
      "outputs": []
    },
    {
      "cell_type": "code",
      "source": [
        "arquivo = '/content/AnimalData.csv'\n",
        "df_animal = pd.read_csv(arquivo)\n",
        "df_animal"
      ],
      "metadata": {
        "colab": {
          "base_uri": "https://localhost:8080/",
          "height": 818
        },
        "id": "7G2KDIz3tKbg",
        "outputId": "b9067407-7639-406e-d6a7-903945ef33a2"
      },
      "execution_count": 4,
      "outputs": [
        {
          "output_type": "execute_result",
          "data": {
            "text/html": [
              "\n",
              "  <div id=\"df-6eec3589-1552-4ed4-80e7-0c52dc5f11c4\">\n",
              "    <div class=\"colab-df-container\">\n",
              "      <div>\n",
              "<style scoped>\n",
              "    .dataframe tbody tr th:only-of-type {\n",
              "        vertical-align: middle;\n",
              "    }\n",
              "\n",
              "    .dataframe tbody tr th {\n",
              "        vertical-align: top;\n",
              "    }\n",
              "\n",
              "    .dataframe thead th {\n",
              "        text-align: right;\n",
              "    }\n",
              "</style>\n",
              "<table border=\"1\" class=\"dataframe\">\n",
              "  <thead>\n",
              "    <tr style=\"text-align: right;\">\n",
              "      <th></th>\n",
              "      <th>Impound.No</th>\n",
              "      <th>Intake.Date</th>\n",
              "      <th>Intake.Type</th>\n",
              "      <th>Animal.Type</th>\n",
              "      <th>Neutered.Status</th>\n",
              "      <th>Sex</th>\n",
              "      <th>Age.Intake</th>\n",
              "      <th>Condition</th>\n",
              "      <th>Breed</th>\n",
              "      <th>Aggressive</th>\n",
              "      <th>Independent</th>\n",
              "      <th>Intelligent</th>\n",
              "      <th>Loyal</th>\n",
              "      <th>Social</th>\n",
              "      <th>Good.with.Kids</th>\n",
              "      <th>Max.Life.Expectancy</th>\n",
              "      <th>Max.Weight</th>\n",
              "      <th>Dog.Group</th>\n",
              "      <th>Color</th>\n",
              "      <th>Weight</th>\n",
              "      <th>Lab.Test</th>\n",
              "      <th>Outcome.Date</th>\n",
              "      <th>Outcome.Type</th>\n",
              "      <th>Days.Shelter</th>\n",
              "    </tr>\n",
              "  </thead>\n",
              "  <tbody>\n",
              "    <tr>\n",
              "      <th>0</th>\n",
              "      <td>K12-000031</td>\n",
              "      <td>1/1/2016</td>\n",
              "      <td>Stray</td>\n",
              "      <td>Dog</td>\n",
              "      <td>Spayed</td>\n",
              "      <td>Female</td>\n",
              "      <td>10</td>\n",
              "      <td>Injured or Sick</td>\n",
              "      <td>Chihuahua Sh Mix</td>\n",
              "      <td>N</td>\n",
              "      <td>N</td>\n",
              "      <td>Y</td>\n",
              "      <td>N</td>\n",
              "      <td>N</td>\n",
              "      <td>N</td>\n",
              "      <td>18.0</td>\n",
              "      <td>6.0</td>\n",
              "      <td>Toy</td>\n",
              "      <td>Tan &amp; White</td>\n",
              "      <td>3.30</td>\n",
              "      <td>Heartworm Negative</td>\n",
              "      <td>1/7/2016</td>\n",
              "      <td>Adoption</td>\n",
              "      <td>6</td>\n",
              "    </tr>\n",
              "    <tr>\n",
              "      <th>1</th>\n",
              "      <td>K12-000037</td>\n",
              "      <td>1/1/2016</td>\n",
              "      <td>Stray</td>\n",
              "      <td>Dog</td>\n",
              "      <td>Intact</td>\n",
              "      <td>Female</td>\n",
              "      <td>3</td>\n",
              "      <td>Normal</td>\n",
              "      <td>Rat Terrier Mix</td>\n",
              "      <td>N</td>\n",
              "      <td>N</td>\n",
              "      <td>Y</td>\n",
              "      <td>N</td>\n",
              "      <td>Y</td>\n",
              "      <td>Y</td>\n",
              "      <td>14.0</td>\n",
              "      <td>25.0</td>\n",
              "      <td>Terrier</td>\n",
              "      <td>White &amp; Brown</td>\n",
              "      <td>7.50</td>\n",
              "      <td>No Lab Test</td>\n",
              "      <td>1/3/2016</td>\n",
              "      <td>Return to Owner</td>\n",
              "      <td>2</td>\n",
              "    </tr>\n",
              "    <tr>\n",
              "      <th>2</th>\n",
              "      <td>K12-000108</td>\n",
              "      <td>1/1/2016</td>\n",
              "      <td>Stray</td>\n",
              "      <td>Dog</td>\n",
              "      <td>Intact</td>\n",
              "      <td>Male</td>\n",
              "      <td>2</td>\n",
              "      <td>Normal</td>\n",
              "      <td>Pit Bull Mix</td>\n",
              "      <td>N</td>\n",
              "      <td>N</td>\n",
              "      <td>N</td>\n",
              "      <td>Y</td>\n",
              "      <td>N</td>\n",
              "      <td>Y</td>\n",
              "      <td>14.0</td>\n",
              "      <td>90.0</td>\n",
              "      <td>Terrier</td>\n",
              "      <td>Blue &amp; White</td>\n",
              "      <td>74.00</td>\n",
              "      <td>Heartworm Negative</td>\n",
              "      <td>1/13/2016</td>\n",
              "      <td>Humane Euthanasia</td>\n",
              "      <td>12</td>\n",
              "    </tr>\n",
              "    <tr>\n",
              "      <th>3</th>\n",
              "      <td>K12-000125</td>\n",
              "      <td>1/1/2016</td>\n",
              "      <td>Stray</td>\n",
              "      <td>Dog</td>\n",
              "      <td>Neutered</td>\n",
              "      <td>Male</td>\n",
              "      <td>0</td>\n",
              "      <td>Normal</td>\n",
              "      <td>Labrador Retr &amp; Border Collie</td>\n",
              "      <td>N</td>\n",
              "      <td>Y</td>\n",
              "      <td>Y</td>\n",
              "      <td>Y</td>\n",
              "      <td>Y</td>\n",
              "      <td>Y</td>\n",
              "      <td>12.0</td>\n",
              "      <td>79.0</td>\n",
              "      <td>Sporting</td>\n",
              "      <td>White &amp; Black</td>\n",
              "      <td>22.00</td>\n",
              "      <td>No Lab Test</td>\n",
              "      <td>1/8/2016</td>\n",
              "      <td>Adoption</td>\n",
              "      <td>7</td>\n",
              "    </tr>\n",
              "    <tr>\n",
              "      <th>4</th>\n",
              "      <td>K12-000157</td>\n",
              "      <td>1/1/2016</td>\n",
              "      <td>Stray</td>\n",
              "      <td>Dog</td>\n",
              "      <td>Neutered</td>\n",
              "      <td>Male</td>\n",
              "      <td>3</td>\n",
              "      <td>Injured or Sick</td>\n",
              "      <td>Labrador Retr</td>\n",
              "      <td>N</td>\n",
              "      <td>Y</td>\n",
              "      <td>Y</td>\n",
              "      <td>Y</td>\n",
              "      <td>Y</td>\n",
              "      <td>Y</td>\n",
              "      <td>12.0</td>\n",
              "      <td>79.0</td>\n",
              "      <td>Sporting</td>\n",
              "      <td>Black &amp; White</td>\n",
              "      <td>54.00</td>\n",
              "      <td>Heartworm Negative</td>\n",
              "      <td>4/4/2016</td>\n",
              "      <td>Adoption</td>\n",
              "      <td>94</td>\n",
              "    </tr>\n",
              "    <tr>\n",
              "      <th>...</th>\n",
              "      <td>...</td>\n",
              "      <td>...</td>\n",
              "      <td>...</td>\n",
              "      <td>...</td>\n",
              "      <td>...</td>\n",
              "      <td>...</td>\n",
              "      <td>...</td>\n",
              "      <td>...</td>\n",
              "      <td>...</td>\n",
              "      <td>...</td>\n",
              "      <td>...</td>\n",
              "      <td>...</td>\n",
              "      <td>...</td>\n",
              "      <td>...</td>\n",
              "      <td>...</td>\n",
              "      <td>...</td>\n",
              "      <td>...</td>\n",
              "      <td>...</td>\n",
              "      <td>...</td>\n",
              "      <td>...</td>\n",
              "      <td>...</td>\n",
              "      <td>...</td>\n",
              "      <td>...</td>\n",
              "      <td>...</td>\n",
              "    </tr>\n",
              "    <tr>\n",
              "      <th>468</th>\n",
              "      <td>K12-022689</td>\n",
              "      <td>12/23/2016</td>\n",
              "      <td>Stray</td>\n",
              "      <td>Cat</td>\n",
              "      <td>Intact</td>\n",
              "      <td>Male</td>\n",
              "      <td>0</td>\n",
              "      <td>Normal</td>\n",
              "      <td>Domestic Sh Mix</td>\n",
              "      <td>NaN</td>\n",
              "      <td>NaN</td>\n",
              "      <td>NaN</td>\n",
              "      <td>NaN</td>\n",
              "      <td>NaN</td>\n",
              "      <td>NaN</td>\n",
              "      <td>NaN</td>\n",
              "      <td>NaN</td>\n",
              "      <td>NaN</td>\n",
              "      <td>Crm Tabby</td>\n",
              "      <td>1.75</td>\n",
              "      <td>FeLV Negative, FIV Negative</td>\n",
              "      <td>12/31/2016</td>\n",
              "      <td>Humane Euthanasia</td>\n",
              "      <td>8</td>\n",
              "    </tr>\n",
              "    <tr>\n",
              "      <th>469</th>\n",
              "      <td>K12-022743</td>\n",
              "      <td>12/23/2016</td>\n",
              "      <td>Owner Surrender</td>\n",
              "      <td>Cat</td>\n",
              "      <td>Intact</td>\n",
              "      <td>Male</td>\n",
              "      <td>0</td>\n",
              "      <td>Normal</td>\n",
              "      <td>Domestic Sh Mix</td>\n",
              "      <td>NaN</td>\n",
              "      <td>NaN</td>\n",
              "      <td>NaN</td>\n",
              "      <td>NaN</td>\n",
              "      <td>NaN</td>\n",
              "      <td>NaN</td>\n",
              "      <td>NaN</td>\n",
              "      <td>NaN</td>\n",
              "      <td>NaN</td>\n",
              "      <td>Brn Tabby &amp; White</td>\n",
              "      <td>1.75</td>\n",
              "      <td>FeLV Negative, FIV Negative</td>\n",
              "      <td>1/4/13</td>\n",
              "      <td>Transfer</td>\n",
              "      <td>12</td>\n",
              "    </tr>\n",
              "    <tr>\n",
              "      <th>470</th>\n",
              "      <td>K12-022814</td>\n",
              "      <td>12/23/2016</td>\n",
              "      <td>Owner Surrender</td>\n",
              "      <td>Dog</td>\n",
              "      <td>Neutered</td>\n",
              "      <td>Male</td>\n",
              "      <td>4</td>\n",
              "      <td>Injured or Sick</td>\n",
              "      <td>Bruss Griffon Mix</td>\n",
              "      <td>N</td>\n",
              "      <td>N</td>\n",
              "      <td>Y</td>\n",
              "      <td>Y</td>\n",
              "      <td>N</td>\n",
              "      <td>Y</td>\n",
              "      <td>15.0</td>\n",
              "      <td>10.0</td>\n",
              "      <td>Toy</td>\n",
              "      <td>Brown</td>\n",
              "      <td>10.50</td>\n",
              "      <td>No Lab Test</td>\n",
              "      <td>12/29/2016</td>\n",
              "      <td>Humane Euthanasia</td>\n",
              "      <td>6</td>\n",
              "    </tr>\n",
              "    <tr>\n",
              "      <th>471</th>\n",
              "      <td>K12-022885</td>\n",
              "      <td>12/30/2016</td>\n",
              "      <td>Stray</td>\n",
              "      <td>Dog</td>\n",
              "      <td>Intact</td>\n",
              "      <td>Male</td>\n",
              "      <td>2</td>\n",
              "      <td>Normal</td>\n",
              "      <td>Poodle Min Mix</td>\n",
              "      <td>N</td>\n",
              "      <td>N</td>\n",
              "      <td>Y</td>\n",
              "      <td>Y</td>\n",
              "      <td>N</td>\n",
              "      <td>Y</td>\n",
              "      <td>14.0</td>\n",
              "      <td>9.0</td>\n",
              "      <td>Toy</td>\n",
              "      <td>White</td>\n",
              "      <td>13.50</td>\n",
              "      <td>Heartworm Negative</td>\n",
              "      <td>1/4/13</td>\n",
              "      <td>Return to Owner</td>\n",
              "      <td>5</td>\n",
              "    </tr>\n",
              "    <tr>\n",
              "      <th>472</th>\n",
              "      <td>K12-022889</td>\n",
              "      <td>12/30/2016</td>\n",
              "      <td>Stray</td>\n",
              "      <td>Dog</td>\n",
              "      <td>Neutered</td>\n",
              "      <td>Male</td>\n",
              "      <td>2</td>\n",
              "      <td>Normal</td>\n",
              "      <td>Dachshund Mix</td>\n",
              "      <td>Y</td>\n",
              "      <td>N</td>\n",
              "      <td>N</td>\n",
              "      <td>Y</td>\n",
              "      <td>Y</td>\n",
              "      <td>N</td>\n",
              "      <td>14.0</td>\n",
              "      <td>28.0</td>\n",
              "      <td>Hound</td>\n",
              "      <td>Red</td>\n",
              "      <td>12.00</td>\n",
              "      <td>Heartworm Negative</td>\n",
              "      <td>1/4/13</td>\n",
              "      <td>Adoption</td>\n",
              "      <td>5</td>\n",
              "    </tr>\n",
              "  </tbody>\n",
              "</table>\n",
              "<p>473 rows × 24 columns</p>\n",
              "</div>\n",
              "      <button class=\"colab-df-convert\" onclick=\"convertToInteractive('df-6eec3589-1552-4ed4-80e7-0c52dc5f11c4')\"\n",
              "              title=\"Convert this dataframe to an interactive table.\"\n",
              "              style=\"display:none;\">\n",
              "        \n",
              "  <svg xmlns=\"http://www.w3.org/2000/svg\" height=\"24px\"viewBox=\"0 0 24 24\"\n",
              "       width=\"24px\">\n",
              "    <path d=\"M0 0h24v24H0V0z\" fill=\"none\"/>\n",
              "    <path d=\"M18.56 5.44l.94 2.06.94-2.06 2.06-.94-2.06-.94-.94-2.06-.94 2.06-2.06.94zm-11 1L8.5 8.5l.94-2.06 2.06-.94-2.06-.94L8.5 2.5l-.94 2.06-2.06.94zm10 10l.94 2.06.94-2.06 2.06-.94-2.06-.94-.94-2.06-.94 2.06-2.06.94z\"/><path d=\"M17.41 7.96l-1.37-1.37c-.4-.4-.92-.59-1.43-.59-.52 0-1.04.2-1.43.59L10.3 9.45l-7.72 7.72c-.78.78-.78 2.05 0 2.83L4 21.41c.39.39.9.59 1.41.59.51 0 1.02-.2 1.41-.59l7.78-7.78 2.81-2.81c.8-.78.8-2.07 0-2.86zM5.41 20L4 18.59l7.72-7.72 1.47 1.35L5.41 20z\"/>\n",
              "  </svg>\n",
              "      </button>\n",
              "      \n",
              "  <style>\n",
              "    .colab-df-container {\n",
              "      display:flex;\n",
              "      flex-wrap:wrap;\n",
              "      gap: 12px;\n",
              "    }\n",
              "\n",
              "    .colab-df-convert {\n",
              "      background-color: #E8F0FE;\n",
              "      border: none;\n",
              "      border-radius: 50%;\n",
              "      cursor: pointer;\n",
              "      display: none;\n",
              "      fill: #1967D2;\n",
              "      height: 32px;\n",
              "      padding: 0 0 0 0;\n",
              "      width: 32px;\n",
              "    }\n",
              "\n",
              "    .colab-df-convert:hover {\n",
              "      background-color: #E2EBFA;\n",
              "      box-shadow: 0px 1px 2px rgba(60, 64, 67, 0.3), 0px 1px 3px 1px rgba(60, 64, 67, 0.15);\n",
              "      fill: #174EA6;\n",
              "    }\n",
              "\n",
              "    [theme=dark] .colab-df-convert {\n",
              "      background-color: #3B4455;\n",
              "      fill: #D2E3FC;\n",
              "    }\n",
              "\n",
              "    [theme=dark] .colab-df-convert:hover {\n",
              "      background-color: #434B5C;\n",
              "      box-shadow: 0px 1px 3px 1px rgba(0, 0, 0, 0.15);\n",
              "      filter: drop-shadow(0px 1px 2px rgba(0, 0, 0, 0.3));\n",
              "      fill: #FFFFFF;\n",
              "    }\n",
              "  </style>\n",
              "\n",
              "      <script>\n",
              "        const buttonEl =\n",
              "          document.querySelector('#df-6eec3589-1552-4ed4-80e7-0c52dc5f11c4 button.colab-df-convert');\n",
              "        buttonEl.style.display =\n",
              "          google.colab.kernel.accessAllowed ? 'block' : 'none';\n",
              "\n",
              "        async function convertToInteractive(key) {\n",
              "          const element = document.querySelector('#df-6eec3589-1552-4ed4-80e7-0c52dc5f11c4');\n",
              "          const dataTable =\n",
              "            await google.colab.kernel.invokeFunction('convertToInteractive',\n",
              "                                                     [key], {});\n",
              "          if (!dataTable) return;\n",
              "\n",
              "          const docLinkHtml = 'Like what you see? Visit the ' +\n",
              "            '<a target=\"_blank\" href=https://colab.research.google.com/notebooks/data_table.ipynb>data table notebook</a>'\n",
              "            + ' to learn more about interactive tables.';\n",
              "          element.innerHTML = '';\n",
              "          dataTable['output_type'] = 'display_data';\n",
              "          await google.colab.output.renderOutput(dataTable, element);\n",
              "          const docLink = document.createElement('div');\n",
              "          docLink.innerHTML = docLinkHtml;\n",
              "          element.appendChild(docLink);\n",
              "        }\n",
              "      </script>\n",
              "    </div>\n",
              "  </div>\n",
              "  "
            ],
            "text/plain": [
              "     Impound.No Intake.Date  ...       Outcome.Type Days.Shelter\n",
              "0    K12-000031    1/1/2016  ...           Adoption            6\n",
              "1    K12-000037    1/1/2016  ...    Return to Owner            2\n",
              "2    K12-000108    1/1/2016  ...  Humane Euthanasia           12\n",
              "3    K12-000125    1/1/2016  ...           Adoption            7\n",
              "4    K12-000157    1/1/2016  ...           Adoption           94\n",
              "..          ...         ...  ...                ...          ...\n",
              "468  K12-022689  12/23/2016  ...  Humane Euthanasia            8\n",
              "469  K12-022743  12/23/2016  ...           Transfer           12\n",
              "470  K12-022814  12/23/2016  ...  Humane Euthanasia            6\n",
              "471  K12-022885  12/30/2016  ...    Return to Owner            5\n",
              "472  K12-022889  12/30/2016  ...           Adoption            5\n",
              "\n",
              "[473 rows x 24 columns]"
            ]
          },
          "metadata": {},
          "execution_count": 4
        }
      ]
    },
    {
      "cell_type": "markdown",
      "source": [
        "## Pergunta 1:\n",
        "Um pesquisador quer verificar se cães inteligentes são mais leais. A hipótese alternativa diz que sim. A hipótese nula diz que não há relação entre inteligência e lealdade de cães. Para verificar essa hipótese, use um Teste Chi Quadrado adotando uma probabilidade de 95%. Marque a opção mais correta."
      ],
      "metadata": {
        "id": "HhI3cS-Qs9M1"
      }
    },
    {
      "cell_type": "code",
      "execution_count": 10,
      "metadata": {
        "id": "kBOSg1X1sLLP"
      },
      "outputs": [],
      "source": [
        "import scipy.stats as stats\n",
        "from scipy.stats import chi2\n",
        "from scipy.stats import chi2_contingency"
      ]
    },
    {
      "cell_type": "code",
      "source": [
        "df_animal.columns"
      ],
      "metadata": {
        "colab": {
          "base_uri": "https://localhost:8080/"
        },
        "id": "Tq1I9JKFtptC",
        "outputId": "58bc837f-5832-4dce-e57a-d6ae510a5102"
      },
      "execution_count": 5,
      "outputs": [
        {
          "output_type": "execute_result",
          "data": {
            "text/plain": [
              "Index(['Impound.No', 'Intake.Date', 'Intake.Type', 'Animal.Type',\n",
              "       'Neutered.Status', 'Sex', 'Age.Intake', 'Condition', 'Breed',\n",
              "       'Aggressive', 'Independent', 'Intelligent', 'Loyal', 'Social',\n",
              "       'Good.with.Kids', 'Max.Life.Expectancy', 'Max.Weight', 'Dog.Group',\n",
              "       'Color', 'Weight', 'Lab.Test', 'Outcome.Date', 'Outcome.Type',\n",
              "       'Days.Shelter'],\n",
              "      dtype='object')"
            ]
          },
          "metadata": {},
          "execution_count": 5
        }
      ]
    },
    {
      "cell_type": "code",
      "source": [
        "is_dog = df_animal['Animal.Type'] == 'Dog'\n",
        "is_dog"
      ],
      "metadata": {
        "colab": {
          "base_uri": "https://localhost:8080/"
        },
        "id": "OgaCX-IPxBJ4",
        "outputId": "7cc86391-2047-4f50-ed95-e4706fd32e5e"
      },
      "execution_count": 22,
      "outputs": [
        {
          "output_type": "execute_result",
          "data": {
            "text/plain": [
              "0       True\n",
              "1       True\n",
              "2       True\n",
              "3       True\n",
              "4       True\n",
              "       ...  \n",
              "468    False\n",
              "469    False\n",
              "470     True\n",
              "471     True\n",
              "472     True\n",
              "Name: Animal.Type, Length: 473, dtype: bool"
            ]
          },
          "metadata": {},
          "execution_count": 22
        }
      ]
    },
    {
      "cell_type": "code",
      "source": [
        "df_dog = df_animal[is_dog]\n",
        "df_dog"
      ],
      "metadata": {
        "colab": {
          "base_uri": "https://localhost:8080/",
          "height": 765
        },
        "id": "oKrgB9Uzz1Hb",
        "outputId": "a96743cb-f4d3-4733-bded-6470faff2fa5"
      },
      "execution_count": 24,
      "outputs": [
        {
          "output_type": "execute_result",
          "data": {
            "text/html": [
              "\n",
              "  <div id=\"df-6fda0251-853a-4dfc-8fce-2ca5efff6c54\">\n",
              "    <div class=\"colab-df-container\">\n",
              "      <div>\n",
              "<style scoped>\n",
              "    .dataframe tbody tr th:only-of-type {\n",
              "        vertical-align: middle;\n",
              "    }\n",
              "\n",
              "    .dataframe tbody tr th {\n",
              "        vertical-align: top;\n",
              "    }\n",
              "\n",
              "    .dataframe thead th {\n",
              "        text-align: right;\n",
              "    }\n",
              "</style>\n",
              "<table border=\"1\" class=\"dataframe\">\n",
              "  <thead>\n",
              "    <tr style=\"text-align: right;\">\n",
              "      <th></th>\n",
              "      <th>Impound.No</th>\n",
              "      <th>Intake.Date</th>\n",
              "      <th>Intake.Type</th>\n",
              "      <th>Animal.Type</th>\n",
              "      <th>Neutered.Status</th>\n",
              "      <th>Sex</th>\n",
              "      <th>Age.Intake</th>\n",
              "      <th>Condition</th>\n",
              "      <th>Breed</th>\n",
              "      <th>Aggressive</th>\n",
              "      <th>Independent</th>\n",
              "      <th>Intelligent</th>\n",
              "      <th>Loyal</th>\n",
              "      <th>Social</th>\n",
              "      <th>Good.with.Kids</th>\n",
              "      <th>Max.Life.Expectancy</th>\n",
              "      <th>Max.Weight</th>\n",
              "      <th>Dog.Group</th>\n",
              "      <th>Color</th>\n",
              "      <th>Weight</th>\n",
              "      <th>Lab.Test</th>\n",
              "      <th>Outcome.Date</th>\n",
              "      <th>Outcome.Type</th>\n",
              "      <th>Days.Shelter</th>\n",
              "    </tr>\n",
              "  </thead>\n",
              "  <tbody>\n",
              "    <tr>\n",
              "      <th>0</th>\n",
              "      <td>K12-000031</td>\n",
              "      <td>1/1/2016</td>\n",
              "      <td>Stray</td>\n",
              "      <td>Dog</td>\n",
              "      <td>Spayed</td>\n",
              "      <td>Female</td>\n",
              "      <td>10</td>\n",
              "      <td>Injured or Sick</td>\n",
              "      <td>Chihuahua Sh Mix</td>\n",
              "      <td>N</td>\n",
              "      <td>N</td>\n",
              "      <td>Y</td>\n",
              "      <td>N</td>\n",
              "      <td>N</td>\n",
              "      <td>N</td>\n",
              "      <td>18.0</td>\n",
              "      <td>6.0</td>\n",
              "      <td>Toy</td>\n",
              "      <td>Tan &amp; White</td>\n",
              "      <td>3.30</td>\n",
              "      <td>Heartworm Negative</td>\n",
              "      <td>1/7/2016</td>\n",
              "      <td>Adoption</td>\n",
              "      <td>6</td>\n",
              "    </tr>\n",
              "    <tr>\n",
              "      <th>1</th>\n",
              "      <td>K12-000037</td>\n",
              "      <td>1/1/2016</td>\n",
              "      <td>Stray</td>\n",
              "      <td>Dog</td>\n",
              "      <td>Intact</td>\n",
              "      <td>Female</td>\n",
              "      <td>3</td>\n",
              "      <td>Normal</td>\n",
              "      <td>Rat Terrier Mix</td>\n",
              "      <td>N</td>\n",
              "      <td>N</td>\n",
              "      <td>Y</td>\n",
              "      <td>N</td>\n",
              "      <td>Y</td>\n",
              "      <td>Y</td>\n",
              "      <td>14.0</td>\n",
              "      <td>25.0</td>\n",
              "      <td>Terrier</td>\n",
              "      <td>White &amp; Brown</td>\n",
              "      <td>7.50</td>\n",
              "      <td>No Lab Test</td>\n",
              "      <td>1/3/2016</td>\n",
              "      <td>Return to Owner</td>\n",
              "      <td>2</td>\n",
              "    </tr>\n",
              "    <tr>\n",
              "      <th>2</th>\n",
              "      <td>K12-000108</td>\n",
              "      <td>1/1/2016</td>\n",
              "      <td>Stray</td>\n",
              "      <td>Dog</td>\n",
              "      <td>Intact</td>\n",
              "      <td>Male</td>\n",
              "      <td>2</td>\n",
              "      <td>Normal</td>\n",
              "      <td>Pit Bull Mix</td>\n",
              "      <td>N</td>\n",
              "      <td>N</td>\n",
              "      <td>N</td>\n",
              "      <td>Y</td>\n",
              "      <td>N</td>\n",
              "      <td>Y</td>\n",
              "      <td>14.0</td>\n",
              "      <td>90.0</td>\n",
              "      <td>Terrier</td>\n",
              "      <td>Blue &amp; White</td>\n",
              "      <td>74.00</td>\n",
              "      <td>Heartworm Negative</td>\n",
              "      <td>1/13/2016</td>\n",
              "      <td>Humane Euthanasia</td>\n",
              "      <td>12</td>\n",
              "    </tr>\n",
              "    <tr>\n",
              "      <th>3</th>\n",
              "      <td>K12-000125</td>\n",
              "      <td>1/1/2016</td>\n",
              "      <td>Stray</td>\n",
              "      <td>Dog</td>\n",
              "      <td>Neutered</td>\n",
              "      <td>Male</td>\n",
              "      <td>0</td>\n",
              "      <td>Normal</td>\n",
              "      <td>Labrador Retr &amp; Border Collie</td>\n",
              "      <td>N</td>\n",
              "      <td>Y</td>\n",
              "      <td>Y</td>\n",
              "      <td>Y</td>\n",
              "      <td>Y</td>\n",
              "      <td>Y</td>\n",
              "      <td>12.0</td>\n",
              "      <td>79.0</td>\n",
              "      <td>Sporting</td>\n",
              "      <td>White &amp; Black</td>\n",
              "      <td>22.00</td>\n",
              "      <td>No Lab Test</td>\n",
              "      <td>1/8/2016</td>\n",
              "      <td>Adoption</td>\n",
              "      <td>7</td>\n",
              "    </tr>\n",
              "    <tr>\n",
              "      <th>4</th>\n",
              "      <td>K12-000157</td>\n",
              "      <td>1/1/2016</td>\n",
              "      <td>Stray</td>\n",
              "      <td>Dog</td>\n",
              "      <td>Neutered</td>\n",
              "      <td>Male</td>\n",
              "      <td>3</td>\n",
              "      <td>Injured or Sick</td>\n",
              "      <td>Labrador Retr</td>\n",
              "      <td>N</td>\n",
              "      <td>Y</td>\n",
              "      <td>Y</td>\n",
              "      <td>Y</td>\n",
              "      <td>Y</td>\n",
              "      <td>Y</td>\n",
              "      <td>12.0</td>\n",
              "      <td>79.0</td>\n",
              "      <td>Sporting</td>\n",
              "      <td>Black &amp; White</td>\n",
              "      <td>54.00</td>\n",
              "      <td>Heartworm Negative</td>\n",
              "      <td>4/4/2016</td>\n",
              "      <td>Adoption</td>\n",
              "      <td>94</td>\n",
              "    </tr>\n",
              "    <tr>\n",
              "      <th>...</th>\n",
              "      <td>...</td>\n",
              "      <td>...</td>\n",
              "      <td>...</td>\n",
              "      <td>...</td>\n",
              "      <td>...</td>\n",
              "      <td>...</td>\n",
              "      <td>...</td>\n",
              "      <td>...</td>\n",
              "      <td>...</td>\n",
              "      <td>...</td>\n",
              "      <td>...</td>\n",
              "      <td>...</td>\n",
              "      <td>...</td>\n",
              "      <td>...</td>\n",
              "      <td>...</td>\n",
              "      <td>...</td>\n",
              "      <td>...</td>\n",
              "      <td>...</td>\n",
              "      <td>...</td>\n",
              "      <td>...</td>\n",
              "      <td>...</td>\n",
              "      <td>...</td>\n",
              "      <td>...</td>\n",
              "      <td>...</td>\n",
              "    </tr>\n",
              "    <tr>\n",
              "      <th>465</th>\n",
              "      <td>K12-022595</td>\n",
              "      <td>12/23/2016</td>\n",
              "      <td>Stray</td>\n",
              "      <td>Dog</td>\n",
              "      <td>Neutered</td>\n",
              "      <td>Male</td>\n",
              "      <td>0</td>\n",
              "      <td>Normal</td>\n",
              "      <td>Norfolk Terrier Mix</td>\n",
              "      <td>Y</td>\n",
              "      <td>Y</td>\n",
              "      <td>N</td>\n",
              "      <td>N</td>\n",
              "      <td>N</td>\n",
              "      <td>Y</td>\n",
              "      <td>15.0</td>\n",
              "      <td>11.0</td>\n",
              "      <td>Terrier</td>\n",
              "      <td>Cream &amp; White</td>\n",
              "      <td>7.50</td>\n",
              "      <td>No Lab Test</td>\n",
              "      <td>12/31/2016</td>\n",
              "      <td>Adoption</td>\n",
              "      <td>8</td>\n",
              "    </tr>\n",
              "    <tr>\n",
              "      <th>466</th>\n",
              "      <td>K12-022596</td>\n",
              "      <td>12/23/2016</td>\n",
              "      <td>Owner Surrender</td>\n",
              "      <td>Dog</td>\n",
              "      <td>Intact</td>\n",
              "      <td>Female</td>\n",
              "      <td>1</td>\n",
              "      <td>Injured or Sick</td>\n",
              "      <td>Shih Tzu Mix</td>\n",
              "      <td>N</td>\n",
              "      <td>N</td>\n",
              "      <td>N</td>\n",
              "      <td>N</td>\n",
              "      <td>N</td>\n",
              "      <td>Y</td>\n",
              "      <td>16.0</td>\n",
              "      <td>16.0</td>\n",
              "      <td>Non-Sporting</td>\n",
              "      <td>White &amp; Black</td>\n",
              "      <td>5.75</td>\n",
              "      <td>No Lab Test</td>\n",
              "      <td>12/24/2016</td>\n",
              "      <td>Transfer</td>\n",
              "      <td>1</td>\n",
              "    </tr>\n",
              "    <tr>\n",
              "      <th>470</th>\n",
              "      <td>K12-022814</td>\n",
              "      <td>12/23/2016</td>\n",
              "      <td>Owner Surrender</td>\n",
              "      <td>Dog</td>\n",
              "      <td>Neutered</td>\n",
              "      <td>Male</td>\n",
              "      <td>4</td>\n",
              "      <td>Injured or Sick</td>\n",
              "      <td>Bruss Griffon Mix</td>\n",
              "      <td>N</td>\n",
              "      <td>N</td>\n",
              "      <td>Y</td>\n",
              "      <td>Y</td>\n",
              "      <td>N</td>\n",
              "      <td>Y</td>\n",
              "      <td>15.0</td>\n",
              "      <td>10.0</td>\n",
              "      <td>Toy</td>\n",
              "      <td>Brown</td>\n",
              "      <td>10.50</td>\n",
              "      <td>No Lab Test</td>\n",
              "      <td>12/29/2016</td>\n",
              "      <td>Humane Euthanasia</td>\n",
              "      <td>6</td>\n",
              "    </tr>\n",
              "    <tr>\n",
              "      <th>471</th>\n",
              "      <td>K12-022885</td>\n",
              "      <td>12/30/2016</td>\n",
              "      <td>Stray</td>\n",
              "      <td>Dog</td>\n",
              "      <td>Intact</td>\n",
              "      <td>Male</td>\n",
              "      <td>2</td>\n",
              "      <td>Normal</td>\n",
              "      <td>Poodle Min Mix</td>\n",
              "      <td>N</td>\n",
              "      <td>N</td>\n",
              "      <td>Y</td>\n",
              "      <td>Y</td>\n",
              "      <td>N</td>\n",
              "      <td>Y</td>\n",
              "      <td>14.0</td>\n",
              "      <td>9.0</td>\n",
              "      <td>Toy</td>\n",
              "      <td>White</td>\n",
              "      <td>13.50</td>\n",
              "      <td>Heartworm Negative</td>\n",
              "      <td>1/4/13</td>\n",
              "      <td>Return to Owner</td>\n",
              "      <td>5</td>\n",
              "    </tr>\n",
              "    <tr>\n",
              "      <th>472</th>\n",
              "      <td>K12-022889</td>\n",
              "      <td>12/30/2016</td>\n",
              "      <td>Stray</td>\n",
              "      <td>Dog</td>\n",
              "      <td>Neutered</td>\n",
              "      <td>Male</td>\n",
              "      <td>2</td>\n",
              "      <td>Normal</td>\n",
              "      <td>Dachshund Mix</td>\n",
              "      <td>Y</td>\n",
              "      <td>N</td>\n",
              "      <td>N</td>\n",
              "      <td>Y</td>\n",
              "      <td>Y</td>\n",
              "      <td>N</td>\n",
              "      <td>14.0</td>\n",
              "      <td>28.0</td>\n",
              "      <td>Hound</td>\n",
              "      <td>Red</td>\n",
              "      <td>12.00</td>\n",
              "      <td>Heartworm Negative</td>\n",
              "      <td>1/4/13</td>\n",
              "      <td>Adoption</td>\n",
              "      <td>5</td>\n",
              "    </tr>\n",
              "  </tbody>\n",
              "</table>\n",
              "<p>291 rows × 24 columns</p>\n",
              "</div>\n",
              "      <button class=\"colab-df-convert\" onclick=\"convertToInteractive('df-6fda0251-853a-4dfc-8fce-2ca5efff6c54')\"\n",
              "              title=\"Convert this dataframe to an interactive table.\"\n",
              "              style=\"display:none;\">\n",
              "        \n",
              "  <svg xmlns=\"http://www.w3.org/2000/svg\" height=\"24px\"viewBox=\"0 0 24 24\"\n",
              "       width=\"24px\">\n",
              "    <path d=\"M0 0h24v24H0V0z\" fill=\"none\"/>\n",
              "    <path d=\"M18.56 5.44l.94 2.06.94-2.06 2.06-.94-2.06-.94-.94-2.06-.94 2.06-2.06.94zm-11 1L8.5 8.5l.94-2.06 2.06-.94-2.06-.94L8.5 2.5l-.94 2.06-2.06.94zm10 10l.94 2.06.94-2.06 2.06-.94-2.06-.94-.94-2.06-.94 2.06-2.06.94z\"/><path d=\"M17.41 7.96l-1.37-1.37c-.4-.4-.92-.59-1.43-.59-.52 0-1.04.2-1.43.59L10.3 9.45l-7.72 7.72c-.78.78-.78 2.05 0 2.83L4 21.41c.39.39.9.59 1.41.59.51 0 1.02-.2 1.41-.59l7.78-7.78 2.81-2.81c.8-.78.8-2.07 0-2.86zM5.41 20L4 18.59l7.72-7.72 1.47 1.35L5.41 20z\"/>\n",
              "  </svg>\n",
              "      </button>\n",
              "      \n",
              "  <style>\n",
              "    .colab-df-container {\n",
              "      display:flex;\n",
              "      flex-wrap:wrap;\n",
              "      gap: 12px;\n",
              "    }\n",
              "\n",
              "    .colab-df-convert {\n",
              "      background-color: #E8F0FE;\n",
              "      border: none;\n",
              "      border-radius: 50%;\n",
              "      cursor: pointer;\n",
              "      display: none;\n",
              "      fill: #1967D2;\n",
              "      height: 32px;\n",
              "      padding: 0 0 0 0;\n",
              "      width: 32px;\n",
              "    }\n",
              "\n",
              "    .colab-df-convert:hover {\n",
              "      background-color: #E2EBFA;\n",
              "      box-shadow: 0px 1px 2px rgba(60, 64, 67, 0.3), 0px 1px 3px 1px rgba(60, 64, 67, 0.15);\n",
              "      fill: #174EA6;\n",
              "    }\n",
              "\n",
              "    [theme=dark] .colab-df-convert {\n",
              "      background-color: #3B4455;\n",
              "      fill: #D2E3FC;\n",
              "    }\n",
              "\n",
              "    [theme=dark] .colab-df-convert:hover {\n",
              "      background-color: #434B5C;\n",
              "      box-shadow: 0px 1px 3px 1px rgba(0, 0, 0, 0.15);\n",
              "      filter: drop-shadow(0px 1px 2px rgba(0, 0, 0, 0.3));\n",
              "      fill: #FFFFFF;\n",
              "    }\n",
              "  </style>\n",
              "\n",
              "      <script>\n",
              "        const buttonEl =\n",
              "          document.querySelector('#df-6fda0251-853a-4dfc-8fce-2ca5efff6c54 button.colab-df-convert');\n",
              "        buttonEl.style.display =\n",
              "          google.colab.kernel.accessAllowed ? 'block' : 'none';\n",
              "\n",
              "        async function convertToInteractive(key) {\n",
              "          const element = document.querySelector('#df-6fda0251-853a-4dfc-8fce-2ca5efff6c54');\n",
              "          const dataTable =\n",
              "            await google.colab.kernel.invokeFunction('convertToInteractive',\n",
              "                                                     [key], {});\n",
              "          if (!dataTable) return;\n",
              "\n",
              "          const docLinkHtml = 'Like what you see? Visit the ' +\n",
              "            '<a target=\"_blank\" href=https://colab.research.google.com/notebooks/data_table.ipynb>data table notebook</a>'\n",
              "            + ' to learn more about interactive tables.';\n",
              "          element.innerHTML = '';\n",
              "          dataTable['output_type'] = 'display_data';\n",
              "          await google.colab.output.renderOutput(dataTable, element);\n",
              "          const docLink = document.createElement('div');\n",
              "          docLink.innerHTML = docLinkHtml;\n",
              "          element.appendChild(docLink);\n",
              "        }\n",
              "      </script>\n",
              "    </div>\n",
              "  </div>\n",
              "  "
            ],
            "text/plain": [
              "     Impound.No Intake.Date  ...       Outcome.Type Days.Shelter\n",
              "0    K12-000031    1/1/2016  ...           Adoption            6\n",
              "1    K12-000037    1/1/2016  ...    Return to Owner            2\n",
              "2    K12-000108    1/1/2016  ...  Humane Euthanasia           12\n",
              "3    K12-000125    1/1/2016  ...           Adoption            7\n",
              "4    K12-000157    1/1/2016  ...           Adoption           94\n",
              "..          ...         ...  ...                ...          ...\n",
              "465  K12-022595  12/23/2016  ...           Adoption            8\n",
              "466  K12-022596  12/23/2016  ...           Transfer            1\n",
              "470  K12-022814  12/23/2016  ...  Humane Euthanasia            6\n",
              "471  K12-022885  12/30/2016  ...    Return to Owner            5\n",
              "472  K12-022889  12/30/2016  ...           Adoption            5\n",
              "\n",
              "[291 rows x 24 columns]"
            ]
          },
          "metadata": {},
          "execution_count": 24
        }
      ]
    },
    {
      "cell_type": "code",
      "source": [
        "df_dog_inteligente_lealdade = df_dog[['Animal.Type', 'Intelligent', 'Loyal']]\n",
        "df_dog_inteligente_lealdade"
      ],
      "metadata": {
        "colab": {
          "base_uri": "https://localhost:8080/",
          "height": 424
        },
        "id": "GBPKAN9nttXG",
        "outputId": "60b3378e-4060-4e9c-991d-de812da89aae"
      },
      "execution_count": 33,
      "outputs": [
        {
          "output_type": "execute_result",
          "data": {
            "text/html": [
              "\n",
              "  <div id=\"df-e661e11d-32c1-4633-896b-f57bddd3d4a2\">\n",
              "    <div class=\"colab-df-container\">\n",
              "      <div>\n",
              "<style scoped>\n",
              "    .dataframe tbody tr th:only-of-type {\n",
              "        vertical-align: middle;\n",
              "    }\n",
              "\n",
              "    .dataframe tbody tr th {\n",
              "        vertical-align: top;\n",
              "    }\n",
              "\n",
              "    .dataframe thead th {\n",
              "        text-align: right;\n",
              "    }\n",
              "</style>\n",
              "<table border=\"1\" class=\"dataframe\">\n",
              "  <thead>\n",
              "    <tr style=\"text-align: right;\">\n",
              "      <th></th>\n",
              "      <th>Animal.Type</th>\n",
              "      <th>Intelligent</th>\n",
              "      <th>Loyal</th>\n",
              "    </tr>\n",
              "  </thead>\n",
              "  <tbody>\n",
              "    <tr>\n",
              "      <th>0</th>\n",
              "      <td>Dog</td>\n",
              "      <td>Y</td>\n",
              "      <td>N</td>\n",
              "    </tr>\n",
              "    <tr>\n",
              "      <th>1</th>\n",
              "      <td>Dog</td>\n",
              "      <td>Y</td>\n",
              "      <td>N</td>\n",
              "    </tr>\n",
              "    <tr>\n",
              "      <th>2</th>\n",
              "      <td>Dog</td>\n",
              "      <td>N</td>\n",
              "      <td>Y</td>\n",
              "    </tr>\n",
              "    <tr>\n",
              "      <th>3</th>\n",
              "      <td>Dog</td>\n",
              "      <td>Y</td>\n",
              "      <td>Y</td>\n",
              "    </tr>\n",
              "    <tr>\n",
              "      <th>4</th>\n",
              "      <td>Dog</td>\n",
              "      <td>Y</td>\n",
              "      <td>Y</td>\n",
              "    </tr>\n",
              "    <tr>\n",
              "      <th>...</th>\n",
              "      <td>...</td>\n",
              "      <td>...</td>\n",
              "      <td>...</td>\n",
              "    </tr>\n",
              "    <tr>\n",
              "      <th>465</th>\n",
              "      <td>Dog</td>\n",
              "      <td>N</td>\n",
              "      <td>N</td>\n",
              "    </tr>\n",
              "    <tr>\n",
              "      <th>466</th>\n",
              "      <td>Dog</td>\n",
              "      <td>N</td>\n",
              "      <td>N</td>\n",
              "    </tr>\n",
              "    <tr>\n",
              "      <th>470</th>\n",
              "      <td>Dog</td>\n",
              "      <td>Y</td>\n",
              "      <td>Y</td>\n",
              "    </tr>\n",
              "    <tr>\n",
              "      <th>471</th>\n",
              "      <td>Dog</td>\n",
              "      <td>Y</td>\n",
              "      <td>Y</td>\n",
              "    </tr>\n",
              "    <tr>\n",
              "      <th>472</th>\n",
              "      <td>Dog</td>\n",
              "      <td>N</td>\n",
              "      <td>Y</td>\n",
              "    </tr>\n",
              "  </tbody>\n",
              "</table>\n",
              "<p>291 rows × 3 columns</p>\n",
              "</div>\n",
              "      <button class=\"colab-df-convert\" onclick=\"convertToInteractive('df-e661e11d-32c1-4633-896b-f57bddd3d4a2')\"\n",
              "              title=\"Convert this dataframe to an interactive table.\"\n",
              "              style=\"display:none;\">\n",
              "        \n",
              "  <svg xmlns=\"http://www.w3.org/2000/svg\" height=\"24px\"viewBox=\"0 0 24 24\"\n",
              "       width=\"24px\">\n",
              "    <path d=\"M0 0h24v24H0V0z\" fill=\"none\"/>\n",
              "    <path d=\"M18.56 5.44l.94 2.06.94-2.06 2.06-.94-2.06-.94-.94-2.06-.94 2.06-2.06.94zm-11 1L8.5 8.5l.94-2.06 2.06-.94-2.06-.94L8.5 2.5l-.94 2.06-2.06.94zm10 10l.94 2.06.94-2.06 2.06-.94-2.06-.94-.94-2.06-.94 2.06-2.06.94z\"/><path d=\"M17.41 7.96l-1.37-1.37c-.4-.4-.92-.59-1.43-.59-.52 0-1.04.2-1.43.59L10.3 9.45l-7.72 7.72c-.78.78-.78 2.05 0 2.83L4 21.41c.39.39.9.59 1.41.59.51 0 1.02-.2 1.41-.59l7.78-7.78 2.81-2.81c.8-.78.8-2.07 0-2.86zM5.41 20L4 18.59l7.72-7.72 1.47 1.35L5.41 20z\"/>\n",
              "  </svg>\n",
              "      </button>\n",
              "      \n",
              "  <style>\n",
              "    .colab-df-container {\n",
              "      display:flex;\n",
              "      flex-wrap:wrap;\n",
              "      gap: 12px;\n",
              "    }\n",
              "\n",
              "    .colab-df-convert {\n",
              "      background-color: #E8F0FE;\n",
              "      border: none;\n",
              "      border-radius: 50%;\n",
              "      cursor: pointer;\n",
              "      display: none;\n",
              "      fill: #1967D2;\n",
              "      height: 32px;\n",
              "      padding: 0 0 0 0;\n",
              "      width: 32px;\n",
              "    }\n",
              "\n",
              "    .colab-df-convert:hover {\n",
              "      background-color: #E2EBFA;\n",
              "      box-shadow: 0px 1px 2px rgba(60, 64, 67, 0.3), 0px 1px 3px 1px rgba(60, 64, 67, 0.15);\n",
              "      fill: #174EA6;\n",
              "    }\n",
              "\n",
              "    [theme=dark] .colab-df-convert {\n",
              "      background-color: #3B4455;\n",
              "      fill: #D2E3FC;\n",
              "    }\n",
              "\n",
              "    [theme=dark] .colab-df-convert:hover {\n",
              "      background-color: #434B5C;\n",
              "      box-shadow: 0px 1px 3px 1px rgba(0, 0, 0, 0.15);\n",
              "      filter: drop-shadow(0px 1px 2px rgba(0, 0, 0, 0.3));\n",
              "      fill: #FFFFFF;\n",
              "    }\n",
              "  </style>\n",
              "\n",
              "      <script>\n",
              "        const buttonEl =\n",
              "          document.querySelector('#df-e661e11d-32c1-4633-896b-f57bddd3d4a2 button.colab-df-convert');\n",
              "        buttonEl.style.display =\n",
              "          google.colab.kernel.accessAllowed ? 'block' : 'none';\n",
              "\n",
              "        async function convertToInteractive(key) {\n",
              "          const element = document.querySelector('#df-e661e11d-32c1-4633-896b-f57bddd3d4a2');\n",
              "          const dataTable =\n",
              "            await google.colab.kernel.invokeFunction('convertToInteractive',\n",
              "                                                     [key], {});\n",
              "          if (!dataTable) return;\n",
              "\n",
              "          const docLinkHtml = 'Like what you see? Visit the ' +\n",
              "            '<a target=\"_blank\" href=https://colab.research.google.com/notebooks/data_table.ipynb>data table notebook</a>'\n",
              "            + ' to learn more about interactive tables.';\n",
              "          element.innerHTML = '';\n",
              "          dataTable['output_type'] = 'display_data';\n",
              "          await google.colab.output.renderOutput(dataTable, element);\n",
              "          const docLink = document.createElement('div');\n",
              "          docLink.innerHTML = docLinkHtml;\n",
              "          element.appendChild(docLink);\n",
              "        }\n",
              "      </script>\n",
              "    </div>\n",
              "  </div>\n",
              "  "
            ],
            "text/plain": [
              "    Animal.Type Intelligent Loyal\n",
              "0           Dog           Y     N\n",
              "1           Dog           Y     N\n",
              "2           Dog           N     Y\n",
              "3           Dog           Y     Y\n",
              "4           Dog           Y     Y\n",
              "..          ...         ...   ...\n",
              "465         Dog           N     N\n",
              "466         Dog           N     N\n",
              "470         Dog           Y     Y\n",
              "471         Dog           Y     Y\n",
              "472         Dog           N     Y\n",
              "\n",
              "[291 rows x 3 columns]"
            ]
          },
          "metadata": {},
          "execution_count": 33
        }
      ]
    },
    {
      "cell_type": "code",
      "source": [
        "scipy.stats.chisquare(df_dog_inteligente_lealdade['Intelligent'].value_counts())"
      ],
      "metadata": {
        "colab": {
          "base_uri": "https://localhost:8080/"
        },
        "id": "bjC4UYTLuFrE",
        "outputId": "9f8a5bae-d816-474d-a4bb-4b62034516f8"
      },
      "execution_count": 34,
      "outputs": [
        {
          "output_type": "execute_result",
          "data": {
            "text/plain": [
              "Power_divergenceResult(statistic=12.786941580756015, pvalue=0.0003490473054141802)"
            ]
          },
          "metadata": {},
          "execution_count": 34
        }
      ]
    },
    {
      "cell_type": "code",
      "source": [
        "scipy.stats.chisquare(df_dog_inteligente_lealdade['Loyal'].value_counts())"
      ],
      "metadata": {
        "colab": {
          "base_uri": "https://localhost:8080/"
        },
        "id": "PzsxtuPnvVKK",
        "outputId": "3abbbba5-b1a9-47f8-dd15-a5857faa2e32"
      },
      "execution_count": 35,
      "outputs": [
        {
          "output_type": "execute_result",
          "data": {
            "text/plain": [
              "Power_divergenceResult(statistic=20.374570446735394, pvalue=6.367027957629322e-06)"
            ]
          },
          "metadata": {},
          "execution_count": 35
        }
      ]
    },
    {
      "cell_type": "code",
      "source": [
        "freq_table = pd.crosstab(df_dog_inteligente_lealdade['Intelligent'], df_dog_inteligente_lealdade['Loyal'])\n",
        "freq_table"
      ],
      "metadata": {
        "colab": {
          "base_uri": "https://localhost:8080/",
          "height": 143
        },
        "id": "rKRjA1FLvchd",
        "outputId": "919dad19-6935-4542-fd86-cadaabae243e"
      },
      "execution_count": 36,
      "outputs": [
        {
          "output_type": "execute_result",
          "data": {
            "text/html": [
              "\n",
              "  <div id=\"df-de86400b-a18d-4f07-9483-8178dc1937df\">\n",
              "    <div class=\"colab-df-container\">\n",
              "      <div>\n",
              "<style scoped>\n",
              "    .dataframe tbody tr th:only-of-type {\n",
              "        vertical-align: middle;\n",
              "    }\n",
              "\n",
              "    .dataframe tbody tr th {\n",
              "        vertical-align: top;\n",
              "    }\n",
              "\n",
              "    .dataframe thead th {\n",
              "        text-align: right;\n",
              "    }\n",
              "</style>\n",
              "<table border=\"1\" class=\"dataframe\">\n",
              "  <thead>\n",
              "    <tr style=\"text-align: right;\">\n",
              "      <th>Loyal</th>\n",
              "      <th>N</th>\n",
              "      <th>Y</th>\n",
              "    </tr>\n",
              "    <tr>\n",
              "      <th>Intelligent</th>\n",
              "      <th></th>\n",
              "      <th></th>\n",
              "    </tr>\n",
              "  </thead>\n",
              "  <tbody>\n",
              "    <tr>\n",
              "      <th>N</th>\n",
              "      <td>34</td>\n",
              "      <td>81</td>\n",
              "    </tr>\n",
              "    <tr>\n",
              "      <th>Y</th>\n",
              "      <td>73</td>\n",
              "      <td>103</td>\n",
              "    </tr>\n",
              "  </tbody>\n",
              "</table>\n",
              "</div>\n",
              "      <button class=\"colab-df-convert\" onclick=\"convertToInteractive('df-de86400b-a18d-4f07-9483-8178dc1937df')\"\n",
              "              title=\"Convert this dataframe to an interactive table.\"\n",
              "              style=\"display:none;\">\n",
              "        \n",
              "  <svg xmlns=\"http://www.w3.org/2000/svg\" height=\"24px\"viewBox=\"0 0 24 24\"\n",
              "       width=\"24px\">\n",
              "    <path d=\"M0 0h24v24H0V0z\" fill=\"none\"/>\n",
              "    <path d=\"M18.56 5.44l.94 2.06.94-2.06 2.06-.94-2.06-.94-.94-2.06-.94 2.06-2.06.94zm-11 1L8.5 8.5l.94-2.06 2.06-.94-2.06-.94L8.5 2.5l-.94 2.06-2.06.94zm10 10l.94 2.06.94-2.06 2.06-.94-2.06-.94-.94-2.06-.94 2.06-2.06.94z\"/><path d=\"M17.41 7.96l-1.37-1.37c-.4-.4-.92-.59-1.43-.59-.52 0-1.04.2-1.43.59L10.3 9.45l-7.72 7.72c-.78.78-.78 2.05 0 2.83L4 21.41c.39.39.9.59 1.41.59.51 0 1.02-.2 1.41-.59l7.78-7.78 2.81-2.81c.8-.78.8-2.07 0-2.86zM5.41 20L4 18.59l7.72-7.72 1.47 1.35L5.41 20z\"/>\n",
              "  </svg>\n",
              "      </button>\n",
              "      \n",
              "  <style>\n",
              "    .colab-df-container {\n",
              "      display:flex;\n",
              "      flex-wrap:wrap;\n",
              "      gap: 12px;\n",
              "    }\n",
              "\n",
              "    .colab-df-convert {\n",
              "      background-color: #E8F0FE;\n",
              "      border: none;\n",
              "      border-radius: 50%;\n",
              "      cursor: pointer;\n",
              "      display: none;\n",
              "      fill: #1967D2;\n",
              "      height: 32px;\n",
              "      padding: 0 0 0 0;\n",
              "      width: 32px;\n",
              "    }\n",
              "\n",
              "    .colab-df-convert:hover {\n",
              "      background-color: #E2EBFA;\n",
              "      box-shadow: 0px 1px 2px rgba(60, 64, 67, 0.3), 0px 1px 3px 1px rgba(60, 64, 67, 0.15);\n",
              "      fill: #174EA6;\n",
              "    }\n",
              "\n",
              "    [theme=dark] .colab-df-convert {\n",
              "      background-color: #3B4455;\n",
              "      fill: #D2E3FC;\n",
              "    }\n",
              "\n",
              "    [theme=dark] .colab-df-convert:hover {\n",
              "      background-color: #434B5C;\n",
              "      box-shadow: 0px 1px 3px 1px rgba(0, 0, 0, 0.15);\n",
              "      filter: drop-shadow(0px 1px 2px rgba(0, 0, 0, 0.3));\n",
              "      fill: #FFFFFF;\n",
              "    }\n",
              "  </style>\n",
              "\n",
              "      <script>\n",
              "        const buttonEl =\n",
              "          document.querySelector('#df-de86400b-a18d-4f07-9483-8178dc1937df button.colab-df-convert');\n",
              "        buttonEl.style.display =\n",
              "          google.colab.kernel.accessAllowed ? 'block' : 'none';\n",
              "\n",
              "        async function convertToInteractive(key) {\n",
              "          const element = document.querySelector('#df-de86400b-a18d-4f07-9483-8178dc1937df');\n",
              "          const dataTable =\n",
              "            await google.colab.kernel.invokeFunction('convertToInteractive',\n",
              "                                                     [key], {});\n",
              "          if (!dataTable) return;\n",
              "\n",
              "          const docLinkHtml = 'Like what you see? Visit the ' +\n",
              "            '<a target=\"_blank\" href=https://colab.research.google.com/notebooks/data_table.ipynb>data table notebook</a>'\n",
              "            + ' to learn more about interactive tables.';\n",
              "          element.innerHTML = '';\n",
              "          dataTable['output_type'] = 'display_data';\n",
              "          await google.colab.output.renderOutput(dataTable, element);\n",
              "          const docLink = document.createElement('div');\n",
              "          docLink.innerHTML = docLinkHtml;\n",
              "          element.appendChild(docLink);\n",
              "        }\n",
              "      </script>\n",
              "    </div>\n",
              "  </div>\n",
              "  "
            ],
            "text/plain": [
              "Loyal         N    Y\n",
              "Intelligent         \n",
              "N            34   81\n",
              "Y            73  103"
            ]
          },
          "metadata": {},
          "execution_count": 36
        }
      ]
    },
    {
      "cell_type": "code",
      "source": [
        "chi2stat, p_value, dof, freq_experada = chi2_contingency(freq_table)\n",
        "print(chi2stat)\n",
        "print(p_value)\n",
        "print(dof)\n",
        "print(freq_experada)"
      ],
      "metadata": {
        "colab": {
          "base_uri": "https://localhost:8080/"
        },
        "id": "Ouf_NKGXv-dJ",
        "outputId": "f45572d7-7807-45d6-d946-2944315e6bd7"
      },
      "execution_count": 37,
      "outputs": [
        {
          "output_type": "stream",
          "name": "stdout",
          "text": [
            "3.74808139071793\n",
            "0.05286816307944323\n",
            "1\n",
            "[[ 42.28522337  72.71477663]\n",
            " [ 64.71477663 111.28522337]]\n"
          ]
        }
      ]
    },
    {
      "cell_type": "code",
      "source": [
        "prob = 0.95\n",
        "valor_crit = chi2.ppf(prob, dof)\n",
        "valor_crit"
      ],
      "metadata": {
        "colab": {
          "base_uri": "https://localhost:8080/"
        },
        "id": "sF_e7G3DwFbK",
        "outputId": "cdd6dcce-8389-4e0b-ae45-058b8f6e5a32"
      },
      "execution_count": 38,
      "outputs": [
        {
          "output_type": "execute_result",
          "data": {
            "text/plain": [
              "3.841458820694124"
            ]
          },
          "metadata": {},
          "execution_count": 38
        }
      ]
    },
    {
      "cell_type": "code",
      "source": [
        "if abs(chi2stat) >= valor_crit:\n",
        "  print(\"há relação entre inteligência e lealdade de cães (Rejeita-se H0\")\n",
        "else:\n",
        "  print(\"não há relação entre inteligência e lealdade de cães (Aceita-se H0)\")\n",
        "  "
      ],
      "metadata": {
        "colab": {
          "base_uri": "https://localhost:8080/"
        },
        "id": "bfItfIsYwOYx",
        "outputId": "1e8d858f-be93-4e24-a2f4-9aa1c82a0631"
      },
      "execution_count": 106,
      "outputs": [
        {
          "output_type": "stream",
          "name": "stdout",
          "text": [
            "não há relação entre inteligência e lealdade de cães (Aceita-se H0)\n"
          ]
        }
      ]
    },
    {
      "cell_type": "code",
      "source": [
        ""
      ],
      "metadata": {
        "id": "f3qQ_I9JYgos"
      },
      "execution_count": null,
      "outputs": []
    },
    {
      "cell_type": "markdown",
      "source": [
        "##Pergunta 2:\n",
        "Um pesquisador tem uma hipótese alternativa H1 de que gatos tendem a permanecer mais tempo no abrigo do que cães. Sabendo que a distribuição não é normal e o valor de alfa é de 0.05, calcule o valor crítico aproximado."
      ],
      "metadata": {
        "id": "dGqKN7CM1yWI"
      }
    },
    {
      "cell_type": "code",
      "source": [
        "from scipy.stats import t\n",
        "from scipy.stats import ttest_ind"
      ],
      "metadata": {
        "id": "3e9oIxMR10WR"
      },
      "execution_count": 40,
      "outputs": []
    },
    {
      "cell_type": "code",
      "source": [
        "df_animal['Days.Shelter'].describe()"
      ],
      "metadata": {
        "colab": {
          "base_uri": "https://localhost:8080/"
        },
        "id": "4DgDPITS5HgE",
        "outputId": "454583d5-5792-4f0f-b8ee-35bac9e6041b"
      },
      "execution_count": 43,
      "outputs": [
        {
          "output_type": "execute_result",
          "data": {
            "text/plain": [
              "count    473.000000\n",
              "mean      20.799154\n",
              "std       30.116297\n",
              "min        0.000000\n",
              "25%        6.000000\n",
              "50%        9.000000\n",
              "75%       20.000000\n",
              "max      211.000000\n",
              "Name: Days.Shelter, dtype: float64"
            ]
          },
          "metadata": {},
          "execution_count": 43
        }
      ]
    },
    {
      "cell_type": "code",
      "source": [
        "is_cat = df_animal['Animal.Type'] == 'Cat'\n",
        "is_cat"
      ],
      "metadata": {
        "colab": {
          "base_uri": "https://localhost:8080/"
        },
        "id": "S3ZSoi485J_G",
        "outputId": "59afecf6-73fa-45e2-f8b2-0bdc090050e1"
      },
      "execution_count": 44,
      "outputs": [
        {
          "output_type": "execute_result",
          "data": {
            "text/plain": [
              "0      False\n",
              "1      False\n",
              "2      False\n",
              "3      False\n",
              "4      False\n",
              "       ...  \n",
              "468     True\n",
              "469     True\n",
              "470    False\n",
              "471    False\n",
              "472    False\n",
              "Name: Animal.Type, Length: 473, dtype: bool"
            ]
          },
          "metadata": {},
          "execution_count": 44
        }
      ]
    },
    {
      "cell_type": "code",
      "source": [
        "df_cat = df_animal[is_cat]\n",
        "df_cat"
      ],
      "metadata": {
        "colab": {
          "base_uri": "https://localhost:8080/",
          "height": 939
        },
        "id": "6XOloP4T5mJb",
        "outputId": "3ac4909b-b35e-495a-e90f-437c2375ac58"
      },
      "execution_count": 45,
      "outputs": [
        {
          "output_type": "execute_result",
          "data": {
            "text/html": [
              "\n",
              "  <div id=\"df-5c5435d5-3322-44e3-8bba-1ad2d50f0aec\">\n",
              "    <div class=\"colab-df-container\">\n",
              "      <div>\n",
              "<style scoped>\n",
              "    .dataframe tbody tr th:only-of-type {\n",
              "        vertical-align: middle;\n",
              "    }\n",
              "\n",
              "    .dataframe tbody tr th {\n",
              "        vertical-align: top;\n",
              "    }\n",
              "\n",
              "    .dataframe thead th {\n",
              "        text-align: right;\n",
              "    }\n",
              "</style>\n",
              "<table border=\"1\" class=\"dataframe\">\n",
              "  <thead>\n",
              "    <tr style=\"text-align: right;\">\n",
              "      <th></th>\n",
              "      <th>Impound.No</th>\n",
              "      <th>Intake.Date</th>\n",
              "      <th>Intake.Type</th>\n",
              "      <th>Animal.Type</th>\n",
              "      <th>Neutered.Status</th>\n",
              "      <th>Sex</th>\n",
              "      <th>Age.Intake</th>\n",
              "      <th>Condition</th>\n",
              "      <th>Breed</th>\n",
              "      <th>Aggressive</th>\n",
              "      <th>Independent</th>\n",
              "      <th>Intelligent</th>\n",
              "      <th>Loyal</th>\n",
              "      <th>Social</th>\n",
              "      <th>Good.with.Kids</th>\n",
              "      <th>Max.Life.Expectancy</th>\n",
              "      <th>Max.Weight</th>\n",
              "      <th>Dog.Group</th>\n",
              "      <th>Color</th>\n",
              "      <th>Weight</th>\n",
              "      <th>Lab.Test</th>\n",
              "      <th>Outcome.Date</th>\n",
              "      <th>Outcome.Type</th>\n",
              "      <th>Days.Shelter</th>\n",
              "    </tr>\n",
              "  </thead>\n",
              "  <tbody>\n",
              "    <tr>\n",
              "      <th>13</th>\n",
              "      <td>K12-000642</td>\n",
              "      <td>1/15/2016</td>\n",
              "      <td>Owner Surrender</td>\n",
              "      <td>Cat</td>\n",
              "      <td>Spayed</td>\n",
              "      <td>Female</td>\n",
              "      <td>15</td>\n",
              "      <td>Normal</td>\n",
              "      <td>Domestic Sh Mix</td>\n",
              "      <td>NaN</td>\n",
              "      <td>NaN</td>\n",
              "      <td>NaN</td>\n",
              "      <td>NaN</td>\n",
              "      <td>NaN</td>\n",
              "      <td>NaN</td>\n",
              "      <td>NaN</td>\n",
              "      <td>NaN</td>\n",
              "      <td>NaN</td>\n",
              "      <td>Black</td>\n",
              "      <td>9.80</td>\n",
              "      <td>FeLV Negative, FIV Negative</td>\n",
              "      <td>1/24/2016</td>\n",
              "      <td>Adoption</td>\n",
              "      <td>9</td>\n",
              "    </tr>\n",
              "    <tr>\n",
              "      <th>14</th>\n",
              "      <td>K12-000653</td>\n",
              "      <td>1/15/2016</td>\n",
              "      <td>Stray</td>\n",
              "      <td>Cat</td>\n",
              "      <td>Neutered</td>\n",
              "      <td>Male</td>\n",
              "      <td>4</td>\n",
              "      <td>Normal</td>\n",
              "      <td>Maine Coon Mix</td>\n",
              "      <td>NaN</td>\n",
              "      <td>NaN</td>\n",
              "      <td>NaN</td>\n",
              "      <td>NaN</td>\n",
              "      <td>NaN</td>\n",
              "      <td>NaN</td>\n",
              "      <td>NaN</td>\n",
              "      <td>NaN</td>\n",
              "      <td>NaN</td>\n",
              "      <td>Blue</td>\n",
              "      <td>13.00</td>\n",
              "      <td>FeLV Negative, FIV Positive</td>\n",
              "      <td>1/26/2016</td>\n",
              "      <td>Return to Owner</td>\n",
              "      <td>11</td>\n",
              "    </tr>\n",
              "    <tr>\n",
              "      <th>16</th>\n",
              "      <td>K12-000798</td>\n",
              "      <td>1/15/2016</td>\n",
              "      <td>Owner Surrender</td>\n",
              "      <td>Cat</td>\n",
              "      <td>Spayed</td>\n",
              "      <td>Female</td>\n",
              "      <td>4</td>\n",
              "      <td>Normal</td>\n",
              "      <td>Domestic Sh Mix</td>\n",
              "      <td>NaN</td>\n",
              "      <td>NaN</td>\n",
              "      <td>NaN</td>\n",
              "      <td>NaN</td>\n",
              "      <td>NaN</td>\n",
              "      <td>NaN</td>\n",
              "      <td>NaN</td>\n",
              "      <td>NaN</td>\n",
              "      <td>NaN</td>\n",
              "      <td>Tortie</td>\n",
              "      <td>9.00</td>\n",
              "      <td>FeLV Negative, FIV Negative</td>\n",
              "      <td>3/30/2016</td>\n",
              "      <td>Transfer</td>\n",
              "      <td>75</td>\n",
              "    </tr>\n",
              "    <tr>\n",
              "      <th>18</th>\n",
              "      <td>K12-000893</td>\n",
              "      <td>1/15/2016</td>\n",
              "      <td>Owner Surrender</td>\n",
              "      <td>Cat</td>\n",
              "      <td>Spayed</td>\n",
              "      <td>Female</td>\n",
              "      <td>2</td>\n",
              "      <td>Normal</td>\n",
              "      <td>Domestic Sh Mix</td>\n",
              "      <td>NaN</td>\n",
              "      <td>NaN</td>\n",
              "      <td>NaN</td>\n",
              "      <td>NaN</td>\n",
              "      <td>NaN</td>\n",
              "      <td>NaN</td>\n",
              "      <td>NaN</td>\n",
              "      <td>NaN</td>\n",
              "      <td>NaN</td>\n",
              "      <td>Brn Tabby</td>\n",
              "      <td>10.50</td>\n",
              "      <td>FeLV Negative, FIV Positive</td>\n",
              "      <td>2/2016/2016</td>\n",
              "      <td>Adoption</td>\n",
              "      <td>28</td>\n",
              "    </tr>\n",
              "    <tr>\n",
              "      <th>19</th>\n",
              "      <td>K12-000903</td>\n",
              "      <td>1/15/2016</td>\n",
              "      <td>Stray</td>\n",
              "      <td>Cat</td>\n",
              "      <td>Neutered</td>\n",
              "      <td>Male</td>\n",
              "      <td>0</td>\n",
              "      <td>Normal</td>\n",
              "      <td>Domestic Sh Mix</td>\n",
              "      <td>NaN</td>\n",
              "      <td>NaN</td>\n",
              "      <td>NaN</td>\n",
              "      <td>NaN</td>\n",
              "      <td>NaN</td>\n",
              "      <td>NaN</td>\n",
              "      <td>NaN</td>\n",
              "      <td>NaN</td>\n",
              "      <td>NaN</td>\n",
              "      <td>Black</td>\n",
              "      <td>4.50</td>\n",
              "      <td>FeLV Negative, FIV Positive</td>\n",
              "      <td>2/2016/2016</td>\n",
              "      <td>Adoption</td>\n",
              "      <td>28</td>\n",
              "    </tr>\n",
              "    <tr>\n",
              "      <th>...</th>\n",
              "      <td>...</td>\n",
              "      <td>...</td>\n",
              "      <td>...</td>\n",
              "      <td>...</td>\n",
              "      <td>...</td>\n",
              "      <td>...</td>\n",
              "      <td>...</td>\n",
              "      <td>...</td>\n",
              "      <td>...</td>\n",
              "      <td>...</td>\n",
              "      <td>...</td>\n",
              "      <td>...</td>\n",
              "      <td>...</td>\n",
              "      <td>...</td>\n",
              "      <td>...</td>\n",
              "      <td>...</td>\n",
              "      <td>...</td>\n",
              "      <td>...</td>\n",
              "      <td>...</td>\n",
              "      <td>...</td>\n",
              "      <td>...</td>\n",
              "      <td>...</td>\n",
              "      <td>...</td>\n",
              "      <td>...</td>\n",
              "    </tr>\n",
              "    <tr>\n",
              "      <th>451</th>\n",
              "      <td>K12-022168</td>\n",
              "      <td>12/9/2016</td>\n",
              "      <td>Stray</td>\n",
              "      <td>Cat</td>\n",
              "      <td>Spayed</td>\n",
              "      <td>Female</td>\n",
              "      <td>0</td>\n",
              "      <td>Normal</td>\n",
              "      <td>Domestic Sh Mix</td>\n",
              "      <td>NaN</td>\n",
              "      <td>NaN</td>\n",
              "      <td>NaN</td>\n",
              "      <td>NaN</td>\n",
              "      <td>NaN</td>\n",
              "      <td>NaN</td>\n",
              "      <td>NaN</td>\n",
              "      <td>NaN</td>\n",
              "      <td>NaN</td>\n",
              "      <td>White &amp; Blue</td>\n",
              "      <td>4.00</td>\n",
              "      <td>FeLV Negative, FIV Negative</td>\n",
              "      <td>12/21/2016</td>\n",
              "      <td>Adoption</td>\n",
              "      <td>12</td>\n",
              "    </tr>\n",
              "    <tr>\n",
              "      <th>461</th>\n",
              "      <td>K12-022529</td>\n",
              "      <td>12/16/2016</td>\n",
              "      <td>Stray</td>\n",
              "      <td>Cat</td>\n",
              "      <td>Spayed</td>\n",
              "      <td>Female</td>\n",
              "      <td>0</td>\n",
              "      <td>Normal</td>\n",
              "      <td>Domestic Sh Mix</td>\n",
              "      <td>NaN</td>\n",
              "      <td>NaN</td>\n",
              "      <td>NaN</td>\n",
              "      <td>NaN</td>\n",
              "      <td>NaN</td>\n",
              "      <td>NaN</td>\n",
              "      <td>NaN</td>\n",
              "      <td>NaN</td>\n",
              "      <td>NaN</td>\n",
              "      <td>Black</td>\n",
              "      <td>3.25</td>\n",
              "      <td>No Lab Test</td>\n",
              "      <td>12/26/2016</td>\n",
              "      <td>Transfer</td>\n",
              "      <td>10</td>\n",
              "    </tr>\n",
              "    <tr>\n",
              "      <th>467</th>\n",
              "      <td>K12-022688</td>\n",
              "      <td>12/23/2016</td>\n",
              "      <td>Stray</td>\n",
              "      <td>Cat</td>\n",
              "      <td>Neutered</td>\n",
              "      <td>Male</td>\n",
              "      <td>0</td>\n",
              "      <td>Normal</td>\n",
              "      <td>Domestic Sh Mix</td>\n",
              "      <td>NaN</td>\n",
              "      <td>NaN</td>\n",
              "      <td>NaN</td>\n",
              "      <td>NaN</td>\n",
              "      <td>NaN</td>\n",
              "      <td>NaN</td>\n",
              "      <td>NaN</td>\n",
              "      <td>NaN</td>\n",
              "      <td>NaN</td>\n",
              "      <td>Blue</td>\n",
              "      <td>4.00</td>\n",
              "      <td>No Lab Test</td>\n",
              "      <td>1/2/13</td>\n",
              "      <td>Transfer</td>\n",
              "      <td>10</td>\n",
              "    </tr>\n",
              "    <tr>\n",
              "      <th>468</th>\n",
              "      <td>K12-022689</td>\n",
              "      <td>12/23/2016</td>\n",
              "      <td>Stray</td>\n",
              "      <td>Cat</td>\n",
              "      <td>Intact</td>\n",
              "      <td>Male</td>\n",
              "      <td>0</td>\n",
              "      <td>Normal</td>\n",
              "      <td>Domestic Sh Mix</td>\n",
              "      <td>NaN</td>\n",
              "      <td>NaN</td>\n",
              "      <td>NaN</td>\n",
              "      <td>NaN</td>\n",
              "      <td>NaN</td>\n",
              "      <td>NaN</td>\n",
              "      <td>NaN</td>\n",
              "      <td>NaN</td>\n",
              "      <td>NaN</td>\n",
              "      <td>Crm Tabby</td>\n",
              "      <td>1.75</td>\n",
              "      <td>FeLV Negative, FIV Negative</td>\n",
              "      <td>12/31/2016</td>\n",
              "      <td>Humane Euthanasia</td>\n",
              "      <td>8</td>\n",
              "    </tr>\n",
              "    <tr>\n",
              "      <th>469</th>\n",
              "      <td>K12-022743</td>\n",
              "      <td>12/23/2016</td>\n",
              "      <td>Owner Surrender</td>\n",
              "      <td>Cat</td>\n",
              "      <td>Intact</td>\n",
              "      <td>Male</td>\n",
              "      <td>0</td>\n",
              "      <td>Normal</td>\n",
              "      <td>Domestic Sh Mix</td>\n",
              "      <td>NaN</td>\n",
              "      <td>NaN</td>\n",
              "      <td>NaN</td>\n",
              "      <td>NaN</td>\n",
              "      <td>NaN</td>\n",
              "      <td>NaN</td>\n",
              "      <td>NaN</td>\n",
              "      <td>NaN</td>\n",
              "      <td>NaN</td>\n",
              "      <td>Brn Tabby &amp; White</td>\n",
              "      <td>1.75</td>\n",
              "      <td>FeLV Negative, FIV Negative</td>\n",
              "      <td>1/4/13</td>\n",
              "      <td>Transfer</td>\n",
              "      <td>12</td>\n",
              "    </tr>\n",
              "  </tbody>\n",
              "</table>\n",
              "<p>182 rows × 24 columns</p>\n",
              "</div>\n",
              "      <button class=\"colab-df-convert\" onclick=\"convertToInteractive('df-5c5435d5-3322-44e3-8bba-1ad2d50f0aec')\"\n",
              "              title=\"Convert this dataframe to an interactive table.\"\n",
              "              style=\"display:none;\">\n",
              "        \n",
              "  <svg xmlns=\"http://www.w3.org/2000/svg\" height=\"24px\"viewBox=\"0 0 24 24\"\n",
              "       width=\"24px\">\n",
              "    <path d=\"M0 0h24v24H0V0z\" fill=\"none\"/>\n",
              "    <path d=\"M18.56 5.44l.94 2.06.94-2.06 2.06-.94-2.06-.94-.94-2.06-.94 2.06-2.06.94zm-11 1L8.5 8.5l.94-2.06 2.06-.94-2.06-.94L8.5 2.5l-.94 2.06-2.06.94zm10 10l.94 2.06.94-2.06 2.06-.94-2.06-.94-.94-2.06-.94 2.06-2.06.94z\"/><path d=\"M17.41 7.96l-1.37-1.37c-.4-.4-.92-.59-1.43-.59-.52 0-1.04.2-1.43.59L10.3 9.45l-7.72 7.72c-.78.78-.78 2.05 0 2.83L4 21.41c.39.39.9.59 1.41.59.51 0 1.02-.2 1.41-.59l7.78-7.78 2.81-2.81c.8-.78.8-2.07 0-2.86zM5.41 20L4 18.59l7.72-7.72 1.47 1.35L5.41 20z\"/>\n",
              "  </svg>\n",
              "      </button>\n",
              "      \n",
              "  <style>\n",
              "    .colab-df-container {\n",
              "      display:flex;\n",
              "      flex-wrap:wrap;\n",
              "      gap: 12px;\n",
              "    }\n",
              "\n",
              "    .colab-df-convert {\n",
              "      background-color: #E8F0FE;\n",
              "      border: none;\n",
              "      border-radius: 50%;\n",
              "      cursor: pointer;\n",
              "      display: none;\n",
              "      fill: #1967D2;\n",
              "      height: 32px;\n",
              "      padding: 0 0 0 0;\n",
              "      width: 32px;\n",
              "    }\n",
              "\n",
              "    .colab-df-convert:hover {\n",
              "      background-color: #E2EBFA;\n",
              "      box-shadow: 0px 1px 2px rgba(60, 64, 67, 0.3), 0px 1px 3px 1px rgba(60, 64, 67, 0.15);\n",
              "      fill: #174EA6;\n",
              "    }\n",
              "\n",
              "    [theme=dark] .colab-df-convert {\n",
              "      background-color: #3B4455;\n",
              "      fill: #D2E3FC;\n",
              "    }\n",
              "\n",
              "    [theme=dark] .colab-df-convert:hover {\n",
              "      background-color: #434B5C;\n",
              "      box-shadow: 0px 1px 3px 1px rgba(0, 0, 0, 0.15);\n",
              "      filter: drop-shadow(0px 1px 2px rgba(0, 0, 0, 0.3));\n",
              "      fill: #FFFFFF;\n",
              "    }\n",
              "  </style>\n",
              "\n",
              "      <script>\n",
              "        const buttonEl =\n",
              "          document.querySelector('#df-5c5435d5-3322-44e3-8bba-1ad2d50f0aec button.colab-df-convert');\n",
              "        buttonEl.style.display =\n",
              "          google.colab.kernel.accessAllowed ? 'block' : 'none';\n",
              "\n",
              "        async function convertToInteractive(key) {\n",
              "          const element = document.querySelector('#df-5c5435d5-3322-44e3-8bba-1ad2d50f0aec');\n",
              "          const dataTable =\n",
              "            await google.colab.kernel.invokeFunction('convertToInteractive',\n",
              "                                                     [key], {});\n",
              "          if (!dataTable) return;\n",
              "\n",
              "          const docLinkHtml = 'Like what you see? Visit the ' +\n",
              "            '<a target=\"_blank\" href=https://colab.research.google.com/notebooks/data_table.ipynb>data table notebook</a>'\n",
              "            + ' to learn more about interactive tables.';\n",
              "          element.innerHTML = '';\n",
              "          dataTable['output_type'] = 'display_data';\n",
              "          await google.colab.output.renderOutput(dataTable, element);\n",
              "          const docLink = document.createElement('div');\n",
              "          docLink.innerHTML = docLinkHtml;\n",
              "          element.appendChild(docLink);\n",
              "        }\n",
              "      </script>\n",
              "    </div>\n",
              "  </div>\n",
              "  "
            ],
            "text/plain": [
              "     Impound.No Intake.Date  ...       Outcome.Type Days.Shelter\n",
              "13   K12-000642   1/15/2016  ...           Adoption            9\n",
              "14   K12-000653   1/15/2016  ...    Return to Owner           11\n",
              "16   K12-000798   1/15/2016  ...           Transfer           75\n",
              "18   K12-000893   1/15/2016  ...           Adoption           28\n",
              "19   K12-000903   1/15/2016  ...           Adoption           28\n",
              "..          ...         ...  ...                ...          ...\n",
              "451  K12-022168   12/9/2016  ...           Adoption           12\n",
              "461  K12-022529  12/16/2016  ...           Transfer           10\n",
              "467  K12-022688  12/23/2016  ...           Transfer           10\n",
              "468  K12-022689  12/23/2016  ...  Humane Euthanasia            8\n",
              "469  K12-022743  12/23/2016  ...           Transfer           12\n",
              "\n",
              "[182 rows x 24 columns]"
            ]
          },
          "metadata": {},
          "execution_count": 45
        }
      ]
    },
    {
      "cell_type": "code",
      "source": [
        "tempo_abrigo_cat = df_cat['Days.Shelter']\n",
        "tempo_abrigo_cat.describe()"
      ],
      "metadata": {
        "colab": {
          "base_uri": "https://localhost:8080/"
        },
        "id": "Je4tQDZx5tbo",
        "outputId": "ac21465e-19fd-4b21-b368-3a59471b6490"
      },
      "execution_count": 49,
      "outputs": [
        {
          "output_type": "execute_result",
          "data": {
            "text/plain": [
              "count    182.000000\n",
              "mean      29.148352\n",
              "std       37.596946\n",
              "min        0.000000\n",
              "25%        7.000000\n",
              "50%       12.000000\n",
              "75%       39.250000\n",
              "max      201.000000\n",
              "Name: Days.Shelter, dtype: float64"
            ]
          },
          "metadata": {},
          "execution_count": 49
        }
      ]
    },
    {
      "cell_type": "code",
      "source": [
        "tempo_abrigo_dog = df_dog['Days.Shelter']\n",
        "tempo_abrigo_dog.describe()"
      ],
      "metadata": {
        "colab": {
          "base_uri": "https://localhost:8080/"
        },
        "id": "rT4p_xZC56Wn",
        "outputId": "8a45425f-ce22-4984-e8e1-af918ea6a6b8"
      },
      "execution_count": 50,
      "outputs": [
        {
          "output_type": "execute_result",
          "data": {
            "text/plain": [
              "count    291.000000\n",
              "mean      15.577320\n",
              "std       22.866103\n",
              "min        0.000000\n",
              "25%        6.000000\n",
              "50%        8.000000\n",
              "75%       14.000000\n",
              "max      211.000000\n",
              "Name: Days.Shelter, dtype: float64"
            ]
          },
          "metadata": {},
          "execution_count": 50
        }
      ]
    },
    {
      "cell_type": "code",
      "source": [
        "t_stat, p_valuet = ttest_ind(tempo_abrigo_cat, tempo_abrigo_dog)\n",
        "print(t_stat, p_value)\n",
        "print(\"t = %.3f, p = %.6f\" % (t_stat, p_value))"
      ],
      "metadata": {
        "colab": {
          "base_uri": "https://localhost:8080/"
        },
        "id": "9-0rjvZW6LfE",
        "outputId": "c9a9ddb5-5525-4226-a6f1-426678ce60df"
      },
      "execution_count": 62,
      "outputs": [
        {
          "output_type": "stream",
          "name": "stdout",
          "text": [
            "4.882282023270548 1.4384631263704528e-06\n",
            "t = 4.882, p = 0.000001\n"
          ]
        }
      ]
    },
    {
      "cell_type": "code",
      "source": [
        "count_abrigo_cat, count_abrigo_dog = len(tempo_abrigo_cat), len(tempo_abrigo_dog)\n",
        "dof = count_abrigo_cat + count_abrigo_dog - 2\n",
        "dof"
      ],
      "metadata": {
        "colab": {
          "base_uri": "https://localhost:8080/"
        },
        "id": "a4T9MLh46cXj",
        "outputId": "710981ef-3397-4f55-cd3b-ecc9a6657538"
      },
      "execution_count": 53,
      "outputs": [
        {
          "output_type": "execute_result",
          "data": {
            "text/plain": [
              "471"
            ]
          },
          "metadata": {},
          "execution_count": 53
        }
      ]
    },
    {
      "cell_type": "code",
      "source": [
        "alpha = 0.05 #95% de confiabilidade\n",
        "valor_critico = t.ppf(1.0 - alpha, dof)\n",
        "valor_critico"
      ],
      "metadata": {
        "colab": {
          "base_uri": "https://localhost:8080/"
        },
        "id": "7InyAXqj65e4",
        "outputId": "f6fe5fb9-24fd-430e-cbf2-7a9d69fcbd14"
      },
      "execution_count": 54,
      "outputs": [
        {
          "output_type": "execute_result",
          "data": {
            "text/plain": [
              "1.6480952169213052"
            ]
          },
          "metadata": {},
          "execution_count": 54
        }
      ]
    },
    {
      "cell_type": "code",
      "source": [
        "if abs(t_stat) <= valor_crit:\n",
        "  print('Os gatos passam mais tempo em abrigo do que os cães (Rejeita-se H0)')\n",
        "else:\n",
        "  print('Os gatos não passam mais tempo em abrigo do que os cães (Aceita-se H0)')"
      ],
      "metadata": {
        "colab": {
          "base_uri": "https://localhost:8080/"
        },
        "id": "7MLXgJ74Fy-N",
        "outputId": "15384523-ef16-4385-b998-1d2f2043e066"
      },
      "execution_count": 117,
      "outputs": [
        {
          "output_type": "stream",
          "name": "stdout",
          "text": [
            "Os gatos não passam mais tempo em abrigo do que os cães (Aceita-se H0)\n"
          ]
        }
      ]
    },
    {
      "cell_type": "code",
      "source": [
        "if p_valuet < alpha:\n",
        "  print('Os gatos passam mais tempo em abrigo do que os cães (Rejeita-se H0)')\n",
        "else:\n",
        "  print('Os gatos não passam mais tempo em abrigo do que os cães (Aceita-se H0)')"
      ],
      "metadata": {
        "colab": {
          "base_uri": "https://localhost:8080/"
        },
        "id": "-SThKMv4_oXl",
        "outputId": "798a0153-e068-4c31-c1c3-719e4e7b489e"
      },
      "execution_count": 116,
      "outputs": [
        {
          "output_type": "stream",
          "name": "stdout",
          "text": [
            "Os gatos passam mais tempo em abrigo do que os cães (Rejeita-se H0)\n"
          ]
        }
      ]
    },
    {
      "cell_type": "markdown",
      "source": [
        "##Pergunta 3:\n",
        "Existem dois tipos de animais no abrigo descrito pelo data frame AnimalData: cães (Dog) e gatos (Cat). Qual é a média aproximada de tempo em que esses animais ficam no abrigo, respectivamente?"
      ],
      "metadata": {
        "id": "XLB8k0B27hm7"
      }
    },
    {
      "cell_type": "code",
      "source": [
        "df_cat['Days.Shelter'].mean()"
      ],
      "metadata": {
        "colab": {
          "base_uri": "https://localhost:8080/"
        },
        "id": "ZwN_dnLr7n3X",
        "outputId": "882a91b1-fd5f-43d0-a7aa-14dc76771a30"
      },
      "execution_count": 114,
      "outputs": [
        {
          "output_type": "execute_result",
          "data": {
            "text/plain": [
              "29.14835164835165"
            ]
          },
          "metadata": {},
          "execution_count": 114
        }
      ]
    },
    {
      "cell_type": "code",
      "source": [
        "df_dog['Days.Shelter'].mean()"
      ],
      "metadata": {
        "colab": {
          "base_uri": "https://localhost:8080/"
        },
        "id": "R3kN9y9h8DAP",
        "outputId": "8f80602e-7372-40ea-e59a-a22d8c5a59c1"
      },
      "execution_count": 115,
      "outputs": [
        {
          "output_type": "execute_result",
          "data": {
            "text/plain": [
              "15.577319587628866"
            ]
          },
          "metadata": {},
          "execution_count": 115
        }
      ]
    },
    {
      "cell_type": "markdown",
      "source": [
        "##Pergunta 4:\n",
        "Um pesquisador deseja testar se o tipo de animal (Cão vs Gato) influencia no tempo em que o animal fica no abrigo e para isso decide usar um teste Anova (One Way F-Test). A hipótese nula diz que não há diferença. A hipótese alternativa diz que gatos tendem a demorar mais tempo no abrigo. Assumindo alfa como 0.05, marque a opção mais correta."
      ],
      "metadata": {
        "id": "apwgTjmL_XuU"
      }
    },
    {
      "cell_type": "code",
      "source": [
        "df_anova = df_animal[['Animal.Type', 'Days.Shelter']]\n",
        "df_anova"
      ],
      "metadata": {
        "colab": {
          "base_uri": "https://localhost:8080/",
          "height": 424
        },
        "id": "x_6YogPF_b8V",
        "outputId": "c9f1f600-5429-4aa4-ee05-edd916c04bda"
      },
      "execution_count": 65,
      "outputs": [
        {
          "output_type": "execute_result",
          "data": {
            "text/html": [
              "\n",
              "  <div id=\"df-5a4ed0fd-029e-4df8-a4e5-7c78fe88e849\">\n",
              "    <div class=\"colab-df-container\">\n",
              "      <div>\n",
              "<style scoped>\n",
              "    .dataframe tbody tr th:only-of-type {\n",
              "        vertical-align: middle;\n",
              "    }\n",
              "\n",
              "    .dataframe tbody tr th {\n",
              "        vertical-align: top;\n",
              "    }\n",
              "\n",
              "    .dataframe thead th {\n",
              "        text-align: right;\n",
              "    }\n",
              "</style>\n",
              "<table border=\"1\" class=\"dataframe\">\n",
              "  <thead>\n",
              "    <tr style=\"text-align: right;\">\n",
              "      <th></th>\n",
              "      <th>Animal.Type</th>\n",
              "      <th>Days.Shelter</th>\n",
              "    </tr>\n",
              "  </thead>\n",
              "  <tbody>\n",
              "    <tr>\n",
              "      <th>0</th>\n",
              "      <td>Dog</td>\n",
              "      <td>6</td>\n",
              "    </tr>\n",
              "    <tr>\n",
              "      <th>1</th>\n",
              "      <td>Dog</td>\n",
              "      <td>2</td>\n",
              "    </tr>\n",
              "    <tr>\n",
              "      <th>2</th>\n",
              "      <td>Dog</td>\n",
              "      <td>12</td>\n",
              "    </tr>\n",
              "    <tr>\n",
              "      <th>3</th>\n",
              "      <td>Dog</td>\n",
              "      <td>7</td>\n",
              "    </tr>\n",
              "    <tr>\n",
              "      <th>4</th>\n",
              "      <td>Dog</td>\n",
              "      <td>94</td>\n",
              "    </tr>\n",
              "    <tr>\n",
              "      <th>...</th>\n",
              "      <td>...</td>\n",
              "      <td>...</td>\n",
              "    </tr>\n",
              "    <tr>\n",
              "      <th>468</th>\n",
              "      <td>Cat</td>\n",
              "      <td>8</td>\n",
              "    </tr>\n",
              "    <tr>\n",
              "      <th>469</th>\n",
              "      <td>Cat</td>\n",
              "      <td>12</td>\n",
              "    </tr>\n",
              "    <tr>\n",
              "      <th>470</th>\n",
              "      <td>Dog</td>\n",
              "      <td>6</td>\n",
              "    </tr>\n",
              "    <tr>\n",
              "      <th>471</th>\n",
              "      <td>Dog</td>\n",
              "      <td>5</td>\n",
              "    </tr>\n",
              "    <tr>\n",
              "      <th>472</th>\n",
              "      <td>Dog</td>\n",
              "      <td>5</td>\n",
              "    </tr>\n",
              "  </tbody>\n",
              "</table>\n",
              "<p>473 rows × 2 columns</p>\n",
              "</div>\n",
              "      <button class=\"colab-df-convert\" onclick=\"convertToInteractive('df-5a4ed0fd-029e-4df8-a4e5-7c78fe88e849')\"\n",
              "              title=\"Convert this dataframe to an interactive table.\"\n",
              "              style=\"display:none;\">\n",
              "        \n",
              "  <svg xmlns=\"http://www.w3.org/2000/svg\" height=\"24px\"viewBox=\"0 0 24 24\"\n",
              "       width=\"24px\">\n",
              "    <path d=\"M0 0h24v24H0V0z\" fill=\"none\"/>\n",
              "    <path d=\"M18.56 5.44l.94 2.06.94-2.06 2.06-.94-2.06-.94-.94-2.06-.94 2.06-2.06.94zm-11 1L8.5 8.5l.94-2.06 2.06-.94-2.06-.94L8.5 2.5l-.94 2.06-2.06.94zm10 10l.94 2.06.94-2.06 2.06-.94-2.06-.94-.94-2.06-.94 2.06-2.06.94z\"/><path d=\"M17.41 7.96l-1.37-1.37c-.4-.4-.92-.59-1.43-.59-.52 0-1.04.2-1.43.59L10.3 9.45l-7.72 7.72c-.78.78-.78 2.05 0 2.83L4 21.41c.39.39.9.59 1.41.59.51 0 1.02-.2 1.41-.59l7.78-7.78 2.81-2.81c.8-.78.8-2.07 0-2.86zM5.41 20L4 18.59l7.72-7.72 1.47 1.35L5.41 20z\"/>\n",
              "  </svg>\n",
              "      </button>\n",
              "      \n",
              "  <style>\n",
              "    .colab-df-container {\n",
              "      display:flex;\n",
              "      flex-wrap:wrap;\n",
              "      gap: 12px;\n",
              "    }\n",
              "\n",
              "    .colab-df-convert {\n",
              "      background-color: #E8F0FE;\n",
              "      border: none;\n",
              "      border-radius: 50%;\n",
              "      cursor: pointer;\n",
              "      display: none;\n",
              "      fill: #1967D2;\n",
              "      height: 32px;\n",
              "      padding: 0 0 0 0;\n",
              "      width: 32px;\n",
              "    }\n",
              "\n",
              "    .colab-df-convert:hover {\n",
              "      background-color: #E2EBFA;\n",
              "      box-shadow: 0px 1px 2px rgba(60, 64, 67, 0.3), 0px 1px 3px 1px rgba(60, 64, 67, 0.15);\n",
              "      fill: #174EA6;\n",
              "    }\n",
              "\n",
              "    [theme=dark] .colab-df-convert {\n",
              "      background-color: #3B4455;\n",
              "      fill: #D2E3FC;\n",
              "    }\n",
              "\n",
              "    [theme=dark] .colab-df-convert:hover {\n",
              "      background-color: #434B5C;\n",
              "      box-shadow: 0px 1px 3px 1px rgba(0, 0, 0, 0.15);\n",
              "      filter: drop-shadow(0px 1px 2px rgba(0, 0, 0, 0.3));\n",
              "      fill: #FFFFFF;\n",
              "    }\n",
              "  </style>\n",
              "\n",
              "      <script>\n",
              "        const buttonEl =\n",
              "          document.querySelector('#df-5a4ed0fd-029e-4df8-a4e5-7c78fe88e849 button.colab-df-convert');\n",
              "        buttonEl.style.display =\n",
              "          google.colab.kernel.accessAllowed ? 'block' : 'none';\n",
              "\n",
              "        async function convertToInteractive(key) {\n",
              "          const element = document.querySelector('#df-5a4ed0fd-029e-4df8-a4e5-7c78fe88e849');\n",
              "          const dataTable =\n",
              "            await google.colab.kernel.invokeFunction('convertToInteractive',\n",
              "                                                     [key], {});\n",
              "          if (!dataTable) return;\n",
              "\n",
              "          const docLinkHtml = 'Like what you see? Visit the ' +\n",
              "            '<a target=\"_blank\" href=https://colab.research.google.com/notebooks/data_table.ipynb>data table notebook</a>'\n",
              "            + ' to learn more about interactive tables.';\n",
              "          element.innerHTML = '';\n",
              "          dataTable['output_type'] = 'display_data';\n",
              "          await google.colab.output.renderOutput(dataTable, element);\n",
              "          const docLink = document.createElement('div');\n",
              "          docLink.innerHTML = docLinkHtml;\n",
              "          element.appendChild(docLink);\n",
              "        }\n",
              "      </script>\n",
              "    </div>\n",
              "  </div>\n",
              "  "
            ],
            "text/plain": [
              "    Animal.Type  Days.Shelter\n",
              "0           Dog             6\n",
              "1           Dog             2\n",
              "2           Dog            12\n",
              "3           Dog             7\n",
              "4           Dog            94\n",
              "..          ...           ...\n",
              "468         Cat             8\n",
              "469         Cat            12\n",
              "470         Dog             6\n",
              "471         Dog             5\n",
              "472         Dog             5\n",
              "\n",
              "[473 rows x 2 columns]"
            ]
          },
          "metadata": {},
          "execution_count": 65
        }
      ]
    },
    {
      "cell_type": "code",
      "source": [
        "df_anova.boxplot('Days.Shelter', by='Animal.Type', figsize=(12, 6))"
      ],
      "metadata": {
        "colab": {
          "base_uri": "https://localhost:8080/",
          "height": 492
        },
        "id": "Bb1KKhFMBPJl",
        "outputId": "e52a27cc-5aea-4287-9f38-27d8e822c0ac"
      },
      "execution_count": 66,
      "outputs": [
        {
          "output_type": "stream",
          "name": "stderr",
          "text": [
            "/usr/local/lib/python3.7/dist-packages/numpy/core/_asarray.py:83: VisibleDeprecationWarning: Creating an ndarray from ragged nested sequences (which is a list-or-tuple of lists-or-tuples-or ndarrays with different lengths or shapes) is deprecated. If you meant to do this, you must specify 'dtype=object' when creating the ndarray\n",
            "  return array(a, dtype, copy=False, order=order)\n"
          ]
        },
        {
          "output_type": "execute_result",
          "data": {
            "text/plain": [
              "<matplotlib.axes._subplots.AxesSubplot at 0x7f34c7c24250>"
            ]
          },
          "metadata": {},
          "execution_count": 66
        },
        {
          "output_type": "display_data",
          "data": {
            "image/png": "[encoded data removed]",
            "text/plain": [
              "<Figure size 864x432 with 1 Axes>"
            ]
          },
          "metadata": {
            "needs_background": "light"
          }
        }
      ]
    },
    {
      "cell_type": "code",
      "source": [
        "tipos_animais = pd.unique(df_anova['Animal.Type'].values)\n",
        "tipos_animais"
      ],
      "metadata": {
        "colab": {
          "base_uri": "https://localhost:8080/"
        },
        "id": "qAbeOGuXBmHm",
        "outputId": "d59d17ac-ac76-4c56-f25b-edfe91f42c7b"
      },
      "execution_count": 69,
      "outputs": [
        {
          "output_type": "execute_result",
          "data": {
            "text/plain": [
              "array(['Dog', 'Cat'], dtype=object)"
            ]
          },
          "metadata": {},
          "execution_count": 69
        }
      ]
    },
    {
      "cell_type": "code",
      "source": [
        "testef1_df = {tpa: df_anova['Days.Shelter'][df_anova['Animal.Type'] == tpa] for tpa in tipos_animais}\n",
        "testef1_df"
      ],
      "metadata": {
        "colab": {
          "base_uri": "https://localhost:8080/"
        },
        "id": "M0PJ8qfwCBAi",
        "outputId": "8dcb561b-1454-4715-cc9b-b1b338aa2101"
      },
      "execution_count": 72,
      "outputs": [
        {
          "output_type": "execute_result",
          "data": {
            "text/plain": [
              "{'Cat': 13      9\n",
              " 14     11\n",
              " 16     75\n",
              " 18     28\n",
              " 19     28\n",
              "        ..\n",
              " 451    12\n",
              " 461    10\n",
              " 467    10\n",
              " 468     8\n",
              " 469    12\n",
              " Name: Days.Shelter, Length: 182, dtype: int64, 'Dog': 0       6\n",
              " 1       2\n",
              " 2      12\n",
              " 3       7\n",
              " 4      94\n",
              "        ..\n",
              " 465     8\n",
              " 466     1\n",
              " 470     6\n",
              " 471     5\n",
              " 472     5\n",
              " Name: Days.Shelter, Length: 291, dtype: int64}"
            ]
          },
          "metadata": {},
          "execution_count": 72
        }
      ]
    },
    {
      "cell_type": "code",
      "source": [
        "F_stats, p_valuef = stats.f_oneway(testef1_df['Cat'], testef1_df['Dog'])\n",
        "print('F: ', F_stats)\n",
        "print('P: ', p_valuef)"
      ],
      "metadata": {
        "colab": {
          "base_uri": "https://localhost:8080/"
        },
        "id": "Fx4Znl4lCwzg",
        "outputId": "288233b3-464e-4f53-94ba-5452e303a26f"
      },
      "execution_count": 109,
      "outputs": [
        {
          "output_type": "stream",
          "name": "stdout",
          "text": [
            "F:  23.836677754750752\n",
            "P:  1.4384631263705684e-06\n"
          ]
        }
      ]
    },
    {
      "cell_type": "code",
      "source": [
        "if p_valuef > 0.05:\n",
        "  print(' há diferença, Os gatos passam mais tempo em abrigo do que os cães (Rejeita-se H0)')\n",
        "else:\n",
        "  print('não há diferença, Os gatos não passam mais tempo em abrigo do que os cães (Aceita-se H0)')"
      ],
      "metadata": {
        "colab": {
          "base_uri": "https://localhost:8080/"
        },
        "id": "xI8xjmkxDfs_",
        "outputId": "1dd0343e-5406-4f5c-9b4b-db223595884c"
      },
      "execution_count": 112,
      "outputs": [
        {
          "output_type": "stream",
          "name": "stdout",
          "text": [
            "não há diferença, Os gatos não passam mais tempo em abrigo do que os cães (Aceita-se H0)\n"
          ]
        }
      ]
    },
    {
      "cell_type": "markdown",
      "source": [
        "##Pergunta 5:\n",
        "Crie um teste Chi Quadrado que analise as frequências de cães leais com cães inteligentes. Calcule o valor de Chi Quadrado e marque a opção mais correta quanto a este valor."
      ],
      "metadata": {
        "id": "_Ab7E4OkECJ-"
      }
    },
    {
      "cell_type": "code",
      "source": [
        ""
      ],
      "metadata": {
        "id": "S43RBIx9EK-C"
      },
      "execution_count": null,
      "outputs": []
    },
    {
      "cell_type": "markdown",
      "source": [
        "##Execute os cálculos necessários e marque as alternativas verdadeiras em relação ao tempo em que os animais ficam no abrigo.\n"
      ],
      "metadata": {
        "id": "WrlZhKVNHgi1"
      }
    },
    {
      "cell_type": "code",
      "source": [
        "import matplotlib.pyplot as plt\n",
        "import numpy as np"
      ],
      "metadata": {
        "id": "E6wzUooDIS90"
      },
      "execution_count": 90,
      "outputs": []
    },
    {
      "cell_type": "code",
      "source": [
        "tempo_abrigo = df_animal['Days.Shelter']\n",
        "tempo_abrigo.describe()"
      ],
      "metadata": {
        "colab": {
          "base_uri": "https://localhost:8080/"
        },
        "id": "eNK-0mqmHjqy",
        "outputId": "85ed1be5-d1cf-4d3e-f0e8-c8ff052d4c59"
      },
      "execution_count": 86,
      "outputs": [
        {
          "output_type": "execute_result",
          "data": {
            "text/plain": [
              "count    473.000000\n",
              "mean      20.799154\n",
              "std       30.116297\n",
              "min        0.000000\n",
              "25%        6.000000\n",
              "50%        9.000000\n",
              "75%       20.000000\n",
              "max      211.000000\n",
              "Name: Days.Shelter, dtype: float64"
            ]
          },
          "metadata": {},
          "execution_count": 86
        }
      ]
    },
    {
      "cell_type": "code",
      "source": [
        "media_tempo = tempo_abrigo.mean()\n",
        "desvio = tempo_abrigo.std()\n",
        "tempo_min = tempo_abrigo.min()\n",
        "tempo_max = tempo_abrigo.max()\n",
        "n_tempo = tempo_abrigo.count()"
      ],
      "metadata": {
        "id": "NtrcB2UEI8BJ"
      },
      "execution_count": 88,
      "outputs": []
    },
    {
      "cell_type": "code",
      "source": [
        "dist_tempo = stats.norm(media_tempo, desvio)\n",
        "dist_tempo"
      ],
      "metadata": {
        "colab": {
          "base_uri": "https://localhost:8080/"
        },
        "id": "4BAoFXJ9JZ2J",
        "outputId": "7227dac6-cb4e-4f98-ff38-4d5a3abaf3db"
      },
      "execution_count": 89,
      "outputs": [
        {
          "output_type": "execute_result",
          "data": {
            "text/plain": [
              "<scipy.stats._distn_infrastructure.rv_frozen at 0x7f34c524f710>"
            ]
          },
          "metadata": {},
          "execution_count": 89
        }
      ]
    },
    {
      "cell_type": "code",
      "source": [
        "x = np.linspace(tempo_min, tempo_max, n_tempo)\n",
        "y = dist_tempo.pdf(x)"
      ],
      "metadata": {
        "id": "4GeXaypEJr2H"
      },
      "execution_count": 91,
      "outputs": []
    },
    {
      "cell_type": "code",
      "source": [
        "plt.plot(x, y)"
      ],
      "metadata": {
        "colab": {
          "base_uri": "https://localhost:8080/",
          "height": 282
        },
        "id": "K-zHfzLjKH1g",
        "outputId": "965ba346-b23c-4b87-849b-1027f0e4edd7"
      },
      "execution_count": 92,
      "outputs": [
        {
          "output_type": "execute_result",
          "data": {
            "text/plain": [
              "[<matplotlib.lines.Line2D at 0x7f34c4e73c90>]"
            ]
          },
          "metadata": {},
          "execution_count": 92
        },
        {
          "output_type": "display_data",
          "data": {
            "image/png": "[encoded data removed]",
            "text/plain": [
              "<Figure size 432x288 with 1 Axes>"
            ]
          },
          "metadata": {
            "needs_background": "light"
          }
        }
      ]
    },
    {
      "cell_type": "code",
      "source": [
        "tempo_abrigo.skew(axis=0, skipna=True)"
      ],
      "metadata": {
        "colab": {
          "base_uri": "https://localhost:8080/"
        },
        "id": "etGptUyROjHc",
        "outputId": "d4c7a208-1f07-4ce1-de68-2c1fd26173b8"
      },
      "execution_count": 93,
      "outputs": [
        {
          "output_type": "execute_result",
          "data": {
            "text/plain": [
              "3.149775833623174"
            ]
          },
          "metadata": {},
          "execution_count": 93
        }
      ]
    },
    {
      "cell_type": "code",
      "source": [
        "tempo_abrigo.kurtosis(axis=0, skipna=True)"
      ],
      "metadata": {
        "colab": {
          "base_uri": "https://localhost:8080/"
        },
        "id": "3M-ToAzvOvm6",
        "outputId": "371cafa8-e82c-4411-a128-f260739ffbba"
      },
      "execution_count": 94,
      "outputs": [
        {
          "output_type": "execute_result",
          "data": {
            "text/plain": [
              "11.904234877822784"
            ]
          },
          "metadata": {},
          "execution_count": 94
        }
      ]
    },
    {
      "cell_type": "markdown",
      "source": [
        "##Pergunta 11:\n",
        "Um pesquisador tem uma hipótese alternativa H1 de que gatos tendem a permanecer mais tempo no abrigo. Assumindo que a distribuição é normal, calcule através de um teste Z a probabilidade de que gatos fiquem de fato mais tempo no abrigo do que a média de todos os animais e marque a opção mais correta."
      ],
      "metadata": {
        "id": "Q8KWnuC5PuYR"
      }
    },
    {
      "cell_type": "code",
      "source": [
        "media_tempo_cat = tempo_abrigo_cat.mean()\n",
        "media_tempo_cat"
      ],
      "metadata": {
        "colab": {
          "base_uri": "https://localhost:8080/"
        },
        "id": "HdJMkJNsP5SO",
        "outputId": "4a6fdd9b-7a6c-49f8-ea87-2a4b9e901abe"
      },
      "execution_count": 98,
      "outputs": [
        {
          "output_type": "execute_result",
          "data": {
            "text/plain": [
              "29.14835164835165"
            ]
          },
          "metadata": {},
          "execution_count": 98
        }
      ]
    },
    {
      "cell_type": "code",
      "source": [
        "#calcular o Z\n",
        "z_value = (media_tempo_cat - media_tempo)/desvio\n",
        "z_value"
      ],
      "metadata": {
        "colab": {
          "base_uri": "https://localhost:8080/"
        },
        "id": "fVHeFJawQkFR",
        "outputId": "7aeb243e-41a3-403c-c676-da3a556dd9a0"
      },
      "execution_count": 99,
      "outputs": [
        {
          "output_type": "execute_result",
          "data": {
            "text/plain": [
              "0.2772318677578058"
            ]
          },
          "metadata": {},
          "execution_count": 99
        }
      ]
    },
    {
      "cell_type": "code",
      "source": [
        "stats.norm.cdf(z_value)\n",
        "(1 - stats.norm.cdf(z_value))*100"
      ],
      "metadata": {
        "colab": {
          "base_uri": "https://localhost:8080/"
        },
        "id": "95ndWbEoRuX_",
        "outputId": "0859cf4f-6939-441e-bb80-448a7dc0464b"
      },
      "execution_count": 100,
      "outputs": [
        {
          "output_type": "execute_result",
          "data": {
            "text/plain": [
              "39.080103565592715"
            ]
          },
          "metadata": {},
          "execution_count": 100
        }
      ]
    }
  ]
}