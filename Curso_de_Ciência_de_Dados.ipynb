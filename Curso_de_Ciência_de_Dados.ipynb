{
  "nbformat": 4,
  "nbformat_minor": 0,
  "metadata": {
    "colab": {
      "name": "Curso de Ciência de Dados.ipynb",
      "provenance": [],
      "collapsed_sections": [
        "lFb2JtF4hgNY"
      ],
      "authorship_tag": "ABX9TyNiTNazssz04bO4VG3nBVoQ",
      "include_colab_link": true
    },
    "kernelspec": {
      "name": "python3",
      "display_name": "Python 3"
    },
    "language_info": {
      "name": "python"
    }
  },
  "cells": [
    {
      "cell_type": "markdown",
      "metadata": {
        "id": "view-in-github",
        "colab_type": "text"
      },
      "source": [
        "<a href=\"https://colab.research.google.com/github/wernenveiga/fundamentos-de-ci-ncia-de-dados/blob/main/Curso_de_Ci%C3%AAncia_de_Dados.ipynb\" target=\"_parent\"><img src=\"https://colab.research.google.com/assets/colab-badge.svg\" alt=\"Open In Colab\"/></a>"
      ]
    },
    {
      "cell_type": "markdown",
      "source": [
        "#Aula de Teste de ambiente"
      ],
      "metadata": {
        "id": "nO2MQMk1Mdh9"
      }
    },
    {
      "cell_type": "code",
      "source": [
        "a = 2\n",
        "b = 3\n",
        "c = 5\n",
        "d = 7\n",
        "e = 0.5\n",
        "resultado = ((a + b) * (d - c)) ** e\n",
        "resultado = round(resultado)\n",
        "print(resultado)"
      ],
      "metadata": {
        "colab": {
          "base_uri": "https://localhost:8080/"
        },
        "id": "WAjlpvuNMD8T",
        "outputId": "35dafa2f-48ed-4c84-a50f-ab00ee2faa1a"
      },
      "execution_count": null,
      "outputs": [
        {
          "output_type": "stream",
          "name": "stdout",
          "text": [
            "3\n"
          ]
        }
      ]
    },
    {
      "cell_type": "code",
      "source": [
        "def testef(x):\n",
        "    return not bool(x % 2)\n",
        "testef(4)"
      ],
      "metadata": {
        "colab": {
          "base_uri": "https://localhost:8080/"
        },
        "id": "CBEJ-PvzMQft",
        "outputId": "288e0fc4-5001-4f01-a5f8-15df0e267eae"
      },
      "execution_count": null,
      "outputs": [
        {
          "output_type": "execute_result",
          "data": {
            "text/plain": [
              "True"
            ]
          },
          "metadata": {},
          "execution_count": 2
        }
      ]
    },
    {
      "cell_type": "code",
      "source": [
        "fib = [1, 1, 3, 7, 17, 41, 99]\n",
        "fib.append(239)\n",
        "sm = 0\n",
        "for num in fib:\n",
        "    sm += num    \n",
        "print(sm)"
      ],
      "metadata": {
        "colab": {
          "base_uri": "https://localhost:8080/"
        },
        "id": "vAuR1KhyMnz5",
        "outputId": "919c7855-becb-4868-bfb7-27e317accded"
      },
      "execution_count": null,
      "outputs": [
        {
          "output_type": "stream",
          "name": "stdout",
          "text": [
            "408\n"
          ]
        }
      ]
    },
    {
      "cell_type": "code",
      "source": [
        "import numpy as np\n",
        "array = np.arange(36)\n",
        "array.resize((6, 6))\n",
        "print(array)\n",
        "array[2, 2]\n",
        "array[3, 3:6]\n",
        "array[array >= 30]\n",
        "array[array >= 30] = 30\n",
        "array[3,5]"
      ],
      "metadata": {
        "id": "vSnH4O0SMvQc",
        "outputId": "19d41b9e-b7d0-470e-ff07-1b0f7b2cb7cd",
        "colab": {
          "base_uri": "https://localhost:8080/"
        }
      },
      "execution_count": null,
      "outputs": [
        {
          "output_type": "stream",
          "name": "stdout",
          "text": [
            "[[ 0  1  2  3  4  5]\n",
            " [ 6  7  8  9 10 11]\n",
            " [12 13 14 15 16 17]\n",
            " [18 19 20 21 22 23]\n",
            " [24 25 26 27 28 29]\n",
            " [30 31 32 33 34 35]]\n"
          ]
        },
        {
          "output_type": "execute_result",
          "data": {
            "text/plain": [
              "23"
            ]
          },
          "metadata": {},
          "execution_count": 2
        }
      ]
    },
    {
      "cell_type": "markdown",
      "source": [
        "#Bibliotecas Fundamentais"
      ],
      "metadata": {
        "id": "BA2rGU35hbsQ"
      }
    },
    {
      "cell_type": "markdown",
      "source": [
        "##NumPy"
      ],
      "metadata": {
        "id": "lFb2JtF4hgNY"
      }
    },
    {
      "cell_type": "code",
      "source": [
        "import numpy as np\n",
        "\n",
        "lista_a = [1, 2, 3]\n",
        "array_a = np.array(lista_a)\n",
        "#print(array_a)\n",
        "\n",
        "array_b = np.array([4, 5, 6])\n",
        "#print(array_b)\n",
        "\n",
        "array_c = np.array([[1, 3, 5], [2, 4, 6]])\n",
        "print(array_c)\n",
        "\n",
        "##shape tráz as dimensões do vetor\n",
        "print(array_c.shape)\n",
        "\n",
        "array_c = array_c.reshape(3,2)\n",
        "print(array_c)\n",
        "\n",
        "array_d = np.arange(36)\n",
        "print(array_d)\n",
        "array_d.resize(6, 6)\n",
        "print(array_d)\n",
        "array_d[2,2]"
      ],
      "metadata": {
        "colab": {
          "base_uri": "https://localhost:8080/"
        },
        "id": "oxG0W1FYhjoa",
        "outputId": "1d5df9d9-b62d-44cc-e7c6-d2fa81fd45c8"
      },
      "execution_count": null,
      "outputs": [
        {
          "output_type": "stream",
          "name": "stdout",
          "text": [
            "[[1 3 5]\n",
            " [2 4 6]]\n",
            "(2, 3)\n",
            "[[1 3]\n",
            " [5 2]\n",
            " [4 6]]\n",
            "[ 0  1  2  3  4  5  6  7  8  9 10 11 12 13 14 15 16 17 18 19 20 21 22 23\n",
            " 24 25 26 27 28 29 30 31 32 33 34 35]\n",
            "[[ 0  1  2  3  4  5]\n",
            " [ 6  7  8  9 10 11]\n",
            " [12 13 14 15 16 17]\n",
            " [18 19 20 21 22 23]\n",
            " [24 25 26 27 28 29]\n",
            " [30 31 32 33 34 35]]\n"
          ]
        },
        {
          "output_type": "execute_result",
          "data": {
            "text/plain": [
              "14"
            ]
          },
          "metadata": {},
          "execution_count": 12
        }
      ]
    },
    {
      "cell_type": "markdown",
      "source": [
        "##Pandas"
      ],
      "metadata": {
        "id": "6iHNEacVnZUa"
      }
    },
    {
      "cell_type": "code",
      "source": [
        "import pandas as pd\n",
        "\n",
        "df_luas_jupiter_1 = pd.DataFrame([{'Nome': 'Ganimedes', 'Massa':'15000000', 'Eixo Semi-Maior':'1070412'},\n",
        "                                  {'Nome': 'Calisto', 'Massa':'11000000', 'Eixo Semi-Maior':'1882729'},\n",
        "                                  {'Nome': 'Io', 'Massa':'8900000', 'Eixo Semi-Maior':'421700'},\n",
        "                                  {'Nome': 'Europa', 'Massa':'4800000', 'Eixo Semi-Maior':'671034'},],\n",
        "                                 index=['III', 'IV', 'I', 'II'])\n",
        "df_luas_jupiter_1\n",
        "df_luas_jupiter_1['Descobridor'] = 'Galileu'\n",
        "df_luas_jupiter_1"
      ],
      "metadata": {
        "id": "IRy2husZncLT",
        "colab": {
          "base_uri": "https://localhost:8080/",
          "height": 175
        },
        "outputId": "acf1682b-6fdc-42cf-e863-877fc4842e41"
      },
      "execution_count": null,
      "outputs": [
        {
          "output_type": "execute_result",
          "data": {
            "text/html": [
              "\n",
              "  <div id=\"df-8be76766-edb9-4bdd-b1e3-2d5e5d2738b5\">\n",
              "    <div class=\"colab-df-container\">\n",
              "      <div>\n",
              "<style scoped>\n",
              "    .dataframe tbody tr th:only-of-type {\n",
              "        vertical-align: middle;\n",
              "    }\n",
              "\n",
              "    .dataframe tbody tr th {\n",
              "        vertical-align: top;\n",
              "    }\n",
              "\n",
              "    .dataframe thead th {\n",
              "        text-align: right;\n",
              "    }\n",
              "</style>\n",
              "<table border=\"1\" class=\"dataframe\">\n",
              "  <thead>\n",
              "    <tr style=\"text-align: right;\">\n",
              "      <th></th>\n",
              "      <th>Nome</th>\n",
              "      <th>Massa</th>\n",
              "      <th>Eixo Semi-Maior</th>\n",
              "      <th>Descobridor</th>\n",
              "    </tr>\n",
              "  </thead>\n",
              "  <tbody>\n",
              "    <tr>\n",
              "      <th>III</th>\n",
              "      <td>Ganimedes</td>\n",
              "      <td>15000000</td>\n",
              "      <td>1070412</td>\n",
              "      <td>Galileu</td>\n",
              "    </tr>\n",
              "    <tr>\n",
              "      <th>IV</th>\n",
              "      <td>Calisto</td>\n",
              "      <td>11000000</td>\n",
              "      <td>1882729</td>\n",
              "      <td>Galileu</td>\n",
              "    </tr>\n",
              "    <tr>\n",
              "      <th>I</th>\n",
              "      <td>Io</td>\n",
              "      <td>8900000</td>\n",
              "      <td>421700</td>\n",
              "      <td>Galileu</td>\n",
              "    </tr>\n",
              "    <tr>\n",
              "      <th>II</th>\n",
              "      <td>Europa</td>\n",
              "      <td>4800000</td>\n",
              "      <td>671034</td>\n",
              "      <td>Galileu</td>\n",
              "    </tr>\n",
              "  </tbody>\n",
              "</table>\n",
              "</div>\n",
              "      <button class=\"colab-df-convert\" onclick=\"convertToInteractive('df-8be76766-edb9-4bdd-b1e3-2d5e5d2738b5')\"\n",
              "              title=\"Convert this dataframe to an interactive table.\"\n",
              "              style=\"display:none;\">\n",
              "        \n",
              "  <svg xmlns=\"http://www.w3.org/2000/svg\" height=\"24px\"viewBox=\"0 0 24 24\"\n",
              "       width=\"24px\">\n",
              "    <path d=\"M0 0h24v24H0V0z\" fill=\"none\"/>\n",
              "    <path d=\"M18.56 5.44l.94 2.06.94-2.06 2.06-.94-2.06-.94-.94-2.06-.94 2.06-2.06.94zm-11 1L8.5 8.5l.94-2.06 2.06-.94-2.06-.94L8.5 2.5l-.94 2.06-2.06.94zm10 10l.94 2.06.94-2.06 2.06-.94-2.06-.94-.94-2.06-.94 2.06-2.06.94z\"/><path d=\"M17.41 7.96l-1.37-1.37c-.4-.4-.92-.59-1.43-.59-.52 0-1.04.2-1.43.59L10.3 9.45l-7.72 7.72c-.78.78-.78 2.05 0 2.83L4 21.41c.39.39.9.59 1.41.59.51 0 1.02-.2 1.41-.59l7.78-7.78 2.81-2.81c.8-.78.8-2.07 0-2.86zM5.41 20L4 18.59l7.72-7.72 1.47 1.35L5.41 20z\"/>\n",
              "  </svg>\n",
              "      </button>\n",
              "      \n",
              "  <style>\n",
              "    .colab-df-container {\n",
              "      display:flex;\n",
              "      flex-wrap:wrap;\n",
              "      gap: 12px;\n",
              "    }\n",
              "\n",
              "    .colab-df-convert {\n",
              "      background-color: #E8F0FE;\n",
              "      border: none;\n",
              "      border-radius: 50%;\n",
              "      cursor: pointer;\n",
              "      display: none;\n",
              "      fill: #1967D2;\n",
              "      height: 32px;\n",
              "      padding: 0 0 0 0;\n",
              "      width: 32px;\n",
              "    }\n",
              "\n",
              "    .colab-df-convert:hover {\n",
              "      background-color: #E2EBFA;\n",
              "      box-shadow: 0px 1px 2px rgba(60, 64, 67, 0.3), 0px 1px 3px 1px rgba(60, 64, 67, 0.15);\n",
              "      fill: #174EA6;\n",
              "    }\n",
              "\n",
              "    [theme=dark] .colab-df-convert {\n",
              "      background-color: #3B4455;\n",
              "      fill: #D2E3FC;\n",
              "    }\n",
              "\n",
              "    [theme=dark] .colab-df-convert:hover {\n",
              "      background-color: #434B5C;\n",
              "      box-shadow: 0px 1px 3px 1px rgba(0, 0, 0, 0.15);\n",
              "      filter: drop-shadow(0px 1px 2px rgba(0, 0, 0, 0.3));\n",
              "      fill: #FFFFFF;\n",
              "    }\n",
              "  </style>\n",
              "\n",
              "      <script>\n",
              "        const buttonEl =\n",
              "          document.querySelector('#df-8be76766-edb9-4bdd-b1e3-2d5e5d2738b5 button.colab-df-convert');\n",
              "        buttonEl.style.display =\n",
              "          google.colab.kernel.accessAllowed ? 'block' : 'none';\n",
              "\n",
              "        async function convertToInteractive(key) {\n",
              "          const element = document.querySelector('#df-8be76766-edb9-4bdd-b1e3-2d5e5d2738b5');\n",
              "          const dataTable =\n",
              "            await google.colab.kernel.invokeFunction('convertToInteractive',\n",
              "                                                     [key], {});\n",
              "          if (!dataTable) return;\n",
              "\n",
              "          const docLinkHtml = 'Like what you see? Visit the ' +\n",
              "            '<a target=\"_blank\" href=https://colab.research.google.com/notebooks/data_table.ipynb>data table notebook</a>'\n",
              "            + ' to learn more about interactive tables.';\n",
              "          element.innerHTML = '';\n",
              "          dataTable['output_type'] = 'display_data';\n",
              "          await google.colab.output.renderOutput(dataTable, element);\n",
              "          const docLink = document.createElement('div');\n",
              "          docLink.innerHTML = docLinkHtml;\n",
              "          element.appendChild(docLink);\n",
              "        }\n",
              "      </script>\n",
              "    </div>\n",
              "  </div>\n",
              "  "
            ],
            "text/plain": [
              "          Nome     Massa Eixo Semi-Maior Descobridor\n",
              "III  Ganimedes  15000000         1070412     Galileu\n",
              "IV     Calisto  11000000         1882729     Galileu\n",
              "I           Io   8900000          421700     Galileu\n",
              "II      Europa   4800000          671034     Galileu"
            ]
          },
          "metadata": {},
          "execution_count": 1
        }
      ]
    },
    {
      "cell_type": "code",
      "source": [
        "df_luas_jp_2 = pd.DataFrame([{'Nome': 'Ganimedes', 'Ordem': 7, 'Inclinacao': 0.204},\n",
        "                           {'Nome': 'Calisto', 'Ordem': 8, 'Inclinacao': 0.205},\n",
        "                           {'Nome': 'Io', 'Ordem': 5, 'Inclinacao': 0.050},\n",
        "                           {'Nome': 'Europa', 'Ordem': 6, 'Inclinacao': 0.471}])\n",
        "df_luas_jp_2\n",
        "df_luas_jupiter = pd.merge(df_luas_jupiter_1, df_luas_jp_2, how='left', left_on='Nome', right_on='Nome')\n",
        "df_luas_jupiter\n",
        "\n",
        "df_luas_jupiter = df_luas_jupiter.set_index(np.array(['III', 'IV', 'I', 'II']))\n",
        "df_luas_jupiter"
      ],
      "metadata": {
        "colab": {
          "base_uri": "https://localhost:8080/",
          "height": 175
        },
        "id": "oAgtzVv9q1JT",
        "outputId": "7836e100-9833-4e85-bc29-ae0dc3490e23"
      },
      "execution_count": null,
      "outputs": [
        {
          "output_type": "execute_result",
          "data": {
            "text/html": [
              "\n",
              "  <div id=\"df-507895bd-54e9-4a49-a549-3629562f2990\">\n",
              "    <div class=\"colab-df-container\">\n",
              "      <div>\n",
              "<style scoped>\n",
              "    .dataframe tbody tr th:only-of-type {\n",
              "        vertical-align: middle;\n",
              "    }\n",
              "\n",
              "    .dataframe tbody tr th {\n",
              "        vertical-align: top;\n",
              "    }\n",
              "\n",
              "    .dataframe thead th {\n",
              "        text-align: right;\n",
              "    }\n",
              "</style>\n",
              "<table border=\"1\" class=\"dataframe\">\n",
              "  <thead>\n",
              "    <tr style=\"text-align: right;\">\n",
              "      <th></th>\n",
              "      <th>Nome</th>\n",
              "      <th>Massa</th>\n",
              "      <th>Eixo Semi-Maior</th>\n",
              "      <th>Descobridor</th>\n",
              "      <th>Ordem</th>\n",
              "      <th>Inclinacao</th>\n",
              "    </tr>\n",
              "  </thead>\n",
              "  <tbody>\n",
              "    <tr>\n",
              "      <th>III</th>\n",
              "      <td>Ganimedes</td>\n",
              "      <td>15000000</td>\n",
              "      <td>1070412</td>\n",
              "      <td>Galileu</td>\n",
              "      <td>7</td>\n",
              "      <td>0.204</td>\n",
              "    </tr>\n",
              "    <tr>\n",
              "      <th>IV</th>\n",
              "      <td>Calisto</td>\n",
              "      <td>11000000</td>\n",
              "      <td>1882729</td>\n",
              "      <td>Galileu</td>\n",
              "      <td>8</td>\n",
              "      <td>0.205</td>\n",
              "    </tr>\n",
              "    <tr>\n",
              "      <th>I</th>\n",
              "      <td>Io</td>\n",
              "      <td>8900000</td>\n",
              "      <td>421700</td>\n",
              "      <td>Galileu</td>\n",
              "      <td>5</td>\n",
              "      <td>0.050</td>\n",
              "    </tr>\n",
              "    <tr>\n",
              "      <th>II</th>\n",
              "      <td>Europa</td>\n",
              "      <td>4800000</td>\n",
              "      <td>671034</td>\n",
              "      <td>Galileu</td>\n",
              "      <td>6</td>\n",
              "      <td>0.471</td>\n",
              "    </tr>\n",
              "  </tbody>\n",
              "</table>\n",
              "</div>\n",
              "      <button class=\"colab-df-convert\" onclick=\"convertToInteractive('df-507895bd-54e9-4a49-a549-3629562f2990')\"\n",
              "              title=\"Convert this dataframe to an interactive table.\"\n",
              "              style=\"display:none;\">\n",
              "        \n",
              "  <svg xmlns=\"http://www.w3.org/2000/svg\" height=\"24px\"viewBox=\"0 0 24 24\"\n",
              "       width=\"24px\">\n",
              "    <path d=\"M0 0h24v24H0V0z\" fill=\"none\"/>\n",
              "    <path d=\"M18.56 5.44l.94 2.06.94-2.06 2.06-.94-2.06-.94-.94-2.06-.94 2.06-2.06.94zm-11 1L8.5 8.5l.94-2.06 2.06-.94-2.06-.94L8.5 2.5l-.94 2.06-2.06.94zm10 10l.94 2.06.94-2.06 2.06-.94-2.06-.94-.94-2.06-.94 2.06-2.06.94z\"/><path d=\"M17.41 7.96l-1.37-1.37c-.4-.4-.92-.59-1.43-.59-.52 0-1.04.2-1.43.59L10.3 9.45l-7.72 7.72c-.78.78-.78 2.05 0 2.83L4 21.41c.39.39.9.59 1.41.59.51 0 1.02-.2 1.41-.59l7.78-7.78 2.81-2.81c.8-.78.8-2.07 0-2.86zM5.41 20L4 18.59l7.72-7.72 1.47 1.35L5.41 20z\"/>\n",
              "  </svg>\n",
              "      </button>\n",
              "      \n",
              "  <style>\n",
              "    .colab-df-container {\n",
              "      display:flex;\n",
              "      flex-wrap:wrap;\n",
              "      gap: 12px;\n",
              "    }\n",
              "\n",
              "    .colab-df-convert {\n",
              "      background-color: #E8F0FE;\n",
              "      border: none;\n",
              "      border-radius: 50%;\n",
              "      cursor: pointer;\n",
              "      display: none;\n",
              "      fill: #1967D2;\n",
              "      height: 32px;\n",
              "      padding: 0 0 0 0;\n",
              "      width: 32px;\n",
              "    }\n",
              "\n",
              "    .colab-df-convert:hover {\n",
              "      background-color: #E2EBFA;\n",
              "      box-shadow: 0px 1px 2px rgba(60, 64, 67, 0.3), 0px 1px 3px 1px rgba(60, 64, 67, 0.15);\n",
              "      fill: #174EA6;\n",
              "    }\n",
              "\n",
              "    [theme=dark] .colab-df-convert {\n",
              "      background-color: #3B4455;\n",
              "      fill: #D2E3FC;\n",
              "    }\n",
              "\n",
              "    [theme=dark] .colab-df-convert:hover {\n",
              "      background-color: #434B5C;\n",
              "      box-shadow: 0px 1px 3px 1px rgba(0, 0, 0, 0.15);\n",
              "      filter: drop-shadow(0px 1px 2px rgba(0, 0, 0, 0.3));\n",
              "      fill: #FFFFFF;\n",
              "    }\n",
              "  </style>\n",
              "\n",
              "      <script>\n",
              "        const buttonEl =\n",
              "          document.querySelector('#df-507895bd-54e9-4a49-a549-3629562f2990 button.colab-df-convert');\n",
              "        buttonEl.style.display =\n",
              "          google.colab.kernel.accessAllowed ? 'block' : 'none';\n",
              "\n",
              "        async function convertToInteractive(key) {\n",
              "          const element = document.querySelector('#df-507895bd-54e9-4a49-a549-3629562f2990');\n",
              "          const dataTable =\n",
              "            await google.colab.kernel.invokeFunction('convertToInteractive',\n",
              "                                                     [key], {});\n",
              "          if (!dataTable) return;\n",
              "\n",
              "          const docLinkHtml = 'Like what you see? Visit the ' +\n",
              "            '<a target=\"_blank\" href=https://colab.research.google.com/notebooks/data_table.ipynb>data table notebook</a>'\n",
              "            + ' to learn more about interactive tables.';\n",
              "          element.innerHTML = '';\n",
              "          dataTable['output_type'] = 'display_data';\n",
              "          await google.colab.output.renderOutput(dataTable, element);\n",
              "          const docLink = document.createElement('div');\n",
              "          docLink.innerHTML = docLinkHtml;\n",
              "          element.appendChild(docLink);\n",
              "        }\n",
              "      </script>\n",
              "    </div>\n",
              "  </div>\n",
              "  "
            ],
            "text/plain": [
              "          Nome     Massa Eixo Semi-Maior Descobridor  Ordem  Inclinacao\n",
              "III  Ganimedes  15000000         1070412     Galileu      7       0.204\n",
              "IV     Calisto  11000000         1882729     Galileu      8       0.205\n",
              "I           Io   8900000          421700     Galileu      5       0.050\n",
              "II      Europa   4800000          671034     Galileu      6       0.471"
            ]
          },
          "metadata": {},
          "execution_count": 8
        }
      ]
    },
    {
      "cell_type": "code",
      "source": [
        "meu_array = np.arange(66)\n",
        "meu_array.resize((5,4))\n",
        "meu_array"
      ],
      "metadata": {
        "colab": {
          "base_uri": "https://localhost:8080/"
        },
        "id": "yleCex9eS2v6",
        "outputId": "6c667c84-ddff-49b3-d988-9d1c04f9bcd7"
      },
      "execution_count": null,
      "outputs": [
        {
          "output_type": "execute_result",
          "data": {
            "text/plain": [
              "array([[ 0,  1,  2,  3],\n",
              "       [ 4,  5,  6,  7],\n",
              "       [ 8,  9, 10, 11],\n",
              "       [12, 13, 14, 15],\n",
              "       [16, 17, 18, 19]])"
            ]
          },
          "metadata": {},
          "execution_count": 9
        }
      ]
    },
    {
      "cell_type": "markdown",
      "source": [
        "#Estatística Descritiva e Distribuições"
      ],
      "metadata": {
        "id": "V0ZCX3JAtvDk"
      }
    },
    {
      "cell_type": "markdown",
      "source": [
        "##Estatística Descritiva"
      ],
      "metadata": {
        "id": "KYrXLNxqt2z_"
      }
    },
    {
      "cell_type": "code",
      "source": [
        "import pandas as pd\n",
        "\n",
        "arquivo = '/content/mamalia_sleep.csv'\n",
        "\n",
        "df_mamiferos = pd.read_csv(arquivo)\n",
        "\n",
        "df_mamiferos.describe()\n"
      ],
      "metadata": {
        "id": "jFRNbQ0JUKrw"
      },
      "execution_count": null,
      "outputs": []
    },
    {
      "cell_type": "code",
      "source": [
        "sono = df_mamiferos[\"sleep_total\"]\n",
        "sono.describe()"
      ],
      "metadata": {
        "id": "9r06PfLBcNs6"
      },
      "execution_count": null,
      "outputs": []
    },
    {
      "cell_type": "code",
      "source": [
        "sono2 = df_mamiferos[df_mamiferos['name'] != 'Horse']['sleep_total']\n",
        "sono2.describe()\n",
        "sono2.quantile(.75) #13.775000000000002"
      ],
      "metadata": {
        "id": "68MOWdzIdqdn"
      },
      "execution_count": null,
      "outputs": []
    },
    {
      "cell_type": "code",
      "source": [
        "import numpy as np\n",
        "import pandas as pd\n",
        "import matplotlib.pyplot as plt\n"
      ],
      "metadata": {
        "id": "DVK2QXdOiJkl"
      },
      "execution_count": null,
      "outputs": []
    },
    {
      "cell_type": "code",
      "source": [
        "np.percentile(sono2, 75, interpolation=\"midpoint\") #13.75\n",
        "np.percentile(sono2, 75, interpolation=\"lower\") #13.7\n",
        "np.percentile(sono2, 75, interpolation=\"higher\") #13.8\n",
        "np.percentile(sono2, 75, interpolation=\"nearest\") #13.8\n",
        "np.percentile(sono2, 75, interpolation=\"linear\") #13.775000000000002"
      ],
      "metadata": {
        "colab": {
          "base_uri": "https://localhost:8080/"
        },
        "id": "WU71TvjRiPLD",
        "outputId": "b1f41060-36ca-4cab-ab56-bc24d3d0dcce"
      },
      "execution_count": null,
      "outputs": [
        {
          "output_type": "execute_result",
          "data": {
            "text/plain": [
              "13.775000000000002"
            ]
          },
          "metadata": {},
          "execution_count": 18
        }
      ]
    },
    {
      "cell_type": "markdown",
      "source": [
        "###Variância"
      ],
      "metadata": {
        "id": "dPVKmyDIk4Hh"
      }
    },
    {
      "cell_type": "code",
      "source": [
        "sono.var() #19.805677343520422\n",
        "sono.std() #4.4503569905705795"
      ],
      "metadata": {
        "colab": {
          "base_uri": "https://localhost:8080/"
        },
        "id": "RI5f1C9Vk6tu",
        "outputId": "259d536d-350a-4d40-b78d-ba89f929c0b8"
      },
      "execution_count": null,
      "outputs": [
        {
          "output_type": "execute_result",
          "data": {
            "text/plain": [
              "4.4503569905705795"
            ]
          },
          "metadata": {},
          "execution_count": 20
        }
      ]
    },
    {
      "cell_type": "code",
      "source": [
        "sono.plot(kind=\"hist\", bins=15)\n",
        "plt.xlabel(\"Horas de Sono Diárias\")"
      ],
      "metadata": {
        "colab": {
          "base_uri": "https://localhost:8080/",
          "height": 296
        },
        "id": "mPP2xgmYlXKo",
        "outputId": "9f039f93-be1f-4864-be3a-49696ff677a5"
      },
      "execution_count": null,
      "outputs": [
        {
          "output_type": "execute_result",
          "data": {
            "text/plain": [
              "Text(0.5, 0, 'Horas de Sono Diárias')"
            ]
          },
          "metadata": {},
          "execution_count": 24
        },
        {
          "output_type": "display_data",
          "data": {
            "image/png": "[encoded data removed]",
            "text/plain": [
              "<Figure size 432x288 with 1 Axes>"
            ]
          },
          "metadata": {
            "needs_background": "light"
          }
        }
      ]
    },
    {
      "cell_type": "code",
      "source": [
        "sono.plot(kind=\"box\")"
      ],
      "metadata": {
        "colab": {
          "base_uri": "https://localhost:8080/",
          "height": 283
        },
        "id": "d-csLAJNmfUc",
        "outputId": "7d8f65e5-3a87-4754-bf99-2a5b5970ee58"
      },
      "execution_count": null,
      "outputs": [
        {
          "output_type": "execute_result",
          "data": {
            "text/plain": [
              "<matplotlib.axes._subplots.AxesSubplot at 0x7f31097c2bd0>"
            ]
          },
          "metadata": {},
          "execution_count": 25
        },
        {
          "output_type": "display_data",
          "data": {
            "image/png": "[encoded data removed]",
            "text/plain": [
              "<Figure size 432x288 with 1 Axes>"
            ]
          },
          "metadata": {
            "needs_background": "light"
          }
        }
      ]
    },
    {
      "cell_type": "code",
      "source": [
        "sono_ordem = df_mamiferos.groupby(\"order\")[\"sleep_total\"].mean()\n",
        "sono_ordem.plot(kind='bar')"
      ],
      "metadata": {
        "colab": {
          "base_uri": "https://localhost:8080/",
          "height": 369
        },
        "id": "wn9CwR7im84W",
        "outputId": "48e05afe-10d0-43b8-a916-318b9a6c34fe"
      },
      "execution_count": null,
      "outputs": [
        {
          "output_type": "execute_result",
          "data": {
            "text/plain": [
              "<matplotlib.axes._subplots.AxesSubplot at 0x7f310a332810>"
            ]
          },
          "metadata": {},
          "execution_count": 31
        },
        {
          "output_type": "display_data",
          "data": {
            "image/png": "[encoded data removed]",
            "text/plain": [
              "<Figure size 432x288 with 1 Axes>"
            ]
          },
          "metadata": {
            "needs_background": "light"
          }
        }
      ]
    },
    {
      "cell_type": "code",
      "source": [
        "sono_ordem.sort_values()[-7:].plot(kind='bar')\n",
        "plt.ylabel(\"Média de Horas de Sono\")"
      ],
      "metadata": {
        "colab": {
          "base_uri": "https://localhost:8080/",
          "height": 369
        },
        "id": "nigG1VeGqRBW",
        "outputId": "e23bb3a8-c839-4cb9-be10-b96fd9ca9b78"
      },
      "execution_count": null,
      "outputs": [
        {
          "output_type": "execute_result",
          "data": {
            "text/plain": [
              "Text(0, 0.5, 'Média de Horas de Sono')"
            ]
          },
          "metadata": {},
          "execution_count": 36
        },
        {
          "output_type": "display_data",
          "data": {
            "image/png": "[encoded data removed]",
            "text/plain": [
              "<Figure size 432x288 with 1 Axes>"
            ]
          },
          "metadata": {
            "needs_background": "light"
          }
        }
      ]
    },
    {
      "cell_type": "markdown",
      "source": [
        "### Atividade"
      ],
      "metadata": {
        "id": "kR1XcLWG-2nF"
      }
    },
    {
      "cell_type": "code",
      "source": [
        "lista = pd.DataFrame([5, 12, 7, 22, 64, 15, 13, 41, 42, 27])\n",
        "np.percentile(lista, 95, interpolation=\"linear\")"
      ],
      "metadata": {
        "colab": {
          "base_uri": "https://localhost:8080/"
        },
        "id": "luv4jaZ1-4jk",
        "outputId": "5171a40d-5d18-45ec-b650-3518aa43e9b4"
      },
      "execution_count": null,
      "outputs": [
        {
          "output_type": "execute_result",
          "data": {
            "text/plain": [
              "54.09999999999998"
            ]
          },
          "metadata": {},
          "execution_count": 4
        }
      ]
    },
    {
      "cell_type": "markdown",
      "source": [
        "##Médias: Aritiméticas, Ponderadas, Geométricas e Harmônicas"
      ],
      "metadata": {
        "id": "UAPeU7oSNJLX"
      }
    },
    {
      "cell_type": "code",
      "source": [
        "#Bibliotecas\n",
        "import pandas as pd\n",
        "import numpy as np\n"
      ],
      "metadata": {
        "id": "FA_LHhC8NT_W"
      },
      "execution_count": 1,
      "outputs": []
    },
    {
      "cell_type": "code",
      "source": [
        "#Importando arquivo\n",
        "arquivo = '/content/mamalia_sleep.csv'\n",
        "\n",
        "df_mamiferos = pd.read_csv(arquivo)"
      ],
      "metadata": {
        "id": "YvJB_BpmNrTa"
      },
      "execution_count": 2,
      "outputs": []
    },
    {
      "cell_type": "code",
      "source": [
        "sono = df_mamiferos[\"sleep_total\"]\n"
      ],
      "metadata": {
        "id": "1jfyeWujNuz9"
      },
      "execution_count": 3,
      "outputs": []
    },
    {
      "cell_type": "markdown",
      "source": [
        "### Media Aritimética"
      ],
      "metadata": {
        "id": "SbgquRLUsNp8"
      }
    },
    {
      "cell_type": "code",
      "source": [
        "media_aritimetica = sono.mean()\n",
        "media_aritimetica"
      ],
      "metadata": {
        "colab": {
          "base_uri": "https://localhost:8080/"
        },
        "id": "tHbZzBVOsNT3",
        "outputId": "c39bebca-afba-4b23-d583-c88a43a7b3a6"
      },
      "execution_count": 5,
      "outputs": [
        {
          "output_type": "execute_result",
          "data": {
            "text/plain": [
              "10.433734939759033"
            ]
          },
          "metadata": {},
          "execution_count": 5
        }
      ]
    },
    {
      "cell_type": "markdown",
      "source": [
        "###Média Ponderada"
      ],
      "metadata": {
        "id": "dfPQizbBsYwV"
      }
    },
    {
      "cell_type": "code",
      "source": [
        "peso = df_mamiferos[\"bodywt\"]\n",
        "peso = np.ceil(peso)\n",
        "\n",
        "media_ponderada = (sono * peso).sum() / peso.sum()\n",
        "media_ponderada"
      ],
      "metadata": {
        "colab": {
          "base_uri": "https://localhost:8080/"
        },
        "id": "C68-liSbsajL",
        "outputId": "0cee9a2d-2870-42e6-ce0d-e4d98ca4e89d"
      },
      "execution_count": 9,
      "outputs": [
        {
          "output_type": "execute_result",
          "data": {
            "text/plain": [
              "3.9604106419895886"
            ]
          },
          "metadata": {},
          "execution_count": 9
        }
      ]
    },
    {
      "cell_type": "markdown",
      "source": [
        "###Média Geométrica"
      ],
      "metadata": {
        "id": "PHCmw1HItXWf"
      }
    },
    {
      "cell_type": "code",
      "source": [
        "from scipy.stats.mstats import gmean\n",
        "\n",
        "media_geometrica = gmean(sono)\n",
        "media_geometrica"
      ],
      "metadata": {
        "colab": {
          "base_uri": "https://localhost:8080/"
        },
        "id": "lTgmmI_RtZom",
        "outputId": "79e4644b-90f9-48b0-ecd7-28a75ac8cb00"
      },
      "execution_count": 11,
      "outputs": [
        {
          "output_type": "execute_result",
          "data": {
            "text/plain": [
              "9.292349244225905"
            ]
          },
          "metadata": {},
          "execution_count": 11
        }
      ]
    },
    {
      "cell_type": "code",
      "source": [
        "from scipy.stats.mstats import hmean\n",
        "\n",
        "media_harmonica = hmean(sono)\n",
        "media_harmonica"
      ],
      "metadata": {
        "colab": {
          "base_uri": "https://localhost:8080/"
        },
        "id": "c3QMeSg_t8q9",
        "outputId": "e2266dc6-4ace-4782-ab96-57074c267415"
      },
      "execution_count": 12,
      "outputs": [
        {
          "output_type": "execute_result",
          "data": {
            "text/plain": [
              "7.9200588547764585"
            ]
          },
          "metadata": {},
          "execution_count": 12
        }
      ]
    },
    {
      "cell_type": "markdown",
      "source": [
        ""
      ],
      "metadata": {
        "id": "q26CpGJbtXVN"
      }
    }
  ]
}